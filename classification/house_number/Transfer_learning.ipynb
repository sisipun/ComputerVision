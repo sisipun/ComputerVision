{
  "nbformat": 4,
  "nbformat_minor": 0,
  "metadata": {
    "colab": {
      "name": "Transfer learning.ipynb",
      "provenance": []
    },
    "kernelspec": {
      "name": "python3",
      "display_name": "Python 3"
    },
    "accelerator": "GPU"
  },
  "cells": [
    {
      "cell_type": "code",
      "metadata": {
        "id": "ND7hNdtjC-na",
        "colab_type": "code",
        "colab": {
          "base_uri": "https://localhost:8080/",
          "height": 104
        },
        "outputId": "41702370-e7c9-4ba0-b01d-c9c04d310056"
      },
      "source": [
        "!pip3 install torch torchvision"
      ],
      "execution_count": 28,
      "outputs": [
        {
          "output_type": "stream",
          "text": [
            "Requirement already satisfied: torch in /usr/local/lib/python3.6/dist-packages (1.4.0)\n",
            "Requirement already satisfied: torchvision in /usr/local/lib/python3.6/dist-packages (0.5.0)\n",
            "Requirement already satisfied: numpy in /usr/local/lib/python3.6/dist-packages (from torchvision) (1.17.5)\n",
            "Requirement already satisfied: six in /usr/local/lib/python3.6/dist-packages (from torchvision) (1.12.0)\n",
            "Requirement already satisfied: pillow>=4.1.1 in /usr/local/lib/python3.6/dist-packages (from torchvision) (6.2.2)\n"
          ],
          "name": "stdout"
        }
      ]
    },
    {
      "cell_type": "code",
      "metadata": {
        "id": "ch-fogdHHT8K",
        "colab_type": "code",
        "colab": {}
      },
      "source": [
        "import torch\n",
        "import torchvision\n",
        "import torchvision.datasets as tds\n",
        "import torch.nn as nn\n",
        "import torch.optim as optim\n",
        "\n",
        "import matplotlib.pyplot as plt\n",
        "import numpy as np\n",
        "import PIL\n",
        "import json\n",
        "import urllib\n",
        "\n",
        "from torchvision import transforms\n",
        "from torchvision import models"
      ],
      "execution_count": 0,
      "outputs": []
    },
    {
      "cell_type": "code",
      "metadata": {
        "id": "ihA5IEnFHU_l",
        "colab_type": "code",
        "colab": {}
      },
      "source": [
        "device = torch.device(\"cuda:0\")"
      ],
      "execution_count": 0,
      "outputs": []
    },
    {
      "cell_type": "code",
      "metadata": {
        "id": "uba7hJxMHXZp",
        "colab_type": "code",
        "colab": {
          "base_uri": "https://localhost:8080/",
          "height": 52
        },
        "outputId": "806dc9d3-2ecc-4476-abc2-8cc490682e62"
      },
      "source": [
        "tfs = transforms.Compose([\n",
        "    transforms.ColorJitter(hue=.20, saturation=.20),\n",
        "    transforms.RandomRotation(10, resample=PIL.Image.BILINEAR),\n",
        "    transforms.ToTensor(),\n",
        "    transforms.Normalize(mean=[0.43,0.44,0.47], std=[0.20,0.20,0.20])                           \n",
        "])\n",
        "\n",
        "data_train = tds.SVHN('./', \n",
        "                       transform = tfs,\n",
        "                       download=True)\n",
        "\n",
        "data_test = tds.SVHN('./', \n",
        "                      split='test', \n",
        "                      transform = tfs,\n",
        "                      download=True)"
      ],
      "execution_count": 31,
      "outputs": [
        {
          "output_type": "stream",
          "text": [
            "Using downloaded and verified file: ./train_32x32.mat\n",
            "Using downloaded and verified file: ./test_32x32.mat\n"
          ],
          "name": "stdout"
        }
      ]
    },
    {
      "cell_type": "code",
      "metadata": {
        "id": "q9LNqaFWHYEq",
        "colab_type": "code",
        "colab": {}
      },
      "source": [
        "batch_size = 64\n",
        "\n",
        "validation_size = .2\n",
        "\n",
        "data_size = data_train.data.shape[0]\n",
        "split = int(np.floor(validation_size * data_size))\n",
        "indices = list(range(data_size))\n",
        "np.random.shuffle(indices)\n",
        "\n",
        "train_indices, val_indices = indices[:split], indices[split:]\n",
        "\n",
        "train_sampler = torch.utils.data.sampler.SubsetRandomSampler(train_indices)\n",
        "val_sampler = torch.utils.data.sampler.SubsetRandomSampler(val_indices)\n",
        "\n",
        "train_loader = torch.utils.data.DataLoader(data_train, batch_size=batch_size, sampler=train_sampler)\n",
        "val_loader = torch.utils.data.DataLoader(data_train, batch_size=batch_size, sampler=val_sampler)"
      ],
      "execution_count": 0,
      "outputs": []
    },
    {
      "cell_type": "code",
      "metadata": {
        "id": "4BwpBk_EIXUZ",
        "colab_type": "code",
        "colab": {
          "base_uri": "https://localhost:8080/",
          "height": 243
        },
        "outputId": "1ad19f9a-9ec2-49ef-e979-2c2a58386a94"
      },
      "source": [
        "def load_imagenet_classes():\n",
        "    classes_json = urllib.request.urlopen('https://s3.amazonaws.com/deep-learning-models/image-models/imagenet_class_index.json').read()\n",
        "    classes = json.loads(classes_json)\n",
        "    return { int(k): v[-1] for k, v in classes.items()}\n",
        "\n",
        "def visualize(tensor_data, orig_data, model, classes, count=10):\n",
        "  plt.figure(figsize=(count * 3, 3))\n",
        "  for i, (X, y) in enumerate(tensor_data):\n",
        "    if i == count:\n",
        "      break\n",
        "    plt.subplot(1, count, i + 1)\n",
        "\n",
        "    img, _ = orig_data[i]\n",
        "    x_gpu = X.to(device)\n",
        "\n",
        "    prediction = model(torch.unsqueeze(x_gpu, 0))\n",
        "    y_hat = torch.argmax(prediction, 1)\n",
        "    class_index = int(y_hat)\n",
        "\n",
        "    plt.title(classes[class_index])\n",
        "    plt.imshow(img)\n",
        "\n",
        "model = models.resnet18(pretrained=True)\n",
        "model.type(torch.cuda.FloatTensor)\n",
        "model.to(device)\n",
        "model.eval()\n",
        "\n",
        "classes = load_imagenet_classes()\n",
        "visualize(data_train, tds.SVHN('./', download=True), model, classes)"
      ],
      "execution_count": 33,
      "outputs": [
        {
          "output_type": "stream",
          "text": [
            "Using downloaded and verified file: ./train_32x32.mat\n"
          ],
          "name": "stdout"
        },
        {
          "output_type": "display_data",
          "data": {
            "image/png": "[encoded data removed]",
            "text/plain": [
              "<Figure size 2160x216 with 10 Axes>"
            ]
          },
          "metadata": {
            "tags": []
          }
        }
      ]
    },
    {
      "cell_type": "code",
      "metadata": {
        "id": "iqWngJFCITIW",
        "colab_type": "code",
        "colab": {}
      },
      "source": [
        "def train_model(model, train_loader, val_loader, loss, optimizer,  scheduler=None, num_epochs=20):\n",
        "  train_loss_history = []\n",
        "  train_history = []\n",
        "  val_loss_histroy = []\n",
        "  val_histroy = []\n",
        "\n",
        "  for i_epoch in range(num_epochs):\n",
        "    model.train()\n",
        "\n",
        "    train_loss_sum = 0\n",
        "    correct_samples = 0\n",
        "    all_samples = 0\n",
        "\n",
        "    for i_step, (x, y) in enumerate(train_loader):\n",
        "      x_gpu = x.to(device)\n",
        "      y_gpu = y.to(device)\n",
        "      prediction = model(x_gpu)\n",
        "      step_loss = loss(prediction, y_gpu)\n",
        "      optimizer.zero_grad()\n",
        "      step_loss.backward()\n",
        "      optimizer.step()\n",
        "\n",
        "      y_hat = torch.argmax(prediction, 1)\n",
        "      correct_samples += float(torch.sum(y_hat == y_gpu))\n",
        "      all_samples += y.shape[0]\n",
        "      train_loss_sum += step_loss\n",
        "    \n",
        "    train_loss = train_loss_sum / i_step\n",
        "    train_accuracy = correct_samples / all_samples\n",
        "    val_loss, val_accuracy = compute_accuracy(model, val_loader, loss)\n",
        "    if scheduler:\n",
        "      scheduler.step(val_loss)\n",
        "\n",
        "    train_loss_history.append(train_loss)\n",
        "    val_loss_histroy.append(val_loss)\n",
        "    train_history.append(train_accuracy)\n",
        "    val_histroy.append(val_accuracy)\n",
        "\n",
        "    print('Epoch num: %f, Train loss: %f, Val loss: %f, Train accuracy: %f, Validation accuracy: %f' % (i_epoch, train_loss, val_loss, train_accuracy, val_accuracy))\n",
        "  \n",
        "  return train_loss_history, val_loss, train_history, val_histroy\n",
        "\n",
        "def compute_accuracy(model, loader, loss):\n",
        "  model.eval()\n",
        "\n",
        "  correct_samples = 0\n",
        "  all_samples = 0\n",
        "  loss_sum = 0\n",
        "\n",
        "  for i_step, (x, y) in enumerate(loader):\n",
        "    x_gpu = x.to(device)\n",
        "    y_gpu = y.to(device)\n",
        "\n",
        "    prediction = model(x_gpu)\n",
        "    y_hat = torch.argmax(prediction, 1)\n",
        "\n",
        "    loss_val = loss(prediction, y_gpu)\n",
        "    loss_sum += float(loss_val)\n",
        "\n",
        "    correct_samples += float(torch.sum(y_hat == y_gpu))\n",
        "    all_samples += y.shape[0]\n",
        "    \n",
        "  avg_loss = loss_sum / i_step\n",
        "  accuracy = correct_samples / all_samples\n",
        "\n",
        "  return avg_loss, accuracy"
      ],
      "execution_count": 0,
      "outputs": []
    },
    {
      "cell_type": "code",
      "metadata": {
        "id": "enfJahUiKGW5",
        "colab_type": "code",
        "colab": {}
      },
      "source": [
        "model = models.resnet18(pretrained=True)\n",
        "\n",
        "num_features = model.fc.in_features\n",
        "model.fc = nn.Linear(num_features, 10)\n",
        "\n",
        "model.type(torch.cuda.FloatTensor)\n",
        "model.to(device)\n",
        "\n",
        "loss = nn.CrossEntropyLoss().type(torch.cuda.FloatTensor)\n",
        "optimizer = optim.Adam(model.parameters(), lr=1e-3, weight_decay=1e-4)\n",
        "scheduler = optim.lr_scheduler.ReduceLROnPlateau(optimizer, factor=0.1, patience=5)"
      ],
      "execution_count": 0,
      "outputs": []
    },
    {
      "cell_type": "code",
      "metadata": {
        "id": "o2EpY8ojRqL-",
        "colab_type": "code",
        "colab": {
          "base_uri": "https://localhost:8080/",
          "height": 345
        },
        "outputId": "33f6fb86-3fac-4346-f835-c34931644d19"
      },
      "source": [
        "train_loss_history, val_loss, train_history, val_histroy = train_model(model, train_loader, val_loader, loss, optimizer, scheduler, 30)"
      ],
      "execution_count": 49,
      "outputs": [
        {
          "output_type": "stream",
          "text": [
            "Epoch num: 0.000000, Train loss: 0.234481, Val loss: 0.404998, Train accuracy: 0.930790, Validation accuracy: 0.881923\n",
            "Epoch num: 1.000000, Train loss: 0.228763, Val loss: 0.379147, Train accuracy: 0.932291, Validation accuracy: 0.890148\n"
          ],
          "name": "stdout"
        },
        {
          "output_type": "error",
          "ename": "KeyboardInterrupt",
          "evalue": "ignored",
          "traceback": [
            "\u001b[0;31m---------------------------------------------------------------------------\u001b[0m",
            "\u001b[0;31mKeyboardInterrupt\u001b[0m                         Traceback (most recent call last)",
            "\u001b[0;32m<ipython-input-49-8a08122654f4>\u001b[0m in \u001b[0;36m<module>\u001b[0;34m()\u001b[0m\n\u001b[0;32m----> 1\u001b[0;31m \u001b[0mtrain_loss_history\u001b[0m\u001b[0;34m,\u001b[0m \u001b[0mval_loss\u001b[0m\u001b[0;34m,\u001b[0m \u001b[0mtrain_history\u001b[0m\u001b[0;34m,\u001b[0m \u001b[0mval_histroy\u001b[0m \u001b[0;34m=\u001b[0m \u001b[0mtrain_model\u001b[0m\u001b[0;34m(\u001b[0m\u001b[0mmodel\u001b[0m\u001b[0;34m,\u001b[0m \u001b[0mtrain_loader\u001b[0m\u001b[0;34m,\u001b[0m \u001b[0mval_loader\u001b[0m\u001b[0;34m,\u001b[0m \u001b[0mloss\u001b[0m\u001b[0;34m,\u001b[0m \u001b[0moptimizer\u001b[0m\u001b[0;34m,\u001b[0m \u001b[0mscheduler\u001b[0m\u001b[0;34m,\u001b[0m \u001b[0;36m30\u001b[0m\u001b[0;34m)\u001b[0m\u001b[0;34m\u001b[0m\u001b[0;34m\u001b[0m\u001b[0m\n\u001b[0m",
            "\u001b[0;32m<ipython-input-48-930d1cb674de>\u001b[0m in \u001b[0;36mtrain_model\u001b[0;34m(model, train_loader, val_loader, loss, optimizer, scheduler, num_epochs)\u001b[0m\n\u001b[1;32m     28\u001b[0m     \u001b[0mtrain_loss\u001b[0m \u001b[0;34m=\u001b[0m \u001b[0mtrain_loss_sum\u001b[0m \u001b[0;34m/\u001b[0m \u001b[0mi_step\u001b[0m\u001b[0;34m\u001b[0m\u001b[0;34m\u001b[0m\u001b[0m\n\u001b[1;32m     29\u001b[0m     \u001b[0mtrain_accuracy\u001b[0m \u001b[0;34m=\u001b[0m \u001b[0mcorrect_samples\u001b[0m \u001b[0;34m/\u001b[0m \u001b[0mall_samples\u001b[0m\u001b[0;34m\u001b[0m\u001b[0;34m\u001b[0m\u001b[0m\n\u001b[0;32m---> 30\u001b[0;31m     \u001b[0mval_loss\u001b[0m\u001b[0;34m,\u001b[0m \u001b[0mval_accuracy\u001b[0m \u001b[0;34m=\u001b[0m \u001b[0mcompute_accuracy\u001b[0m\u001b[0;34m(\u001b[0m\u001b[0mmodel\u001b[0m\u001b[0;34m,\u001b[0m \u001b[0mval_loader\u001b[0m\u001b[0;34m,\u001b[0m \u001b[0mloss\u001b[0m\u001b[0;34m)\u001b[0m\u001b[0;34m\u001b[0m\u001b[0;34m\u001b[0m\u001b[0m\n\u001b[0m\u001b[1;32m     31\u001b[0m     \u001b[0;32mif\u001b[0m \u001b[0mscheduler\u001b[0m\u001b[0;34m:\u001b[0m\u001b[0;34m\u001b[0m\u001b[0;34m\u001b[0m\u001b[0m\n\u001b[1;32m     32\u001b[0m       \u001b[0mscheduler\u001b[0m\u001b[0;34m.\u001b[0m\u001b[0mstep\u001b[0m\u001b[0;34m(\u001b[0m\u001b[0mval_loss\u001b[0m\u001b[0;34m)\u001b[0m\u001b[0;34m\u001b[0m\u001b[0;34m\u001b[0m\u001b[0m\n",
            "\u001b[0;32m<ipython-input-48-930d1cb674de>\u001b[0m in \u001b[0;36mcompute_accuracy\u001b[0;34m(model, loader, loss)\u001b[0m\n\u001b[1;32m     56\u001b[0m \u001b[0;34m\u001b[0m\u001b[0m\n\u001b[1;32m     57\u001b[0m     \u001b[0mloss_val\u001b[0m \u001b[0;34m=\u001b[0m \u001b[0mloss\u001b[0m\u001b[0;34m(\u001b[0m\u001b[0mprediction\u001b[0m\u001b[0;34m,\u001b[0m \u001b[0my_gpu\u001b[0m\u001b[0;34m)\u001b[0m\u001b[0;34m\u001b[0m\u001b[0;34m\u001b[0m\u001b[0m\n\u001b[0;32m---> 58\u001b[0;31m     \u001b[0mloss_sum\u001b[0m \u001b[0;34m+=\u001b[0m \u001b[0mfloat\u001b[0m\u001b[0;34m(\u001b[0m\u001b[0mloss_val\u001b[0m\u001b[0;34m)\u001b[0m\u001b[0;34m\u001b[0m\u001b[0;34m\u001b[0m\u001b[0m\n\u001b[0m\u001b[1;32m     59\u001b[0m \u001b[0;34m\u001b[0m\u001b[0m\n\u001b[1;32m     60\u001b[0m     \u001b[0mcorrect_samples\u001b[0m \u001b[0;34m+=\u001b[0m \u001b[0mfloat\u001b[0m\u001b[0;34m(\u001b[0m\u001b[0mtorch\u001b[0m\u001b[0;34m.\u001b[0m\u001b[0msum\u001b[0m\u001b[0;34m(\u001b[0m\u001b[0my_hat\u001b[0m \u001b[0;34m==\u001b[0m \u001b[0my_gpu\u001b[0m\u001b[0;34m)\u001b[0m\u001b[0;34m)\u001b[0m\u001b[0;34m\u001b[0m\u001b[0;34m\u001b[0m\u001b[0m\n",
            "\u001b[0;31mKeyboardInterrupt\u001b[0m: "
          ]
        }
      ]
    },
    {
      "cell_type": "code",
      "metadata": {
        "id": "EAyy-d5DVgME",
        "colab_type": "code",
        "colab": {
          "base_uri": "https://localhost:8080/",
          "height": 34
        },
        "outputId": "85cac7f8-30dc-434b-d7d9-f30a22ae23a9"
      },
      "source": [
        "test_loader = torch.utils.data.DataLoader(data_test)\n",
        "_, test_accuracy = compute_accuracy(model, test_loader, loss)\n",
        "print('Test accuracy: %f' % (test_accuracy))"
      ],
      "execution_count": 37,
      "outputs": [
        {
          "output_type": "stream",
          "text": [
            "Test accuracy: 0.915297\n"
          ],
          "name": "stdout"
        }
      ]
    },
    {
      "cell_type": "code",
      "metadata": {
        "id": "LHoU4ItfYeKq",
        "colab_type": "code",
        "colab": {}
      },
      "source": [
        "model_last = models.resnet18(pretrained=True)\n",
        "\n",
        "for param in model_last.parameters():\n",
        "    param.requires_grad = False\n",
        "\n",
        "old_fc = model_last.fc\n",
        "model_last.fc = nn.Linear(old_fc.in_features, 10)\n",
        "\n",
        "model_last.type(torch.cuda.FloatTensor)\n",
        "model_last.to(device)\n",
        "\n",
        "parameters = model_last.fc.parameters()\n",
        "\n",
        "loss = nn.CrossEntropyLoss().type(torch.cuda.FloatTensor)\n",
        "optimizer = optim.Adam(parameters, lr=1e-3, weight_decay=1e-4)\n",
        "scheduler = optim.lr_scheduler.ReduceLROnPlateau(optimizer, factor=0.1, patience=5)"
      ],
      "execution_count": 0,
      "outputs": []
    },
    {
      "cell_type": "code",
      "metadata": {
        "id": "Srt2lgr3Yze1",
        "colab_type": "code",
        "colab": {
          "base_uri": "https://localhost:8080/",
          "height": 538
        },
        "outputId": "cbaafa1a-5a17-4226-eeac-ae8648ee82d6"
      },
      "source": [
        "train_loss_history, val_loss, train_history, val_histroy = train_model(model_last, train_loader, val_loader, loss, optimizer, scheduler, 30)"
      ],
      "execution_count": 51,
      "outputs": [
        {
          "output_type": "stream",
          "text": [
            "Epoch num: 0.000000, Train loss: 2.204170, Val loss: 2.085341, Train accuracy: 0.230223, Validation accuracy: 0.270450\n",
            "Epoch num: 1.000000, Train loss: 2.074159, Val loss: 2.072629, Train accuracy: 0.272405, Validation accuracy: 0.277258\n",
            "Epoch num: 2.000000, Train loss: 2.054782, Val loss: 2.044385, Train accuracy: 0.281687, Validation accuracy: 0.287667\n",
            "Epoch num: 3.000000, Train loss: 2.038094, Val loss: 2.049640, Train accuracy: 0.287830, Validation accuracy: 0.289748\n",
            "Epoch num: 4.000000, Train loss: 2.020159, Val loss: 2.029284, Train accuracy: 0.293768, Validation accuracy: 0.292427\n",
            "Epoch num: 5.000000, Train loss: 2.022080, Val loss: 2.022994, Train accuracy: 0.296362, Validation accuracy: 0.298775\n",
            "Epoch num: 6.000000, Train loss: 2.016235, Val loss: 2.026927, Train accuracy: 0.302027, Validation accuracy: 0.297802\n",
            "Epoch num: 7.000000, Train loss: 2.023051, Val loss: 2.037034, Train accuracy: 0.300662, Validation accuracy: 0.287206\n",
            "Epoch num: 8.000000, Train loss: 2.015801, Val loss: 2.022589, Train accuracy: 0.297454, Validation accuracy: 0.299713\n",
            "Epoch num: 9.000000, Train loss: 2.010968, Val loss: 2.012847, Train accuracy: 0.302983, Validation accuracy: 0.301488\n",
            "Epoch num: 10.000000, Train loss: 2.002287, Val loss: 2.021843, Train accuracy: 0.302232, Validation accuracy: 0.302102\n",
            "Epoch num: 11.000000, Train loss: 2.003433, Val loss: 2.035470, Train accuracy: 0.298546, Validation accuracy: 0.300123\n",
            "Epoch num: 12.000000, Train loss: 2.008388, Val loss: 2.038352, Train accuracy: 0.303461, Validation accuracy: 0.297734\n",
            "Epoch num: 13.000000, Train loss: 2.000325, Val loss: 2.014124, Train accuracy: 0.310559, Validation accuracy: 0.303894\n",
            "Epoch num: 14.000000, Train loss: 2.004385, Val loss: 2.016834, Train accuracy: 0.300321, Validation accuracy: 0.302205\n",
            "Epoch num: 15.000000, Train loss: 2.004924, Val loss: 2.008816, Train accuracy: 0.301891, Validation accuracy: 0.306231\n",
            "Epoch num: 16.000000, Train loss: 2.011595, Val loss: 2.026585, Train accuracy: 0.294451, Validation accuracy: 0.298672\n",
            "Epoch num: 17.000000, Train loss: 2.014866, Val loss: 2.005320, Train accuracy: 0.298819, Validation accuracy: 0.304628\n",
            "Epoch num: 18.000000, Train loss: 2.014275, Val loss: 2.037747, Train accuracy: 0.295611, Validation accuracy: 0.293724\n",
            "Epoch num: 19.000000, Train loss: 2.016702, Val loss: 2.018172, Train accuracy: 0.296294, Validation accuracy: 0.296796\n",
            "Epoch num: 20.000000, Train loss: 2.004164, Val loss: 2.021419, Train accuracy: 0.303734, Validation accuracy: 0.296574\n",
            "Epoch num: 21.000000, Train loss: 2.005414, Val loss: 2.024309, Train accuracy: 0.305167, Validation accuracy: 0.296250\n",
            "Epoch num: 22.000000, Train loss: 2.009300, Val loss: 2.023061, Train accuracy: 0.299911, Validation accuracy: 0.300601\n",
            "Epoch num: 23.000000, Train loss: 2.012335, Val loss: 2.014671, Train accuracy: 0.301754, Validation accuracy: 0.303399\n",
            "Epoch num: 24.000000, Train loss: 1.967357, Val loss: 1.990980, Train accuracy: 0.320524, Validation accuracy: 0.309149\n",
            "Epoch num: 25.000000, Train loss: 1.958954, Val loss: 1.986209, Train accuracy: 0.317521, Validation accuracy: 0.311333\n",
            "Epoch num: 26.000000, Train loss: 1.957400, Val loss: 1.991846, Train accuracy: 0.319227, Validation accuracy: 0.307631\n",
            "Epoch num: 27.000000, Train loss: 1.954975, Val loss: 1.980177, Train accuracy: 0.318204, Validation accuracy: 0.308518\n",
            "Epoch num: 28.000000, Train loss: 1.954193, Val loss: 1.980103, Train accuracy: 0.321616, Validation accuracy: 0.313364\n",
            "Epoch num: 29.000000, Train loss: 1.948569, Val loss: 1.982824, Train accuracy: 0.320388, Validation accuracy: 0.311777\n"
          ],
          "name": "stdout"
        }
      ]
    },
    {
      "cell_type": "code",
      "metadata": {
        "id": "TVu0FEHwY4Ct",
        "colab_type": "code",
        "colab": {
          "base_uri": "https://localhost:8080/",
          "height": 34
        },
        "outputId": "0ef87157-e2ea-4331-de53-c0d3603d5b66"
      },
      "source": [
        "test_loader = torch.utils.data.DataLoader(data_test)\n",
        "_, test_accuracy = compute_accuracy(model_last, test_loader, loss)\n",
        "print('Test accuracy: %f' % (test_accuracy))"
      ],
      "execution_count": 44,
      "outputs": [
        {
          "output_type": "stream",
          "text": [
            "Test accuracy: 0.301129\n"
          ],
          "name": "stdout"
        }
      ]
    }
  ]
}