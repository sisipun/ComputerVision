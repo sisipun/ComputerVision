{
  "nbformat": 4,
  "nbformat_minor": 0,
  "metadata": {
    "colab": {
      "name": "Housenumbers.ipynb",
      "provenance": [],
      "collapsed_sections": []
    },
    "kernelspec": {
      "name": "python3",
      "display_name": "Python 3"
    },
    "accelerator": "GPU",
    "widgets": {
      "application/vnd.jupyter.widget-state+json": {
        "12ba929c539643598880ceb9e195d886": {
          "model_module": "@jupyter-widgets/controls",
          "model_name": "HBoxModel",
          "state": {
            "_view_name": "HBoxView",
            "_dom_classes": [],
            "_model_name": "HBoxModel",
            "_view_module": "@jupyter-widgets/controls",
            "_model_module_version": "1.5.0",
            "_view_count": null,
            "_view_module_version": "1.5.0",
            "box_style": "",
            "layout": "IPY_MODEL_0dc2b1108a5d426ba01a4b0f9fb58c53",
            "_model_module": "@jupyter-widgets/controls",
            "children": [
              "IPY_MODEL_d596efe21bec436d8b0d41f4c5a51650",
              "IPY_MODEL_d0f281a18f684168926fadf76ad4858d"
            ]
          }
        },
        "0dc2b1108a5d426ba01a4b0f9fb58c53": {
          "model_module": "@jupyter-widgets/base",
          "model_name": "LayoutModel",
          "state": {
            "_view_name": "LayoutView",
            "grid_template_rows": null,
            "right": null,
            "justify_content": null,
            "_view_module": "@jupyter-widgets/base",
            "overflow": null,
            "_model_module_version": "1.2.0",
            "_view_count": null,
            "flex_flow": null,
            "width": null,
            "min_width": null,
            "border": null,
            "align_items": null,
            "bottom": null,
            "_model_module": "@jupyter-widgets/base",
            "top": null,
            "grid_column": null,
            "overflow_y": null,
            "overflow_x": null,
            "grid_auto_flow": null,
            "grid_area": null,
            "grid_template_columns": null,
            "flex": null,
            "_model_name": "LayoutModel",
            "justify_items": null,
            "grid_row": null,
            "max_height": null,
            "align_content": null,
            "visibility": null,
            "align_self": null,
            "height": null,
            "min_height": null,
            "padding": null,
            "grid_auto_rows": null,
            "grid_gap": null,
            "max_width": null,
            "order": null,
            "_view_module_version": "1.2.0",
            "grid_template_areas": null,
            "object_position": null,
            "object_fit": null,
            "grid_auto_columns": null,
            "margin": null,
            "display": null,
            "left": null
          }
        },
        "d596efe21bec436d8b0d41f4c5a51650": {
          "model_module": "@jupyter-widgets/controls",
          "model_name": "IntProgressModel",
          "state": {
            "_view_name": "ProgressView",
            "style": "IPY_MODEL_ea8d870feafd425e8d80c0c59c701e5c",
            "_dom_classes": [],
            "description": "",
            "_model_name": "IntProgressModel",
            "bar_style": "info",
            "max": 1,
            "_view_module": "@jupyter-widgets/controls",
            "_model_module_version": "1.5.0",
            "value": 1,
            "_view_count": null,
            "_view_module_version": "1.5.0",
            "orientation": "horizontal",
            "min": 0,
            "description_tooltip": null,
            "_model_module": "@jupyter-widgets/controls",
            "layout": "IPY_MODEL_905c0b9f00d44e3a9fa9015c4540a947"
          }
        },
        "d0f281a18f684168926fadf76ad4858d": {
          "model_module": "@jupyter-widgets/controls",
          "model_name": "HTMLModel",
          "state": {
            "_view_name": "HTMLView",
            "style": "IPY_MODEL_724555c875a549eb85b58375782b7ad1",
            "_dom_classes": [],
            "description": "",
            "_model_name": "HTMLModel",
            "placeholder": "​",
            "_view_module": "@jupyter-widgets/controls",
            "_model_module_version": "1.5.0",
            "value": "182042624it [00:30, 20900067.13it/s]",
            "_view_count": null,
            "_view_module_version": "1.5.0",
            "description_tooltip": null,
            "_model_module": "@jupyter-widgets/controls",
            "layout": "IPY_MODEL_a70b20439f5b414bbdecd5d20dcd4da8"
          }
        },
        "ea8d870feafd425e8d80c0c59c701e5c": {
          "model_module": "@jupyter-widgets/controls",
          "model_name": "ProgressStyleModel",
          "state": {
            "_view_name": "StyleView",
            "_model_name": "ProgressStyleModel",
            "description_width": "",
            "_view_module": "@jupyter-widgets/base",
            "_model_module_version": "1.5.0",
            "_view_count": null,
            "_view_module_version": "1.2.0",
            "bar_color": null,
            "_model_module": "@jupyter-widgets/controls"
          }
        },
        "905c0b9f00d44e3a9fa9015c4540a947": {
          "model_module": "@jupyter-widgets/base",
          "model_name": "LayoutModel",
          "state": {
            "_view_name": "LayoutView",
            "grid_template_rows": null,
            "right": null,
            "justify_content": null,
            "_view_module": "@jupyter-widgets/base",
            "overflow": null,
            "_model_module_version": "1.2.0",
            "_view_count": null,
            "flex_flow": null,
            "width": null,
            "min_width": null,
            "border": null,
            "align_items": null,
            "bottom": null,
            "_model_module": "@jupyter-widgets/base",
            "top": null,
            "grid_column": null,
            "overflow_y": null,
            "overflow_x": null,
            "grid_auto_flow": null,
            "grid_area": null,
            "grid_template_columns": null,
            "flex": null,
            "_model_name": "LayoutModel",
            "justify_items": null,
            "grid_row": null,
            "max_height": null,
            "align_content": null,
            "visibility": null,
            "align_self": null,
            "height": null,
            "min_height": null,
            "padding": null,
            "grid_auto_rows": null,
            "grid_gap": null,
            "max_width": null,
            "order": null,
            "_view_module_version": "1.2.0",
            "grid_template_areas": null,
            "object_position": null,
            "object_fit": null,
            "grid_auto_columns": null,
            "margin": null,
            "display": null,
            "left": null
          }
        },
        "724555c875a549eb85b58375782b7ad1": {
          "model_module": "@jupyter-widgets/controls",
          "model_name": "DescriptionStyleModel",
          "state": {
            "_view_name": "StyleView",
            "_model_name": "DescriptionStyleModel",
            "description_width": "",
            "_view_module": "@jupyter-widgets/base",
            "_model_module_version": "1.5.0",
            "_view_count": null,
            "_view_module_version": "1.2.0",
            "_model_module": "@jupyter-widgets/controls"
          }
        },
        "a70b20439f5b414bbdecd5d20dcd4da8": {
          "model_module": "@jupyter-widgets/base",
          "model_name": "LayoutModel",
          "state": {
            "_view_name": "LayoutView",
            "grid_template_rows": null,
            "right": null,
            "justify_content": null,
            "_view_module": "@jupyter-widgets/base",
            "overflow": null,
            "_model_module_version": "1.2.0",
            "_view_count": null,
            "flex_flow": null,
            "width": null,
            "min_width": null,
            "border": null,
            "align_items": null,
            "bottom": null,
            "_model_module": "@jupyter-widgets/base",
            "top": null,
            "grid_column": null,
            "overflow_y": null,
            "overflow_x": null,
            "grid_auto_flow": null,
            "grid_area": null,
            "grid_template_columns": null,
            "flex": null,
            "_model_name": "LayoutModel",
            "justify_items": null,
            "grid_row": null,
            "max_height": null,
            "align_content": null,
            "visibility": null,
            "align_self": null,
            "height": null,
            "min_height": null,
            "padding": null,
            "grid_auto_rows": null,
            "grid_gap": null,
            "max_width": null,
            "order": null,
            "_view_module_version": "1.2.0",
            "grid_template_areas": null,
            "object_position": null,
            "object_fit": null,
            "grid_auto_columns": null,
            "margin": null,
            "display": null,
            "left": null
          }
        },
        "18a80e6a29f84e3b80377bd010ba7ec3": {
          "model_module": "@jupyter-widgets/controls",
          "model_name": "HBoxModel",
          "state": {
            "_view_name": "HBoxView",
            "_dom_classes": [],
            "_model_name": "HBoxModel",
            "_view_module": "@jupyter-widgets/controls",
            "_model_module_version": "1.5.0",
            "_view_count": null,
            "_view_module_version": "1.5.0",
            "box_style": "",
            "layout": "IPY_MODEL_1174aa7470954b5bb2ec2068c329d6aa",
            "_model_module": "@jupyter-widgets/controls",
            "children": [
              "IPY_MODEL_53b918559bce45ab8f706084ebcab725",
              "IPY_MODEL_3e2c683f77004e2782f1f92c4c4f4046"
            ]
          }
        },
        "1174aa7470954b5bb2ec2068c329d6aa": {
          "model_module": "@jupyter-widgets/base",
          "model_name": "LayoutModel",
          "state": {
            "_view_name": "LayoutView",
            "grid_template_rows": null,
            "right": null,
            "justify_content": null,
            "_view_module": "@jupyter-widgets/base",
            "overflow": null,
            "_model_module_version": "1.2.0",
            "_view_count": null,
            "flex_flow": null,
            "width": null,
            "min_width": null,
            "border": null,
            "align_items": null,
            "bottom": null,
            "_model_module": "@jupyter-widgets/base",
            "top": null,
            "grid_column": null,
            "overflow_y": null,
            "overflow_x": null,
            "grid_auto_flow": null,
            "grid_area": null,
            "grid_template_columns": null,
            "flex": null,
            "_model_name": "LayoutModel",
            "justify_items": null,
            "grid_row": null,
            "max_height": null,
            "align_content": null,
            "visibility": null,
            "align_self": null,
            "height": null,
            "min_height": null,
            "padding": null,
            "grid_auto_rows": null,
            "grid_gap": null,
            "max_width": null,
            "order": null,
            "_view_module_version": "1.2.0",
            "grid_template_areas": null,
            "object_position": null,
            "object_fit": null,
            "grid_auto_columns": null,
            "margin": null,
            "display": null,
            "left": null
          }
        },
        "53b918559bce45ab8f706084ebcab725": {
          "model_module": "@jupyter-widgets/controls",
          "model_name": "IntProgressModel",
          "state": {
            "_view_name": "ProgressView",
            "style": "IPY_MODEL_afb2a66a08df4616bc69f0dcda901fac",
            "_dom_classes": [],
            "description": "",
            "_model_name": "IntProgressModel",
            "bar_style": "info",
            "max": 1,
            "_view_module": "@jupyter-widgets/controls",
            "_model_module_version": "1.5.0",
            "value": 1,
            "_view_count": null,
            "_view_module_version": "1.5.0",
            "orientation": "horizontal",
            "min": 0,
            "description_tooltip": null,
            "_model_module": "@jupyter-widgets/controls",
            "layout": "IPY_MODEL_dc849ab730c64776a4abc32319257a0c"
          }
        },
        "3e2c683f77004e2782f1f92c4c4f4046": {
          "model_module": "@jupyter-widgets/controls",
          "model_name": "HTMLModel",
          "state": {
            "_view_name": "HTMLView",
            "style": "IPY_MODEL_fd50fbb1732e4fdc9998d780c9f04263",
            "_dom_classes": [],
            "description": "",
            "_model_name": "HTMLModel",
            "placeholder": "​",
            "_view_module": "@jupyter-widgets/controls",
            "_model_module_version": "1.5.0",
            "value": "64282624it [00:24, 21275313.66it/s]",
            "_view_count": null,
            "_view_module_version": "1.5.0",
            "description_tooltip": null,
            "_model_module": "@jupyter-widgets/controls",
            "layout": "IPY_MODEL_3477f2133d1f47768146c04539bcb958"
          }
        },
        "afb2a66a08df4616bc69f0dcda901fac": {
          "model_module": "@jupyter-widgets/controls",
          "model_name": "ProgressStyleModel",
          "state": {
            "_view_name": "StyleView",
            "_model_name": "ProgressStyleModel",
            "description_width": "",
            "_view_module": "@jupyter-widgets/base",
            "_model_module_version": "1.5.0",
            "_view_count": null,
            "_view_module_version": "1.2.0",
            "bar_color": null,
            "_model_module": "@jupyter-widgets/controls"
          }
        },
        "dc849ab730c64776a4abc32319257a0c": {
          "model_module": "@jupyter-widgets/base",
          "model_name": "LayoutModel",
          "state": {
            "_view_name": "LayoutView",
            "grid_template_rows": null,
            "right": null,
            "justify_content": null,
            "_view_module": "@jupyter-widgets/base",
            "overflow": null,
            "_model_module_version": "1.2.0",
            "_view_count": null,
            "flex_flow": null,
            "width": null,
            "min_width": null,
            "border": null,
            "align_items": null,
            "bottom": null,
            "_model_module": "@jupyter-widgets/base",
            "top": null,
            "grid_column": null,
            "overflow_y": null,
            "overflow_x": null,
            "grid_auto_flow": null,
            "grid_area": null,
            "grid_template_columns": null,
            "flex": null,
            "_model_name": "LayoutModel",
            "justify_items": null,
            "grid_row": null,
            "max_height": null,
            "align_content": null,
            "visibility": null,
            "align_self": null,
            "height": null,
            "min_height": null,
            "padding": null,
            "grid_auto_rows": null,
            "grid_gap": null,
            "max_width": null,
            "order": null,
            "_view_module_version": "1.2.0",
            "grid_template_areas": null,
            "object_position": null,
            "object_fit": null,
            "grid_auto_columns": null,
            "margin": null,
            "display": null,
            "left": null
          }
        },
        "fd50fbb1732e4fdc9998d780c9f04263": {
          "model_module": "@jupyter-widgets/controls",
          "model_name": "DescriptionStyleModel",
          "state": {
            "_view_name": "StyleView",
            "_model_name": "DescriptionStyleModel",
            "description_width": "",
            "_view_module": "@jupyter-widgets/base",
            "_model_module_version": "1.5.0",
            "_view_count": null,
            "_view_module_version": "1.2.0",
            "_model_module": "@jupyter-widgets/controls"
          }
        },
        "3477f2133d1f47768146c04539bcb958": {
          "model_module": "@jupyter-widgets/base",
          "model_name": "LayoutModel",
          "state": {
            "_view_name": "LayoutView",
            "grid_template_rows": null,
            "right": null,
            "justify_content": null,
            "_view_module": "@jupyter-widgets/base",
            "overflow": null,
            "_model_module_version": "1.2.0",
            "_view_count": null,
            "flex_flow": null,
            "width": null,
            "min_width": null,
            "border": null,
            "align_items": null,
            "bottom": null,
            "_model_module": "@jupyter-widgets/base",
            "top": null,
            "grid_column": null,
            "overflow_y": null,
            "overflow_x": null,
            "grid_auto_flow": null,
            "grid_area": null,
            "grid_template_columns": null,
            "flex": null,
            "_model_name": "LayoutModel",
            "justify_items": null,
            "grid_row": null,
            "max_height": null,
            "align_content": null,
            "visibility": null,
            "align_self": null,
            "height": null,
            "min_height": null,
            "padding": null,
            "grid_auto_rows": null,
            "grid_gap": null,
            "max_width": null,
            "order": null,
            "_view_module_version": "1.2.0",
            "grid_template_areas": null,
            "object_position": null,
            "object_fit": null,
            "grid_auto_columns": null,
            "margin": null,
            "display": null,
            "left": null
          }
        }
      }
    }
  },
  "cells": [
    {
      "cell_type": "code",
      "metadata": {
        "id": "LDEIUU-0fjlS",
        "colab_type": "code",
        "outputId": "b65e55a8-59fe-4dfa-dcec-1f2076a9327d",
        "colab": {
          "base_uri": "https://localhost:8080/",
          "height": 104
        }
      },
      "source": [
        "!pip3 install torch torchvision"
      ],
      "execution_count": 1,
      "outputs": [
        {
          "output_type": "stream",
          "text": [
            "Requirement already satisfied: torch in /usr/local/lib/python3.6/dist-packages (1.4.0)\n",
            "Requirement already satisfied: torchvision in /usr/local/lib/python3.6/dist-packages (0.5.0)\n",
            "Requirement already satisfied: numpy in /usr/local/lib/python3.6/dist-packages (from torchvision) (1.17.5)\n",
            "Requirement already satisfied: pillow>=4.1.1 in /usr/local/lib/python3.6/dist-packages (from torchvision) (6.2.2)\n",
            "Requirement already satisfied: six in /usr/local/lib/python3.6/dist-packages (from torchvision) (1.12.0)\n"
          ],
          "name": "stdout"
        }
      ]
    },
    {
      "cell_type": "code",
      "metadata": {
        "id": "jSKTyQzKgDn2",
        "colab_type": "code",
        "colab": {}
      },
      "source": [
        "import torch\n",
        "import torchvision\n",
        "import torchvision.datasets as tds\n",
        "import matplotlib.pyplot as plt\n",
        "import torch.nn as nn\n",
        "import torch.optim as optim\n",
        "import numpy as np\n",
        "import PIL\n",
        "from torchvision import transforms"
      ],
      "execution_count": 0,
      "outputs": []
    },
    {
      "cell_type": "code",
      "metadata": {
        "id": "nyPXhbbjgL8u",
        "colab_type": "code",
        "colab": {}
      },
      "source": [
        "device = torch.device(\"cuda:0\")"
      ],
      "execution_count": 0,
      "outputs": []
    },
    {
      "cell_type": "code",
      "metadata": {
        "id": "U88a975vgOyZ",
        "colab_type": "code",
        "outputId": "8b3b0e86-653a-481f-d4bb-6ca8bddee2a8",
        "colab": {
          "base_uri": "https://localhost:8080/",
          "height": 116,
          "referenced_widgets": [
            "12ba929c539643598880ceb9e195d886",
            "0dc2b1108a5d426ba01a4b0f9fb58c53",
            "d596efe21bec436d8b0d41f4c5a51650",
            "d0f281a18f684168926fadf76ad4858d",
            "ea8d870feafd425e8d80c0c59c701e5c",
            "905c0b9f00d44e3a9fa9015c4540a947",
            "724555c875a549eb85b58375782b7ad1",
            "a70b20439f5b414bbdecd5d20dcd4da8",
            "18a80e6a29f84e3b80377bd010ba7ec3",
            "1174aa7470954b5bb2ec2068c329d6aa",
            "53b918559bce45ab8f706084ebcab725",
            "3e2c683f77004e2782f1f92c4c4f4046",
            "afb2a66a08df4616bc69f0dcda901fac",
            "dc849ab730c64776a4abc32319257a0c",
            "fd50fbb1732e4fdc9998d780c9f04263",
            "3477f2133d1f47768146c04539bcb958"
          ]
        }
      },
      "source": [
        "tfs = transforms.Compose([\n",
        "    transforms.ColorJitter(hue=.20, saturation=.20),\n",
        "    transforms.RandomRotation(10, resample=PIL.Image.BILINEAR),\n",
        "    transforms.ToTensor(),\n",
        "    transforms.Normalize(mean=[0.43,0.44,0.47], std=[0.20,0.20,0.20])                           \n",
        "])\n",
        "\n",
        "data_train = tds.SVHN('./', \n",
        "                       transform = tfs,\n",
        "                       download=True)\n",
        "\n",
        "data_test = tds.SVHN('./', \n",
        "                      split='test', \n",
        "                      transform = tfs,\n",
        "                      download=True)"
      ],
      "execution_count": 4,
      "outputs": [
        {
          "output_type": "stream",
          "text": [
            "Downloading http://ufldl.stanford.edu/housenumbers/train_32x32.mat to ./train_32x32.mat\n"
          ],
          "name": "stdout"
        },
        {
          "output_type": "display_data",
          "data": {
            "application/vnd.jupyter.widget-view+json": {
              "model_id": "12ba929c539643598880ceb9e195d886",
              "version_minor": 0,
              "version_major": 2
            },
            "text/plain": [
              "HBox(children=(IntProgress(value=1, bar_style='info', max=1), HTML(value='')))"
            ]
          },
          "metadata": {
            "tags": []
          }
        },
        {
          "output_type": "stream",
          "text": [
            "Downloading http://ufldl.stanford.edu/housenumbers/test_32x32.mat to ./test_32x32.mat\n"
          ],
          "name": "stdout"
        },
        {
          "output_type": "display_data",
          "data": {
            "application/vnd.jupyter.widget-view+json": {
              "model_id": "18a80e6a29f84e3b80377bd010ba7ec3",
              "version_minor": 0,
              "version_major": 2
            },
            "text/plain": [
              "HBox(children=(IntProgress(value=1, bar_style='info', max=1), HTML(value='')))"
            ]
          },
          "metadata": {
            "tags": []
          }
        }
      ]
    },
    {
      "cell_type": "code",
      "metadata": {
        "id": "ZyIzLRCFg84M",
        "colab_type": "code",
        "colab": {}
      },
      "source": [
        "batch_size = 64\n",
        "\n",
        "validation_size = .2\n",
        "\n",
        "data_size = data_train.data.shape[0]\n",
        "split = int(np.floor(validation_size * data_size))\n",
        "indices = list(range(data_size))\n",
        "np.random.shuffle(indices)\n",
        "\n",
        "train_indices, val_indices = indices[:split], indices[split:]\n",
        "\n",
        "train_sampler = torch.utils.data.sampler.SubsetRandomSampler(train_indices)\n",
        "val_sampler = torch.utils.data.sampler.SubsetRandomSampler(val_indices)\n",
        "\n",
        "train_loader = torch.utils.data.DataLoader(data_train, batch_size=batch_size, sampler=train_sampler)\n",
        "val_loader = torch.utils.data.DataLoader(data_train, batch_size=batch_size, sampler=val_sampler)"
      ],
      "execution_count": 0,
      "outputs": []
    },
    {
      "cell_type": "code",
      "metadata": {
        "id": "H-S3eHQWgx1c",
        "colab_type": "code",
        "outputId": "88fec80e-8e0e-47ba-9366-5f8611e95f5a",
        "colab": {
          "base_uri": "https://localhost:8080/",
          "height": 243
        }
      },
      "source": [
        "def visualize(data, count=10):\n",
        "  plt.figure(figsize=(30, 3))\n",
        "  for i, (X, y) in enumerate(data):\n",
        "    if i == count:\n",
        "      break\n",
        "    plt.subplot(1, 10, i + 1)\n",
        "    plt.title(y)\n",
        "    plt.imshow(X)\n",
        "\n",
        "visualize(tds.SVHN('./', download=True))"
      ],
      "execution_count": 6,
      "outputs": [
        {
          "output_type": "stream",
          "text": [
            "Using downloaded and verified file: ./train_32x32.mat\n"
          ],
          "name": "stdout"
        },
        {
          "output_type": "display_data",
          "data": {
            "image/png": "[encoded data removed]",
            "text/plain": [
              "<Figure size 2160x216 with 10 Axes>"
            ]
          },
          "metadata": {
            "tags": []
          }
        }
      ]
    },
    {
      "cell_type": "code",
      "metadata": {
        "id": "Me1Ud3paiTkb",
        "colab_type": "code",
        "colab": {}
      },
      "source": [
        "def train_model(model, train_loader, val_loader, loss, optimizer, scheduler=None, num_epochs=20):\n",
        "  train_loss_history = []\n",
        "  train_history = []\n",
        "  val_loss_histroy = []\n",
        "  val_histroy = []\n",
        "\n",
        "  for i_epoch in range(num_epochs):\n",
        "    model.train()\n",
        "\n",
        "    train_loss_sum = 0\n",
        "    correct_samples = 0\n",
        "    all_samples = 0\n",
        "\n",
        "    for i_step, (x, y) in enumerate(train_loader):\n",
        "      x_gpu = x.to(device)\n",
        "      y_gpu = y.to(device)\n",
        "      prediction = model(x_gpu)\n",
        "      step_loss = loss(prediction, y_gpu)\n",
        "      optimizer.zero_grad()\n",
        "      step_loss.backward()\n",
        "      optimizer.step()\n",
        "\n",
        "      y_hat = torch.argmax(prediction, 1)\n",
        "      correct_samples += float(torch.sum(y_hat == y_gpu))\n",
        "      all_samples += y.shape[0]\n",
        "      train_loss_sum += step_loss\n",
        "    \n",
        "    train_loss = train_loss_sum / i_step\n",
        "    train_accuracy = correct_samples / all_samples\n",
        "    val_loss, val_accuracy = compute_accuracy(model, val_loader, loss)\n",
        "    if scheduler:\n",
        "      scheduler.step(val_loss)\n",
        "\n",
        "    train_loss_history.append(train_loss)\n",
        "    val_loss_histroy.append(val_loss)\n",
        "    train_history.append(train_accuracy)\n",
        "    val_histroy.append(val_accuracy)\n",
        "\n",
        "    print('Epoch num: %f, Train loss: %f, Val loss: %f, Train accuracy: %f, Validation accuracy: %f' % (i_epoch, train_loss, val_loss, train_accuracy, val_accuracy))\n",
        "  \n",
        "  return train_loss_history, val_loss, train_history, val_histroy\n",
        "\n",
        "def compute_accuracy(model, loader, loss):\n",
        "  model.eval()\n",
        "\n",
        "  correct_samples = 0\n",
        "  all_samples = 0\n",
        "  loss_sum = 0\n",
        "\n",
        "  for i_step, (x, y) in enumerate(loader):\n",
        "    x_gpu = x.to(device)\n",
        "    y_gpu = y.to(device)\n",
        "    prediction = model(x_gpu)\n",
        "\n",
        "    loss_sum =+ float(loss(prediction, y_gpu))\n",
        "\n",
        "    y_hat = torch.argmax(prediction, 1)\n",
        "    correct_samples += float(torch.sum(y_hat == y_gpu))\n",
        "    all_samples += y.shape[0]\n",
        "    \n",
        "  avg_loss = loss_sum / (i_step + 1)\n",
        "  accuracy = correct_samples / all_samples\n",
        "\n",
        "  return avg_loss, accuracy"
      ],
      "execution_count": 0,
      "outputs": []
    },
    {
      "cell_type": "code",
      "metadata": {
        "id": "wlQZiTfgiVXm",
        "colab_type": "code",
        "colab": {}
      },
      "source": [
        "class Flattener(nn.Module):\n",
        "    def forward(self, x):\n",
        "        batch_size, *_ = x.shape\n",
        "        new_x = x.view(batch_size, -1)\n",
        "        return new_x"
      ],
      "execution_count": 0,
      "outputs": []
    },
    {
      "cell_type": "code",
      "metadata": {
        "id": "05726NM3iXOR",
        "colab_type": "code",
        "colab": {}
      },
      "source": [
        "model = nn.Sequential(\n",
        "          nn.Conv2d(3, 16, 5, padding=2),\n",
        "          nn.BatchNorm2d(16),\n",
        "          nn.ReLU(inplace=True),\n",
        "          nn.MaxPool2d(2),\n",
        "          nn.Conv2d(16, 32, 3),\n",
        "          nn.BatchNorm2d(32),\n",
        "          nn.ReLU(inplace=True),\n",
        "          nn.MaxPool2d(2),\n",
        "          nn.Conv2d(32, 64, 3),\n",
        "          nn.BatchNorm2d(64),\n",
        "          nn.ReLU(inplace=True),\n",
        "          nn.MaxPool2d(2),\n",
        "          Flattener(),\n",
        "          nn.Linear(256, 128),\n",
        "          nn.BatchNorm1d(128),\n",
        "          nn.ReLU(inplace=True),\n",
        "          nn.Linear(128, 10)\n",
        ")\n",
        "\n",
        "model.type(torch.cuda.FloatTensor)\n",
        "model.to(device)\n",
        "loss = nn.CrossEntropyLoss().type(torch.cuda.FloatTensor)\n",
        "optimizer = optim.Adam(model.parameters(), lr=1e-3, weight_decay=1e-4)\n",
        "scheduler = optim.lr_scheduler.ReduceLROnPlateau(optimizer, factor=0.5, patience=2)"
      ],
      "execution_count": 0,
      "outputs": []
    },
    {
      "cell_type": "code",
      "metadata": {
        "id": "ZnPeWbg_iamF",
        "colab_type": "code",
        "outputId": "178dbb3d-2621-4621-a074-98e3a27d6939",
        "colab": {
          "base_uri": "https://localhost:8080/",
          "height": 278
        }
      },
      "source": [
        "train_loss_history, val_loss, train_history, val_histroy = train_model(model, train_loader, val_loader, loss, optimizer, scheduler, 30)"
      ],
      "execution_count": 0,
      "outputs": [
        {
          "output_type": "stream",
          "text": [
            "Epoch num: 0.000000, Train loss: 1.124793, Val loss: 0.000768, Train accuracy: 0.647942, Validation accuracy: 0.800396\n",
            "Epoch num: 1.000000, Train loss: 0.580111, Val loss: 0.000640, Train accuracy: 0.821787, Validation accuracy: 0.839880\n",
            "Epoch num: 2.000000, Train loss: 0.466333, Val loss: 0.000525, Train accuracy: 0.854959, Validation accuracy: 0.842439\n",
            "Epoch num: 3.000000, Train loss: 0.425770, Val loss: 0.000178, Train accuracy: 0.867245, Validation accuracy: 0.863683\n",
            "Epoch num: 4.000000, Train loss: 0.378799, Val loss: 0.000475, Train accuracy: 0.879735, Validation accuracy: 0.863188\n",
            "Epoch num: 5.000000, Train loss: 0.343167, Val loss: 0.000361, Train accuracy: 0.893181, Validation accuracy: 0.870013\n",
            "Epoch num: 6.000000, Train loss: 0.315628, Val loss: 0.000506, Train accuracy: 0.900280, Validation accuracy: 0.866959\n",
            "Epoch num: 7.000000, Train loss: 0.260235, Val loss: 0.000543, Train accuracy: 0.920551, Validation accuracy: 0.880268\n",
            "Epoch num: 8.000000, Train loss: 0.238898, Val loss: 0.000846, Train accuracy: 0.926763, Validation accuracy: 0.880763\n",
            "Epoch num: 9.000000, Train loss: 0.221868, Val loss: 0.000226, Train accuracy: 0.933793, Validation accuracy: 0.880354\n",
            "Epoch num: 10.000000, Train loss: 0.192649, Val loss: 0.000457, Train accuracy: 0.942052, Validation accuracy: 0.884466\n",
            "Epoch num: 11.000000, Train loss: 0.181723, Val loss: 0.000214, Train accuracy: 0.947171, Validation accuracy: 0.885848\n",
            "Epoch num: 12.000000, Train loss: 0.175724, Val loss: 0.000267, Train accuracy: 0.946966, Validation accuracy: 0.886087\n",
            "Epoch num: 13.000000, Train loss: 0.154849, Val loss: 0.000570, Train accuracy: 0.957068, Validation accuracy: 0.886121\n",
            "Epoch num: 14.000000, Train loss: 0.149630, Val loss: 0.000722, Train accuracy: 0.957136, Validation accuracy: 0.887605\n"
          ],
          "name": "stdout"
        }
      ]
    },
    {
      "cell_type": "code",
      "metadata": {
        "id": "aScoqHGuicW1",
        "colab_type": "code",
        "colab": {}
      },
      "source": [
        "test_loader = torch.utils.data.DataLoader(data_test)\n",
        "_, test_accuracy = compute_accuracy(model, test_loader, loss)\n",
        "print('Test accuracy: %f' % (test_accuracy))"
      ],
      "execution_count": 0,
      "outputs": []
    }
  ]
}