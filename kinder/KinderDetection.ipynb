{
  "nbformat": 4,
  "nbformat_minor": 0,
  "metadata": {
    "colab": {
      "name": "KinderDetection.ipynb",
      "provenance": [],
      "collapsed_sections": [],
      "toc_visible": true
    },
    "kernelspec": {
      "name": "python3",
      "display_name": "Python 3"
    }
  },
  "cells": [
    {
      "cell_type": "code",
      "metadata": {
        "id": "mkTv8uIC_75j",
        "colab_type": "code",
        "colab": {}
      },
      "source": [
        "import re\n",
        "\n",
        "import os\n",
        "from os import listdir\n",
        "from os.path import isfile, join\n",
        "\n",
        "import torch\n",
        "from torch.utils.data import Dataset\n",
        "\n",
        "from PIL import Image"
      ],
      "execution_count": 0,
      "outputs": []
    },
    {
      "cell_type": "code",
      "metadata": {
        "id": "_2ULlgEX_7tY",
        "colab_type": "code",
        "outputId": "525be611-dbd9-471a-cb2b-4aa529503c9e",
        "colab": {
          "base_uri": "https://localhost:8080/",
          "height": 86
        }
      },
      "source": [
        "!unzip -q \"drive/My Drive/data/train_data.zip\"\n",
        "train_folder = 'train_data/'\n",
        "print('Number of files in the train folder', len(listdir(train_folder)))\n",
        "\n",
        "!unzip -q \"drive/My Drive/data/annotation.zip\"\n",
        "annotation_folder = 'annotation/'\n",
        "print('Number of files in the annotation folder', len(listdir(annotation_folder)))"
      ],
      "execution_count": 17,
      "outputs": [
        {
          "output_type": "stream",
          "text": [
            "replace __MACOSX/train_data/._kinder_31.jpg? [y]es, [n]o, [A]ll, [N]one, [r]ename: A\n",
            "Number of files in the train folder 267\n",
            "replace __MACOSX/annotation/._classes.txt? [y]es, [n]o, [A]ll, [N]one, [r]ename: A\n",
            "Number of files in the annotation folder 268\n"
          ],
          "name": "stdout"
        }
      ]
    },
    {
      "cell_type": "code",
      "metadata": {
        "id": "Jn3arP8i_5Em",
        "colab_type": "code",
        "colab": {}
      },
      "source": [
        "device = torch.device(\"cuda:0\")"
      ],
      "execution_count": 0,
      "outputs": []
    },
    {
      "cell_type": "code",
      "metadata": {
        "id": "9hsYfMD9BCnQ",
        "colab_type": "code",
        "colab": {}
      },
      "source": [
        "image_pattern = re.compile(r'^kinder_(?P<num>\\d*)\\.jpg$')\n",
        "annotation_pattern = re.compile(r'^kinder_(?P<num>\\d*)\\.xml$')\n",
        "\n",
        "class KinderDetectionDataset(Dataset):\n",
        "  \n",
        "  def __init__(self, image_folder, annotation_folder, transform=None):\n",
        "    self.image_folder = image_folder\n",
        "    self.annotation_folder = annotation_folder\n",
        "    self.transform = transform\n",
        "    self.image_names = self.__get_file_names__(image_folder, image_pattern)\n",
        "    self.annotation_names = self.__get_file_names__(annotation_folder, annotation_pattern)\n",
        "\n",
        "    assert len(self.image_names) == len(self.annotation_names)\n",
        "    assert self.image_names.keys() == self.annotation_names.keys()\n",
        "\n",
        "    self.keys = sorted(list(self.image_names.keys()))\n",
        "  \n",
        "  def __len__(self):\n",
        "    return len(self.keys)\n",
        "\n",
        "  def __getitem__(self, index): \n",
        "    key = self.keys[index]\n",
        "\n",
        "    image_name = self.image_names[key]\n",
        "    annotation_name = self.annotation_names[key]\n",
        "\n",
        "    image_path = os.path.join(self.image_folder, image_name)\n",
        "    annotation_path = os.path.join(self.annotation_folder, annotation_name)\n",
        "\n",
        "    img = Image.open(image_path)\n",
        "\n",
        "    if self.transform:\n",
        "      img = self.transform(img)\n",
        "\n",
        "    return img, annotation_path, image_path\n",
        "\n",
        "  def __get_file_names__(self, folder, file_name_pattern):\n",
        "    file_names = {}\n",
        "    for f in listdir(folder):\n",
        "      match = file_name_pattern.match(f)\n",
        "      if not match:\n",
        "        continue\n",
        "      \n",
        "      num = match.group('num')\n",
        "      if num == '':\n",
        "        continue\n",
        "      \n",
        "      file_names[int(num)] = f\n",
        "\n",
        "    return file_names"
      ],
      "execution_count": 0,
      "outputs": []
    },
    {
      "cell_type": "code",
      "metadata": {
        "id": "aafYeDjaDidA",
        "colab_type": "code",
        "outputId": "a218e4b7-88ca-4875-bfca-b7184756c01d",
        "colab": {
          "base_uri": "https://localhost:8080/",
          "height": 1000
        }
      },
      "source": [
        "data_train = KinderDetectionDataset(train_folder, annotation_folder)\n",
        "\n",
        "for i in range(266):\n",
        "  display(data_train[i])"
      ],
      "execution_count": 37,
      "outputs": [
        {
          "output_type": "display_data",
          "data": {
            "text/plain": [
              "(<PIL.JpegImagePlugin.JpegImageFile image mode=RGB size=3000x4000 at 0x7F6A92FCD710>,\n",
              " 'annotation/kinder_1.xml',\n",
              " 'train_data/kinder_1.jpg')"
            ]
          },
          "metadata": {
            "tags": []
          }
        },
        {
          "output_type": "display_data",
          "data": {
            "text/plain": [
              "(<PIL.JpegImagePlugin.JpegImageFile image mode=RGB size=3000x4000 at 0x7F6A930A50B8>,\n",
              " 'annotation/kinder_2.xml',\n",
              " 'train_data/kinder_2.jpg')"
            ]
          },
          "metadata": {
            "tags": []
          }
        },
        {
          "output_type": "display_data",
          "data": {
            "text/plain": [
              "(<PIL.JpegImagePlugin.JpegImageFile image mode=RGB size=3000x4000 at 0x7F6A930A44E0>,\n",
              " 'annotation/kinder_3.xml',\n",
              " 'train_data/kinder_3.jpg')"
            ]
          },
          "metadata": {
            "tags": []
          }
        },
        {
          "output_type": "display_data",
          "data": {
            "text/plain": [
              "(<PIL.JpegImagePlugin.JpegImageFile image mode=RGB size=4000x3000 at 0x7F6A931111D0>,\n",
              " 'annotation/kinder_4.xml',\n",
              " 'train_data/kinder_4.jpg')"
            ]
          },
          "metadata": {
            "tags": []
          }
        },
        {
          "output_type": "display_data",
          "data": {
            "text/plain": [
              "(<PIL.JpegImagePlugin.JpegImageFile image mode=RGB size=3000x4000 at 0x7F6A930A50B8>,\n",
              " 'annotation/kinder_5.xml',\n",
              " 'train_data/kinder_5.jpg')"
            ]
          },
          "metadata": {
            "tags": []
          }
        },
        {
          "output_type": "display_data",
          "data": {
            "text/plain": [
              "(<PIL.JpegImagePlugin.JpegImageFile image mode=RGB size=3000x4000 at 0x7F6A930A44E0>,\n",
              " 'annotation/kinder_6.xml',\n",
              " 'train_data/kinder_6.jpg')"
            ]
          },
          "metadata": {
            "tags": []
          }
        },
        {
          "output_type": "display_data",
          "data": {
            "text/plain": [
              "(<PIL.JpegImagePlugin.JpegImageFile image mode=RGB size=3000x4000 at 0x7F6A92FCD710>,\n",
              " 'annotation/kinder_7.xml',\n",
              " 'train_data/kinder_7.jpg')"
            ]
          },
          "metadata": {
            "tags": []
          }
        },
        {
          "output_type": "display_data",
          "data": {
            "text/plain": [
              "(<PIL.JpegImagePlugin.JpegImageFile image mode=RGB size=3000x4000 at 0x7F6A92FE40F0>,\n",
              " 'annotation/kinder_8.xml',\n",
              " 'train_data/kinder_8.jpg')"
            ]
          },
          "metadata": {
            "tags": []
          }
        },
        {
          "output_type": "display_data",
          "data": {
            "text/plain": [
              "(<PIL.JpegImagePlugin.JpegImageFile image mode=RGB size=4000x3000 at 0x7F6A92FE4EB8>,\n",
              " 'annotation/kinder_9.xml',\n",
              " 'train_data/kinder_9.jpg')"
            ]
          },
          "metadata": {
            "tags": []
          }
        },
        {
          "output_type": "display_data",
          "data": {
            "text/plain": [
              "(<PIL.JpegImagePlugin.JpegImageFile image mode=RGB size=3000x4000 at 0x7F6A931111D0>,\n",
              " 'annotation/kinder_10.xml',\n",
              " 'train_data/kinder_10.jpg')"
            ]
          },
          "metadata": {
            "tags": []
          }
        },
        {
          "output_type": "display_data",
          "data": {
            "text/plain": [
              "(<PIL.JpegImagePlugin.JpegImageFile image mode=RGB size=4000x3000 at 0x7F6A92FE4320>,\n",
              " 'annotation/kinder_11.xml',\n",
              " 'train_data/kinder_11.jpg')"
            ]
          },
          "metadata": {
            "tags": []
          }
        },
        {
          "output_type": "display_data",
          "data": {
            "text/plain": [
              "(<PIL.JpegImagePlugin.JpegImageFile image mode=RGB size=3000x4000 at 0x7F6A92FE4240>,\n",
              " 'annotation/kinder_12.xml',\n",
              " 'train_data/kinder_12.jpg')"
            ]
          },
          "metadata": {
            "tags": []
          }
        },
        {
          "output_type": "display_data",
          "data": {
            "text/plain": [
              "(<PIL.JpegImagePlugin.JpegImageFile image mode=RGB size=3000x4000 at 0x7F6A92FE4390>,\n",
              " 'annotation/kinder_13.xml',\n",
              " 'train_data/kinder_13.jpg')"
            ]
          },
          "metadata": {
            "tags": []
          }
        },
        {
          "output_type": "display_data",
          "data": {
            "text/plain": [
              "(<PIL.JpegImagePlugin.JpegImageFile image mode=RGB size=3000x4000 at 0x7F6A92FE4518>,\n",
              " 'annotation/kinder_14.xml',\n",
              " 'train_data/kinder_14.jpg')"
            ]
          },
          "metadata": {
            "tags": []
          }
        },
        {
          "output_type": "display_data",
          "data": {
            "text/plain": [
              "(<PIL.JpegImagePlugin.JpegImageFile image mode=RGB size=3000x4000 at 0x7F6A92FE4518>,\n",
              " 'annotation/kinder_15.xml',\n",
              " 'train_data/kinder_15.jpg')"
            ]
          },
          "metadata": {
            "tags": []
          }
        },
        {
          "output_type": "display_data",
          "data": {
            "text/plain": [
              "(<PIL.JpegImagePlugin.JpegImageFile image mode=RGB size=3000x4000 at 0x7F6A92FE4550>,\n",
              " 'annotation/kinder_16.xml',\n",
              " 'train_data/kinder_16.jpg')"
            ]
          },
          "metadata": {
            "tags": []
          }
        },
        {
          "output_type": "display_data",
          "data": {
            "text/plain": [
              "(<PIL.JpegImagePlugin.JpegImageFile image mode=RGB size=3000x4000 at 0x7F6A93111BA8>,\n",
              " 'annotation/kinder_17.xml',\n",
              " 'train_data/kinder_17.jpg')"
            ]
          },
          "metadata": {
            "tags": []
          }
        },
        {
          "output_type": "display_data",
          "data": {
            "text/plain": [
              "(<PIL.JpegImagePlugin.JpegImageFile image mode=RGB size=3000x4000 at 0x7F6A92FE4550>,\n",
              " 'annotation/kinder_18.xml',\n",
              " 'train_data/kinder_18.jpg')"
            ]
          },
          "metadata": {
            "tags": []
          }
        },
        {
          "output_type": "display_data",
          "data": {
            "text/plain": [
              "(<PIL.JpegImagePlugin.JpegImageFile image mode=RGB size=3000x4000 at 0x7F6A931113C8>,\n",
              " 'annotation/kinder_19.xml',\n",
              " 'train_data/kinder_19.jpg')"
            ]
          },
          "metadata": {
            "tags": []
          }
        },
        {
          "output_type": "display_data",
          "data": {
            "text/plain": [
              "(<PIL.JpegImagePlugin.JpegImageFile image mode=RGB size=4000x3000 at 0x7F6A92FE4470>,\n",
              " 'annotation/kinder_20.xml',\n",
              " 'train_data/kinder_20.jpg')"
            ]
          },
          "metadata": {
            "tags": []
          }
        },
        {
          "output_type": "display_data",
          "data": {
            "text/plain": [
              "(<PIL.JpegImagePlugin.JpegImageFile image mode=RGB size=3000x4000 at 0x7F6A93111BA8>,\n",
              " 'annotation/kinder_21.xml',\n",
              " 'train_data/kinder_21.jpg')"
            ]
          },
          "metadata": {
            "tags": []
          }
        },
        {
          "output_type": "display_data",
          "data": {
            "text/plain": [
              "(<PIL.JpegImagePlugin.JpegImageFile image mode=RGB size=3000x4000 at 0x7F6A930A50B8>,\n",
              " 'annotation/kinder_22.xml',\n",
              " 'train_data/kinder_22.jpg')"
            ]
          },
          "metadata": {
            "tags": []
          }
        },
        {
          "output_type": "display_data",
          "data": {
            "text/plain": [
              "(<PIL.JpegImagePlugin.JpegImageFile image mode=RGB size=3000x4000 at 0x7F6A931111D0>,\n",
              " 'annotation/kinder_23.xml',\n",
              " 'train_data/kinder_23.jpg')"
            ]
          },
          "metadata": {
            "tags": []
          }
        },
        {
          "output_type": "display_data",
          "data": {
            "text/plain": [
              "(<PIL.JpegImagePlugin.JpegImageFile image mode=RGB size=3000x4000 at 0x7F6A92FE4470>,\n",
              " 'annotation/kinder_24.xml',\n",
              " 'train_data/kinder_24.jpg')"
            ]
          },
          "metadata": {
            "tags": []
          }
        },
        {
          "output_type": "display_data",
          "data": {
            "text/plain": [
              "(<PIL.JpegImagePlugin.JpegImageFile image mode=RGB size=3000x4000 at 0x7F6A93111BA8>,\n",
              " 'annotation/kinder_25.xml',\n",
              " 'train_data/kinder_25.jpg')"
            ]
          },
          "metadata": {
            "tags": []
          }
        },
        {
          "output_type": "display_data",
          "data": {
            "text/plain": [
              "(<PIL.JpegImagePlugin.JpegImageFile image mode=RGB size=3000x4000 at 0x7F6A931113C8>,\n",
              " 'annotation/kinder_26.xml',\n",
              " 'train_data/kinder_26.jpg')"
            ]
          },
          "metadata": {
            "tags": []
          }
        },
        {
          "output_type": "display_data",
          "data": {
            "text/plain": [
              "(<PIL.JpegImagePlugin.JpegImageFile image mode=RGB size=4000x3000 at 0x7F6A93111BA8>,\n",
              " 'annotation/kinder_27.xml',\n",
              " 'train_data/kinder_27.jpg')"
            ]
          },
          "metadata": {
            "tags": []
          }
        },
        {
          "output_type": "display_data",
          "data": {
            "text/plain": [
              "(<PIL.JpegImagePlugin.JpegImageFile image mode=RGB size=3000x4000 at 0x7F6A931111D0>,\n",
              " 'annotation/kinder_28.xml',\n",
              " 'train_data/kinder_28.jpg')"
            ]
          },
          "metadata": {
            "tags": []
          }
        },
        {
          "output_type": "display_data",
          "data": {
            "text/plain": [
              "(<PIL.JpegImagePlugin.JpegImageFile image mode=RGB size=4000x3000 at 0x7F6A931113C8>,\n",
              " 'annotation/kinder_29.xml',\n",
              " 'train_data/kinder_29.jpg')"
            ]
          },
          "metadata": {
            "tags": []
          }
        },
        {
          "output_type": "display_data",
          "data": {
            "text/plain": [
              "(<PIL.JpegImagePlugin.JpegImageFile image mode=RGB size=4000x3000 at 0x7F6A93111BA8>,\n",
              " 'annotation/kinder_30.xml',\n",
              " 'train_data/kinder_30.jpg')"
            ]
          },
          "metadata": {
            "tags": []
          }
        },
        {
          "output_type": "display_data",
          "data": {
            "text/plain": [
              "(<PIL.JpegImagePlugin.JpegImageFile image mode=RGB size=3000x4000 at 0x7F6A931111D0>,\n",
              " 'annotation/kinder_31.xml',\n",
              " 'train_data/kinder_31.jpg')"
            ]
          },
          "metadata": {
            "tags": []
          }
        },
        {
          "output_type": "display_data",
          "data": {
            "text/plain": [
              "(<PIL.JpegImagePlugin.JpegImageFile image mode=RGB size=4000x3000 at 0x7F6A931113C8>,\n",
              " 'annotation/kinder_32.xml',\n",
              " 'train_data/kinder_32.jpg')"
            ]
          },
          "metadata": {
            "tags": []
          }
        },
        {
          "output_type": "display_data",
          "data": {
            "text/plain": [
              "(<PIL.JpegImagePlugin.JpegImageFile image mode=RGB size=3000x4000 at 0x7F6A93111BA8>,\n",
              " 'annotation/kinder_33.xml',\n",
              " 'train_data/kinder_33.jpg')"
            ]
          },
          "metadata": {
            "tags": []
          }
        },
        {
          "output_type": "display_data",
          "data": {
            "text/plain": [
              "(<PIL.JpegImagePlugin.JpegImageFile image mode=RGB size=4000x3000 at 0x7F6A931111D0>,\n",
              " 'annotation/kinder_34.xml',\n",
              " 'train_data/kinder_34.jpg')"
            ]
          },
          "metadata": {
            "tags": []
          }
        },
        {
          "output_type": "display_data",
          "data": {
            "text/plain": [
              "(<PIL.JpegImagePlugin.JpegImageFile image mode=RGB size=3000x4000 at 0x7F6A931113C8>,\n",
              " 'annotation/kinder_35.xml',\n",
              " 'train_data/kinder_35.jpg')"
            ]
          },
          "metadata": {
            "tags": []
          }
        },
        {
          "output_type": "display_data",
          "data": {
            "text/plain": [
              "(<PIL.JpegImagePlugin.JpegImageFile image mode=RGB size=3000x4000 at 0x7F6A93111BA8>,\n",
              " 'annotation/kinder_36.xml',\n",
              " 'train_data/kinder_36.jpg')"
            ]
          },
          "metadata": {
            "tags": []
          }
        },
        {
          "output_type": "display_data",
          "data": {
            "text/plain": [
              "(<PIL.JpegImagePlugin.JpegImageFile image mode=RGB size=4000x3000 at 0x7F6A931111D0>,\n",
              " 'annotation/kinder_37.xml',\n",
              " 'train_data/kinder_37.jpg')"
            ]
          },
          "metadata": {
            "tags": []
          }
        },
        {
          "output_type": "display_data",
          "data": {
            "text/plain": [
              "(<PIL.JpegImagePlugin.JpegImageFile image mode=RGB size=3000x4000 at 0x7F6A931113C8>,\n",
              " 'annotation/kinder_38.xml',\n",
              " 'train_data/kinder_38.jpg')"
            ]
          },
          "metadata": {
            "tags": []
          }
        },
        {
          "output_type": "display_data",
          "data": {
            "text/plain": [
              "(<PIL.JpegImagePlugin.JpegImageFile image mode=RGB size=3000x4000 at 0x7F6A93111BA8>,\n",
              " 'annotation/kinder_39.xml',\n",
              " 'train_data/kinder_39.jpg')"
            ]
          },
          "metadata": {
            "tags": []
          }
        },
        {
          "output_type": "display_data",
          "data": {
            "text/plain": [
              "(<PIL.JpegImagePlugin.JpegImageFile image mode=RGB size=3000x4000 at 0x7F6A931111D0>,\n",
              " 'annotation/kinder_40.xml',\n",
              " 'train_data/kinder_40.jpg')"
            ]
          },
          "metadata": {
            "tags": []
          }
        },
        {
          "output_type": "display_data",
          "data": {
            "text/plain": [
              "(<PIL.JpegImagePlugin.JpegImageFile image mode=RGB size=3000x4000 at 0x7F6A931113C8>,\n",
              " 'annotation/kinder_41.xml',\n",
              " 'train_data/kinder_41.jpg')"
            ]
          },
          "metadata": {
            "tags": []
          }
        },
        {
          "output_type": "display_data",
          "data": {
            "text/plain": [
              "(<PIL.JpegImagePlugin.JpegImageFile image mode=RGB size=3000x4000 at 0x7F6A93111BA8>,\n",
              " 'annotation/kinder_42.xml',\n",
              " 'train_data/kinder_42.jpg')"
            ]
          },
          "metadata": {
            "tags": []
          }
        },
        {
          "output_type": "display_data",
          "data": {
            "text/plain": [
              "(<PIL.JpegImagePlugin.JpegImageFile image mode=RGB size=3000x4000 at 0x7F6A931111D0>,\n",
              " 'annotation/kinder_43.xml',\n",
              " 'train_data/kinder_43.jpg')"
            ]
          },
          "metadata": {
            "tags": []
          }
        },
        {
          "output_type": "display_data",
          "data": {
            "text/plain": [
              "(<PIL.JpegImagePlugin.JpegImageFile image mode=RGB size=4000x3000 at 0x7F6A931113C8>,\n",
              " 'annotation/kinder_44.xml',\n",
              " 'train_data/kinder_44.jpg')"
            ]
          },
          "metadata": {
            "tags": []
          }
        },
        {
          "output_type": "display_data",
          "data": {
            "text/plain": [
              "(<PIL.JpegImagePlugin.JpegImageFile image mode=RGB size=3000x4000 at 0x7F6A93111BA8>,\n",
              " 'annotation/kinder_45.xml',\n",
              " 'train_data/kinder_45.jpg')"
            ]
          },
          "metadata": {
            "tags": []
          }
        },
        {
          "output_type": "display_data",
          "data": {
            "text/plain": [
              "(<PIL.JpegImagePlugin.JpegImageFile image mode=RGB size=4000x3000 at 0x7F6A931111D0>,\n",
              " 'annotation/kinder_46.xml',\n",
              " 'train_data/kinder_46.jpg')"
            ]
          },
          "metadata": {
            "tags": []
          }
        },
        {
          "output_type": "display_data",
          "data": {
            "text/plain": [
              "(<PIL.JpegImagePlugin.JpegImageFile image mode=RGB size=3000x4000 at 0x7F6A931113C8>,\n",
              " 'annotation/kinder_47.xml',\n",
              " 'train_data/kinder_47.jpg')"
            ]
          },
          "metadata": {
            "tags": []
          }
        },
        {
          "output_type": "display_data",
          "data": {
            "text/plain": [
              "(<PIL.JpegImagePlugin.JpegImageFile image mode=RGB size=3000x4000 at 0x7F6A93111BA8>,\n",
              " 'annotation/kinder_48.xml',\n",
              " 'train_data/kinder_48.jpg')"
            ]
          },
          "metadata": {
            "tags": []
          }
        },
        {
          "output_type": "display_data",
          "data": {
            "text/plain": [
              "(<PIL.JpegImagePlugin.JpegImageFile image mode=RGB size=3000x4000 at 0x7F6A931111D0>,\n",
              " 'annotation/kinder_49.xml',\n",
              " 'train_data/kinder_49.jpg')"
            ]
          },
          "metadata": {
            "tags": []
          }
        },
        {
          "output_type": "display_data",
          "data": {
            "text/plain": [
              "(<PIL.JpegImagePlugin.JpegImageFile image mode=RGB size=3000x4000 at 0x7F6A931113C8>,\n",
              " 'annotation/kinder_50.xml',\n",
              " 'train_data/kinder_50.jpg')"
            ]
          },
          "metadata": {
            "tags": []
          }
        },
        {
          "output_type": "display_data",
          "data": {
            "text/plain": [
              "(<PIL.JpegImagePlugin.JpegImageFile image mode=RGB size=3000x4000 at 0x7F6A93111BA8>,\n",
              " 'annotation/kinder_52.xml',\n",
              " 'train_data/kinder_52.jpg')"
            ]
          },
          "metadata": {
            "tags": []
          }
        },
        {
          "output_type": "display_data",
          "data": {
            "text/plain": [
              "(<PIL.JpegImagePlugin.JpegImageFile image mode=RGB size=3000x4000 at 0x7F6A931111D0>,\n",
              " 'annotation/kinder_53.xml',\n",
              " 'train_data/kinder_53.jpg')"
            ]
          },
          "metadata": {
            "tags": []
          }
        },
        {
          "output_type": "display_data",
          "data": {
            "text/plain": [
              "(<PIL.JpegImagePlugin.JpegImageFile image mode=RGB size=4000x3000 at 0x7F6A931113C8>,\n",
              " 'annotation/kinder_54.xml',\n",
              " 'train_data/kinder_54.jpg')"
            ]
          },
          "metadata": {
            "tags": []
          }
        },
        {
          "output_type": "display_data",
          "data": {
            "text/plain": [
              "(<PIL.JpegImagePlugin.JpegImageFile image mode=RGB size=3000x4000 at 0x7F6A93111BA8>,\n",
              " 'annotation/kinder_55.xml',\n",
              " 'train_data/kinder_55.jpg')"
            ]
          },
          "metadata": {
            "tags": []
          }
        },
        {
          "output_type": "display_data",
          "data": {
            "text/plain": [
              "(<PIL.JpegImagePlugin.JpegImageFile image mode=RGB size=3000x4000 at 0x7F6A931111D0>,\n",
              " 'annotation/kinder_56.xml',\n",
              " 'train_data/kinder_56.jpg')"
            ]
          },
          "metadata": {
            "tags": []
          }
        },
        {
          "output_type": "display_data",
          "data": {
            "text/plain": [
              "(<PIL.JpegImagePlugin.JpegImageFile image mode=RGB size=3000x4000 at 0x7F6A931113C8>,\n",
              " 'annotation/kinder_57.xml',\n",
              " 'train_data/kinder_57.jpg')"
            ]
          },
          "metadata": {
            "tags": []
          }
        },
        {
          "output_type": "display_data",
          "data": {
            "text/plain": [
              "(<PIL.JpegImagePlugin.JpegImageFile image mode=RGB size=4000x3000 at 0x7F6A93111BA8>,\n",
              " 'annotation/kinder_58.xml',\n",
              " 'train_data/kinder_58.jpg')"
            ]
          },
          "metadata": {
            "tags": []
          }
        },
        {
          "output_type": "display_data",
          "data": {
            "text/plain": [
              "(<PIL.JpegImagePlugin.JpegImageFile image mode=RGB size=4000x3000 at 0x7F6A931111D0>,\n",
              " 'annotation/kinder_59.xml',\n",
              " 'train_data/kinder_59.jpg')"
            ]
          },
          "metadata": {
            "tags": []
          }
        },
        {
          "output_type": "display_data",
          "data": {
            "text/plain": [
              "(<PIL.JpegImagePlugin.JpegImageFile image mode=RGB size=3000x4000 at 0x7F6A931113C8>,\n",
              " 'annotation/kinder_60.xml',\n",
              " 'train_data/kinder_60.jpg')"
            ]
          },
          "metadata": {
            "tags": []
          }
        },
        {
          "output_type": "display_data",
          "data": {
            "text/plain": [
              "(<PIL.JpegImagePlugin.JpegImageFile image mode=RGB size=4000x3000 at 0x7F6A93111BA8>,\n",
              " 'annotation/kinder_61.xml',\n",
              " 'train_data/kinder_61.jpg')"
            ]
          },
          "metadata": {
            "tags": []
          }
        },
        {
          "output_type": "display_data",
          "data": {
            "text/plain": [
              "(<PIL.JpegImagePlugin.JpegImageFile image mode=RGB size=3000x4000 at 0x7F6A931111D0>,\n",
              " 'annotation/kinder_62.xml',\n",
              " 'train_data/kinder_62.jpg')"
            ]
          },
          "metadata": {
            "tags": []
          }
        },
        {
          "output_type": "display_data",
          "data": {
            "text/plain": [
              "(<PIL.JpegImagePlugin.JpegImageFile image mode=RGB size=4000x3000 at 0x7F6A931113C8>,\n",
              " 'annotation/kinder_63.xml',\n",
              " 'train_data/kinder_63.jpg')"
            ]
          },
          "metadata": {
            "tags": []
          }
        },
        {
          "output_type": "display_data",
          "data": {
            "text/plain": [
              "(<PIL.JpegImagePlugin.JpegImageFile image mode=RGB size=4000x3000 at 0x7F6A93111BA8>,\n",
              " 'annotation/kinder_64.xml',\n",
              " 'train_data/kinder_64.jpg')"
            ]
          },
          "metadata": {
            "tags": []
          }
        },
        {
          "output_type": "display_data",
          "data": {
            "text/plain": [
              "(<PIL.JpegImagePlugin.JpegImageFile image mode=RGB size=3000x4000 at 0x7F6A931111D0>,\n",
              " 'annotation/kinder_65.xml',\n",
              " 'train_data/kinder_65.jpg')"
            ]
          },
          "metadata": {
            "tags": []
          }
        },
        {
          "output_type": "display_data",
          "data": {
            "text/plain": [
              "(<PIL.JpegImagePlugin.JpegImageFile image mode=RGB size=3000x4000 at 0x7F6A931113C8>,\n",
              " 'annotation/kinder_66.xml',\n",
              " 'train_data/kinder_66.jpg')"
            ]
          },
          "metadata": {
            "tags": []
          }
        },
        {
          "output_type": "display_data",
          "data": {
            "text/plain": [
              "(<PIL.JpegImagePlugin.JpegImageFile image mode=RGB size=3000x4000 at 0x7F6A93111BA8>,\n",
              " 'annotation/kinder_67.xml',\n",
              " 'train_data/kinder_67.jpg')"
            ]
          },
          "metadata": {
            "tags": []
          }
        },
        {
          "output_type": "display_data",
          "data": {
            "text/plain": [
              "(<PIL.JpegImagePlugin.JpegImageFile image mode=RGB size=3000x4000 at 0x7F6A931111D0>,\n",
              " 'annotation/kinder_68.xml',\n",
              " 'train_data/kinder_68.jpg')"
            ]
          },
          "metadata": {
            "tags": []
          }
        },
        {
          "output_type": "display_data",
          "data": {
            "text/plain": [
              "(<PIL.JpegImagePlugin.JpegImageFile image mode=RGB size=3000x4000 at 0x7F6A931113C8>,\n",
              " 'annotation/kinder_69.xml',\n",
              " 'train_data/kinder_69.jpg')"
            ]
          },
          "metadata": {
            "tags": []
          }
        },
        {
          "output_type": "display_data",
          "data": {
            "text/plain": [
              "(<PIL.JpegImagePlugin.JpegImageFile image mode=RGB size=4000x3000 at 0x7F6A93111BA8>,\n",
              " 'annotation/kinder_70.xml',\n",
              " 'train_data/kinder_70.jpg')"
            ]
          },
          "metadata": {
            "tags": []
          }
        },
        {
          "output_type": "display_data",
          "data": {
            "text/plain": [
              "(<PIL.JpegImagePlugin.JpegImageFile image mode=RGB size=3000x4000 at 0x7F6A931111D0>,\n",
              " 'annotation/kinder_71.xml',\n",
              " 'train_data/kinder_71.jpg')"
            ]
          },
          "metadata": {
            "tags": []
          }
        },
        {
          "output_type": "display_data",
          "data": {
            "text/plain": [
              "(<PIL.JpegImagePlugin.JpegImageFile image mode=RGB size=3000x4000 at 0x7F6A931113C8>,\n",
              " 'annotation/kinder_72.xml',\n",
              " 'train_data/kinder_72.jpg')"
            ]
          },
          "metadata": {
            "tags": []
          }
        },
        {
          "output_type": "display_data",
          "data": {
            "text/plain": [
              "(<PIL.JpegImagePlugin.JpegImageFile image mode=RGB size=4000x3000 at 0x7F6A93111BA8>,\n",
              " 'annotation/kinder_73.xml',\n",
              " 'train_data/kinder_73.jpg')"
            ]
          },
          "metadata": {
            "tags": []
          }
        },
        {
          "output_type": "display_data",
          "data": {
            "text/plain": [
              "(<PIL.JpegImagePlugin.JpegImageFile image mode=RGB size=3000x4000 at 0x7F6A931111D0>,\n",
              " 'annotation/kinder_74.xml',\n",
              " 'train_data/kinder_74.jpg')"
            ]
          },
          "metadata": {
            "tags": []
          }
        },
        {
          "output_type": "display_data",
          "data": {
            "text/plain": [
              "(<PIL.JpegImagePlugin.JpegImageFile image mode=RGB size=3000x4000 at 0x7F6A931113C8>,\n",
              " 'annotation/kinder_75.xml',\n",
              " 'train_data/kinder_75.jpg')"
            ]
          },
          "metadata": {
            "tags": []
          }
        },
        {
          "output_type": "display_data",
          "data": {
            "text/plain": [
              "(<PIL.JpegImagePlugin.JpegImageFile image mode=RGB size=3000x4000 at 0x7F6A93111BA8>,\n",
              " 'annotation/kinder_76.xml',\n",
              " 'train_data/kinder_76.jpg')"
            ]
          },
          "metadata": {
            "tags": []
          }
        },
        {
          "output_type": "display_data",
          "data": {
            "text/plain": [
              "(<PIL.JpegImagePlugin.JpegImageFile image mode=RGB size=3000x4000 at 0x7F6A931111D0>,\n",
              " 'annotation/kinder_77.xml',\n",
              " 'train_data/kinder_77.jpg')"
            ]
          },
          "metadata": {
            "tags": []
          }
        },
        {
          "output_type": "display_data",
          "data": {
            "text/plain": [
              "(<PIL.JpegImagePlugin.JpegImageFile image mode=RGB size=4000x3000 at 0x7F6A931113C8>,\n",
              " 'annotation/kinder_78.xml',\n",
              " 'train_data/kinder_78.jpg')"
            ]
          },
          "metadata": {
            "tags": []
          }
        },
        {
          "output_type": "display_data",
          "data": {
            "text/plain": [
              "(<PIL.JpegImagePlugin.JpegImageFile image mode=RGB size=4000x3000 at 0x7F6A93111BA8>,\n",
              " 'annotation/kinder_79.xml',\n",
              " 'train_data/kinder_79.jpg')"
            ]
          },
          "metadata": {
            "tags": []
          }
        },
        {
          "output_type": "display_data",
          "data": {
            "text/plain": [
              "(<PIL.JpegImagePlugin.JpegImageFile image mode=RGB size=3000x4000 at 0x7F6A931111D0>,\n",
              " 'annotation/kinder_80.xml',\n",
              " 'train_data/kinder_80.jpg')"
            ]
          },
          "metadata": {
            "tags": []
          }
        },
        {
          "output_type": "display_data",
          "data": {
            "text/plain": [
              "(<PIL.JpegImagePlugin.JpegImageFile image mode=RGB size=3000x4000 at 0x7F6A931113C8>,\n",
              " 'annotation/kinder_81.xml',\n",
              " 'train_data/kinder_81.jpg')"
            ]
          },
          "metadata": {
            "tags": []
          }
        },
        {
          "output_type": "display_data",
          "data": {
            "text/plain": [
              "(<PIL.JpegImagePlugin.JpegImageFile image mode=RGB size=4000x3000 at 0x7F6A93111BA8>,\n",
              " 'annotation/kinder_82.xml',\n",
              " 'train_data/kinder_82.jpg')"
            ]
          },
          "metadata": {
            "tags": []
          }
        },
        {
          "output_type": "display_data",
          "data": {
            "text/plain": [
              "(<PIL.JpegImagePlugin.JpegImageFile image mode=RGB size=3000x4000 at 0x7F6A931111D0>,\n",
              " 'annotation/kinder_83.xml',\n",
              " 'train_data/kinder_83.jpg')"
            ]
          },
          "metadata": {
            "tags": []
          }
        },
        {
          "output_type": "display_data",
          "data": {
            "text/plain": [
              "(<PIL.JpegImagePlugin.JpegImageFile image mode=RGB size=4000x3000 at 0x7F6A931113C8>,\n",
              " 'annotation/kinder_84.xml',\n",
              " 'train_data/kinder_84.jpg')"
            ]
          },
          "metadata": {
            "tags": []
          }
        },
        {
          "output_type": "display_data",
          "data": {
            "text/plain": [
              "(<PIL.JpegImagePlugin.JpegImageFile image mode=RGB size=3000x4000 at 0x7F6A93111BA8>,\n",
              " 'annotation/kinder_85.xml',\n",
              " 'train_data/kinder_85.jpg')"
            ]
          },
          "metadata": {
            "tags": []
          }
        },
        {
          "output_type": "display_data",
          "data": {
            "text/plain": [
              "(<PIL.JpegImagePlugin.JpegImageFile image mode=RGB size=3000x4000 at 0x7F6A931111D0>,\n",
              " 'annotation/kinder_86.xml',\n",
              " 'train_data/kinder_86.jpg')"
            ]
          },
          "metadata": {
            "tags": []
          }
        },
        {
          "output_type": "display_data",
          "data": {
            "text/plain": [
              "(<PIL.JpegImagePlugin.JpegImageFile image mode=RGB size=3000x4000 at 0x7F6A931113C8>,\n",
              " 'annotation/kinder_87.xml',\n",
              " 'train_data/kinder_87.jpg')"
            ]
          },
          "metadata": {
            "tags": []
          }
        },
        {
          "output_type": "display_data",
          "data": {
            "text/plain": [
              "(<PIL.JpegImagePlugin.JpegImageFile image mode=RGB size=3000x4000 at 0x7F6A93111BA8>,\n",
              " 'annotation/kinder_88.xml',\n",
              " 'train_data/kinder_88.jpg')"
            ]
          },
          "metadata": {
            "tags": []
          }
        },
        {
          "output_type": "display_data",
          "data": {
            "text/plain": [
              "(<PIL.JpegImagePlugin.JpegImageFile image mode=RGB size=4000x3000 at 0x7F6A931111D0>,\n",
              " 'annotation/kinder_89.xml',\n",
              " 'train_data/kinder_89.jpg')"
            ]
          },
          "metadata": {
            "tags": []
          }
        },
        {
          "output_type": "display_data",
          "data": {
            "text/plain": [
              "(<PIL.JpegImagePlugin.JpegImageFile image mode=RGB size=4000x3000 at 0x7F6A931113C8>,\n",
              " 'annotation/kinder_90.xml',\n",
              " 'train_data/kinder_90.jpg')"
            ]
          },
          "metadata": {
            "tags": []
          }
        },
        {
          "output_type": "display_data",
          "data": {
            "text/plain": [
              "(<PIL.JpegImagePlugin.JpegImageFile image mode=RGB size=3000x4000 at 0x7F6A93111BA8>,\n",
              " 'annotation/kinder_91.xml',\n",
              " 'train_data/kinder_91.jpg')"
            ]
          },
          "metadata": {
            "tags": []
          }
        },
        {
          "output_type": "display_data",
          "data": {
            "text/plain": [
              "(<PIL.JpegImagePlugin.JpegImageFile image mode=RGB size=4000x3000 at 0x7F6A931111D0>,\n",
              " 'annotation/kinder_92.xml',\n",
              " 'train_data/kinder_92.jpg')"
            ]
          },
          "metadata": {
            "tags": []
          }
        },
        {
          "output_type": "display_data",
          "data": {
            "text/plain": [
              "(<PIL.JpegImagePlugin.JpegImageFile image mode=RGB size=3000x4000 at 0x7F6A931113C8>,\n",
              " 'annotation/kinder_93.xml',\n",
              " 'train_data/kinder_93.jpg')"
            ]
          },
          "metadata": {
            "tags": []
          }
        },
        {
          "output_type": "display_data",
          "data": {
            "text/plain": [
              "(<PIL.JpegImagePlugin.JpegImageFile image mode=RGB size=3000x4000 at 0x7F6A93111BA8>,\n",
              " 'annotation/kinder_94.xml',\n",
              " 'train_data/kinder_94.jpg')"
            ]
          },
          "metadata": {
            "tags": []
          }
        },
        {
          "output_type": "display_data",
          "data": {
            "text/plain": [
              "(<PIL.JpegImagePlugin.JpegImageFile image mode=RGB size=4000x3000 at 0x7F6A931111D0>,\n",
              " 'annotation/kinder_95.xml',\n",
              " 'train_data/kinder_95.jpg')"
            ]
          },
          "metadata": {
            "tags": []
          }
        },
        {
          "output_type": "display_data",
          "data": {
            "text/plain": [
              "(<PIL.JpegImagePlugin.JpegImageFile image mode=RGB size=3000x4000 at 0x7F6A931113C8>,\n",
              " 'annotation/kinder_96.xml',\n",
              " 'train_data/kinder_96.jpg')"
            ]
          },
          "metadata": {
            "tags": []
          }
        },
        {
          "output_type": "display_data",
          "data": {
            "text/plain": [
              "(<PIL.JpegImagePlugin.JpegImageFile image mode=RGB size=3000x4000 at 0x7F6A93111BA8>,\n",
              " 'annotation/kinder_97.xml',\n",
              " 'train_data/kinder_97.jpg')"
            ]
          },
          "metadata": {
            "tags": []
          }
        },
        {
          "output_type": "display_data",
          "data": {
            "text/plain": [
              "(<PIL.JpegImagePlugin.JpegImageFile image mode=RGB size=4000x3000 at 0x7F6A931113C8>,\n",
              " 'annotation/kinder_98.xml',\n",
              " 'train_data/kinder_98.jpg')"
            ]
          },
          "metadata": {
            "tags": []
          }
        },
        {
          "output_type": "display_data",
          "data": {
            "text/plain": [
              "(<PIL.JpegImagePlugin.JpegImageFile image mode=RGB size=3000x4000 at 0x7F6A931111D0>,\n",
              " 'annotation/kinder_99.xml',\n",
              " 'train_data/kinder_99.jpg')"
            ]
          },
          "metadata": {
            "tags": []
          }
        },
        {
          "output_type": "display_data",
          "data": {
            "text/plain": [
              "(<PIL.JpegImagePlugin.JpegImageFile image mode=RGB size=3000x4000 at 0x7F6A93111BA8>,\n",
              " 'annotation/kinder_100.xml',\n",
              " 'train_data/kinder_100.jpg')"
            ]
          },
          "metadata": {
            "tags": []
          }
        },
        {
          "output_type": "display_data",
          "data": {
            "text/plain": [
              "(<PIL.JpegImagePlugin.JpegImageFile image mode=RGB size=4000x3000 at 0x7F6A931111D0>,\n",
              " 'annotation/kinder_101.xml',\n",
              " 'train_data/kinder_101.jpg')"
            ]
          },
          "metadata": {
            "tags": []
          }
        },
        {
          "output_type": "display_data",
          "data": {
            "text/plain": [
              "(<PIL.JpegImagePlugin.JpegImageFile image mode=RGB size=3000x4000 at 0x7F6A92FE40F0>,\n",
              " 'annotation/kinder_102.xml',\n",
              " 'train_data/kinder_102.jpg')"
            ]
          },
          "metadata": {
            "tags": []
          }
        },
        {
          "output_type": "display_data",
          "data": {
            "text/plain": [
              "(<PIL.JpegImagePlugin.JpegImageFile image mode=RGB size=3000x4000 at 0x7F6A93111BA8>,\n",
              " 'annotation/kinder_103.xml',\n",
              " 'train_data/kinder_103.jpg')"
            ]
          },
          "metadata": {
            "tags": []
          }
        },
        {
          "output_type": "display_data",
          "data": {
            "text/plain": [
              "(<PIL.JpegImagePlugin.JpegImageFile image mode=RGB size=3000x4000 at 0x7F6A92FE40F0>,\n",
              " 'annotation/kinder_104.xml',\n",
              " 'train_data/kinder_104.jpg')"
            ]
          },
          "metadata": {
            "tags": []
          }
        },
        {
          "output_type": "display_data",
          "data": {
            "text/plain": [
              "(<PIL.JpegImagePlugin.JpegImageFile image mode=RGB size=4000x3000 at 0x7F6A931113C8>,\n",
              " 'annotation/kinder_105.xml',\n",
              " 'train_data/kinder_105.jpg')"
            ]
          },
          "metadata": {
            "tags": []
          }
        },
        {
          "output_type": "display_data",
          "data": {
            "text/plain": [
              "(<PIL.JpegImagePlugin.JpegImageFile image mode=RGB size=3000x4000 at 0x7F6A931111D0>,\n",
              " 'annotation/kinder_106.xml',\n",
              " 'train_data/kinder_106.jpg')"
            ]
          },
          "metadata": {
            "tags": []
          }
        },
        {
          "output_type": "display_data",
          "data": {
            "text/plain": [
              "(<PIL.JpegImagePlugin.JpegImageFile image mode=RGB size=3000x4000 at 0x7F6A93111BA8>,\n",
              " 'annotation/kinder_107.xml',\n",
              " 'train_data/kinder_107.jpg')"
            ]
          },
          "metadata": {
            "tags": []
          }
        },
        {
          "output_type": "display_data",
          "data": {
            "text/plain": [
              "(<PIL.JpegImagePlugin.JpegImageFile image mode=RGB size=3000x4000 at 0x7F6A931113C8>,\n",
              " 'annotation/kinder_108.xml',\n",
              " 'train_data/kinder_108.jpg')"
            ]
          },
          "metadata": {
            "tags": []
          }
        },
        {
          "output_type": "display_data",
          "data": {
            "text/plain": [
              "(<PIL.JpegImagePlugin.JpegImageFile image mode=RGB size=3000x4000 at 0x7F6A930A50B8>,\n",
              " 'annotation/kinder_109.xml',\n",
              " 'train_data/kinder_109.jpg')"
            ]
          },
          "metadata": {
            "tags": []
          }
        },
        {
          "output_type": "display_data",
          "data": {
            "text/plain": [
              "(<PIL.JpegImagePlugin.JpegImageFile image mode=RGB size=4000x3000 at 0x7F6A93111BA8>,\n",
              " 'annotation/kinder_110.xml',\n",
              " 'train_data/kinder_110.jpg')"
            ]
          },
          "metadata": {
            "tags": []
          }
        },
        {
          "output_type": "display_data",
          "data": {
            "text/plain": [
              "(<PIL.JpegImagePlugin.JpegImageFile image mode=RGB size=3000x4000 at 0x7F6A931111D0>,\n",
              " 'annotation/kinder_111.xml',\n",
              " 'train_data/kinder_111.jpg')"
            ]
          },
          "metadata": {
            "tags": []
          }
        },
        {
          "output_type": "display_data",
          "data": {
            "text/plain": [
              "(<PIL.JpegImagePlugin.JpegImageFile image mode=RGB size=4000x3000 at 0x7F6A931113C8>,\n",
              " 'annotation/kinder_112.xml',\n",
              " 'train_data/kinder_112.jpg')"
            ]
          },
          "metadata": {
            "tags": []
          }
        },
        {
          "output_type": "display_data",
          "data": {
            "text/plain": [
              "(<PIL.JpegImagePlugin.JpegImageFile image mode=RGB size=3000x4000 at 0x7F6A93111BA8>,\n",
              " 'annotation/kinder_113.xml',\n",
              " 'train_data/kinder_113.jpg')"
            ]
          },
          "metadata": {
            "tags": []
          }
        },
        {
          "output_type": "display_data",
          "data": {
            "text/plain": [
              "(<PIL.JpegImagePlugin.JpegImageFile image mode=RGB size=4000x3000 at 0x7F6A931111D0>,\n",
              " 'annotation/kinder_114.xml',\n",
              " 'train_data/kinder_114.jpg')"
            ]
          },
          "metadata": {
            "tags": []
          }
        },
        {
          "output_type": "display_data",
          "data": {
            "text/plain": [
              "(<PIL.JpegImagePlugin.JpegImageFile image mode=RGB size=3000x4000 at 0x7F6A931113C8>,\n",
              " 'annotation/kinder_115.xml',\n",
              " 'train_data/kinder_115.jpg')"
            ]
          },
          "metadata": {
            "tags": []
          }
        },
        {
          "output_type": "display_data",
          "data": {
            "text/plain": [
              "(<PIL.JpegImagePlugin.JpegImageFile image mode=RGB size=4000x3000 at 0x7F6A93111BA8>,\n",
              " 'annotation/kinder_116.xml',\n",
              " 'train_data/kinder_116.jpg')"
            ]
          },
          "metadata": {
            "tags": []
          }
        },
        {
          "output_type": "display_data",
          "data": {
            "text/plain": [
              "(<PIL.JpegImagePlugin.JpegImageFile image mode=RGB size=3000x4000 at 0x7F6A931111D0>,\n",
              " 'annotation/kinder_117.xml',\n",
              " 'train_data/kinder_117.jpg')"
            ]
          },
          "metadata": {
            "tags": []
          }
        },
        {
          "output_type": "display_data",
          "data": {
            "text/plain": [
              "(<PIL.JpegImagePlugin.JpegImageFile image mode=RGB size=3000x4000 at 0x7F6A931113C8>,\n",
              " 'annotation/kinder_118.xml',\n",
              " 'train_data/kinder_118.jpg')"
            ]
          },
          "metadata": {
            "tags": []
          }
        },
        {
          "output_type": "display_data",
          "data": {
            "text/plain": [
              "(<PIL.JpegImagePlugin.JpegImageFile image mode=RGB size=3000x4000 at 0x7F6A93111BA8>,\n",
              " 'annotation/kinder_119.xml',\n",
              " 'train_data/kinder_119.jpg')"
            ]
          },
          "metadata": {
            "tags": []
          }
        },
        {
          "output_type": "display_data",
          "data": {
            "text/plain": [
              "(<PIL.JpegImagePlugin.JpegImageFile image mode=RGB size=3000x4000 at 0x7F6A931111D0>,\n",
              " 'annotation/kinder_120.xml',\n",
              " 'train_data/kinder_120.jpg')"
            ]
          },
          "metadata": {
            "tags": []
          }
        },
        {
          "output_type": "display_data",
          "data": {
            "text/plain": [
              "(<PIL.JpegImagePlugin.JpegImageFile image mode=RGB size=3000x4000 at 0x7F6A931113C8>,\n",
              " 'annotation/kinder_121.xml',\n",
              " 'train_data/kinder_121.jpg')"
            ]
          },
          "metadata": {
            "tags": []
          }
        },
        {
          "output_type": "display_data",
          "data": {
            "text/plain": [
              "(<PIL.JpegImagePlugin.JpegImageFile image mode=RGB size=3000x4000 at 0x7F6A93111BA8>,\n",
              " 'annotation/kinder_122.xml',\n",
              " 'train_data/kinder_122.jpg')"
            ]
          },
          "metadata": {
            "tags": []
          }
        },
        {
          "output_type": "display_data",
          "data": {
            "text/plain": [
              "(<PIL.JpegImagePlugin.JpegImageFile image mode=RGB size=3000x4000 at 0x7F6A931111D0>,\n",
              " 'annotation/kinder_123.xml',\n",
              " 'train_data/kinder_123.jpg')"
            ]
          },
          "metadata": {
            "tags": []
          }
        },
        {
          "output_type": "display_data",
          "data": {
            "text/plain": [
              "(<PIL.JpegImagePlugin.JpegImageFile image mode=RGB size=3000x4000 at 0x7F6A931113C8>,\n",
              " 'annotation/kinder_124.xml',\n",
              " 'train_data/kinder_124.jpg')"
            ]
          },
          "metadata": {
            "tags": []
          }
        },
        {
          "output_type": "display_data",
          "data": {
            "text/plain": [
              "(<PIL.JpegImagePlugin.JpegImageFile image mode=RGB size=4000x3000 at 0x7F6A93111BA8>,\n",
              " 'annotation/kinder_125.xml',\n",
              " 'train_data/kinder_125.jpg')"
            ]
          },
          "metadata": {
            "tags": []
          }
        },
        {
          "output_type": "display_data",
          "data": {
            "text/plain": [
              "(<PIL.JpegImagePlugin.JpegImageFile image mode=RGB size=3000x4000 at 0x7F6A931111D0>,\n",
              " 'annotation/kinder_126.xml',\n",
              " 'train_data/kinder_126.jpg')"
            ]
          },
          "metadata": {
            "tags": []
          }
        },
        {
          "output_type": "display_data",
          "data": {
            "text/plain": [
              "(<PIL.JpegImagePlugin.JpegImageFile image mode=RGB size=3000x4000 at 0x7F6A931113C8>,\n",
              " 'annotation/kinder_127.xml',\n",
              " 'train_data/kinder_127.jpg')"
            ]
          },
          "metadata": {
            "tags": []
          }
        },
        {
          "output_type": "display_data",
          "data": {
            "text/plain": [
              "(<PIL.JpegImagePlugin.JpegImageFile image mode=RGB size=3000x4000 at 0x7F6A93111BA8>,\n",
              " 'annotation/kinder_128.xml',\n",
              " 'train_data/kinder_128.jpg')"
            ]
          },
          "metadata": {
            "tags": []
          }
        },
        {
          "output_type": "display_data",
          "data": {
            "text/plain": [
              "(<PIL.JpegImagePlugin.JpegImageFile image mode=RGB size=3000x4000 at 0x7F6A92FE44E0>,\n",
              " 'annotation/kinder_129.xml',\n",
              " 'train_data/kinder_129.jpg')"
            ]
          },
          "metadata": {
            "tags": []
          }
        },
        {
          "output_type": "display_data",
          "data": {
            "text/plain": [
              "(<PIL.JpegImagePlugin.JpegImageFile image mode=RGB size=3000x4000 at 0x7F6A92FE4470>,\n",
              " 'annotation/kinder_130.xml',\n",
              " 'train_data/kinder_130.jpg')"
            ]
          },
          "metadata": {
            "tags": []
          }
        },
        {
          "output_type": "display_data",
          "data": {
            "text/plain": [
              "(<PIL.JpegImagePlugin.JpegImageFile image mode=RGB size=3000x4000 at 0x7F6A93111BA8>,\n",
              " 'annotation/kinder_131.xml',\n",
              " 'train_data/kinder_131.jpg')"
            ]
          },
          "metadata": {
            "tags": []
          }
        },
        {
          "output_type": "display_data",
          "data": {
            "text/plain": [
              "(<PIL.JpegImagePlugin.JpegImageFile image mode=RGB size=3000x4000 at 0x7F6A931113C8>,\n",
              " 'annotation/kinder_132.xml',\n",
              " 'train_data/kinder_132.jpg')"
            ]
          },
          "metadata": {
            "tags": []
          }
        },
        {
          "output_type": "display_data",
          "data": {
            "text/plain": [
              "(<PIL.JpegImagePlugin.JpegImageFile image mode=RGB size=3000x4000 at 0x7F6A931111D0>,\n",
              " 'annotation/kinder_133.xml',\n",
              " 'train_data/kinder_133.jpg')"
            ]
          },
          "metadata": {
            "tags": []
          }
        },
        {
          "output_type": "display_data",
          "data": {
            "text/plain": [
              "(<PIL.JpegImagePlugin.JpegImageFile image mode=RGB size=3000x4000 at 0x7F6A93111BA8>,\n",
              " 'annotation/kinder_134.xml',\n",
              " 'train_data/kinder_134.jpg')"
            ]
          },
          "metadata": {
            "tags": []
          }
        },
        {
          "output_type": "display_data",
          "data": {
            "text/plain": [
              "(<PIL.JpegImagePlugin.JpegImageFile image mode=RGB size=3000x4000 at 0x7F6A931113C8>,\n",
              " 'annotation/kinder_135.xml',\n",
              " 'train_data/kinder_135.jpg')"
            ]
          },
          "metadata": {
            "tags": []
          }
        },
        {
          "output_type": "display_data",
          "data": {
            "text/plain": [
              "(<PIL.JpegImagePlugin.JpegImageFile image mode=RGB size=3000x4000 at 0x7F6A931111D0>,\n",
              " 'annotation/kinder_136.xml',\n",
              " 'train_data/kinder_136.jpg')"
            ]
          },
          "metadata": {
            "tags": []
          }
        },
        {
          "output_type": "display_data",
          "data": {
            "text/plain": [
              "(<PIL.JpegImagePlugin.JpegImageFile image mode=RGB size=3000x4000 at 0x7F6A93111BA8>,\n",
              " 'annotation/kinder_137.xml',\n",
              " 'train_data/kinder_137.jpg')"
            ]
          },
          "metadata": {
            "tags": []
          }
        },
        {
          "output_type": "display_data",
          "data": {
            "text/plain": [
              "(<PIL.JpegImagePlugin.JpegImageFile image mode=RGB size=4000x3000 at 0x7F6A931113C8>,\n",
              " 'annotation/kinder_138.xml',\n",
              " 'train_data/kinder_138.jpg')"
            ]
          },
          "metadata": {
            "tags": []
          }
        },
        {
          "output_type": "display_data",
          "data": {
            "text/plain": [
              "(<PIL.JpegImagePlugin.JpegImageFile image mode=RGB size=3000x4000 at 0x7F6A92FE4438>,\n",
              " 'annotation/kinder_139.xml',\n",
              " 'train_data/kinder_139.jpg')"
            ]
          },
          "metadata": {
            "tags": []
          }
        },
        {
          "output_type": "display_data",
          "data": {
            "text/plain": [
              "(<PIL.JpegImagePlugin.JpegImageFile image mode=RGB size=4000x3000 at 0x7F6A931111D0>,\n",
              " 'annotation/kinder_140.xml',\n",
              " 'train_data/kinder_140.jpg')"
            ]
          },
          "metadata": {
            "tags": []
          }
        },
        {
          "output_type": "display_data",
          "data": {
            "text/plain": [
              "(<PIL.JpegImagePlugin.JpegImageFile image mode=RGB size=3000x4000 at 0x7F6A93111BA8>,\n",
              " 'annotation/kinder_141.xml',\n",
              " 'train_data/kinder_141.jpg')"
            ]
          },
          "metadata": {
            "tags": []
          }
        },
        {
          "output_type": "display_data",
          "data": {
            "text/plain": [
              "(<PIL.JpegImagePlugin.JpegImageFile image mode=RGB size=4000x3000 at 0x7F6A931113C8>,\n",
              " 'annotation/kinder_142.xml',\n",
              " 'train_data/kinder_142.jpg')"
            ]
          },
          "metadata": {
            "tags": []
          }
        },
        {
          "output_type": "display_data",
          "data": {
            "text/plain": [
              "(<PIL.JpegImagePlugin.JpegImageFile image mode=RGB size=3000x4000 at 0x7F6A931111D0>,\n",
              " 'annotation/kinder_143.xml',\n",
              " 'train_data/kinder_143.jpg')"
            ]
          },
          "metadata": {
            "tags": []
          }
        },
        {
          "output_type": "display_data",
          "data": {
            "text/plain": [
              "(<PIL.JpegImagePlugin.JpegImageFile image mode=RGB size=3000x4000 at 0x7F6A93111BA8>,\n",
              " 'annotation/kinder_144.xml',\n",
              " 'train_data/kinder_144.jpg')"
            ]
          },
          "metadata": {
            "tags": []
          }
        },
        {
          "output_type": "display_data",
          "data": {
            "text/plain": [
              "(<PIL.JpegImagePlugin.JpegImageFile image mode=RGB size=4000x3000 at 0x7F6A931113C8>,\n",
              " 'annotation/kinder_145.xml',\n",
              " 'train_data/kinder_145.jpg')"
            ]
          },
          "metadata": {
            "tags": []
          }
        },
        {
          "output_type": "display_data",
          "data": {
            "text/plain": [
              "(<PIL.JpegImagePlugin.JpegImageFile image mode=RGB size=3000x4000 at 0x7F6A931111D0>,\n",
              " 'annotation/kinder_146.xml',\n",
              " 'train_data/kinder_146.jpg')"
            ]
          },
          "metadata": {
            "tags": []
          }
        },
        {
          "output_type": "display_data",
          "data": {
            "text/plain": [
              "(<PIL.JpegImagePlugin.JpegImageFile image mode=RGB size=4000x3000 at 0x7F6A93111BA8>,\n",
              " 'annotation/kinder_147.xml',\n",
              " 'train_data/kinder_147.jpg')"
            ]
          },
          "metadata": {
            "tags": []
          }
        },
        {
          "output_type": "display_data",
          "data": {
            "text/plain": [
              "(<PIL.JpegImagePlugin.JpegImageFile image mode=RGB size=3000x4000 at 0x7F6A931113C8>,\n",
              " 'annotation/kinder_148.xml',\n",
              " 'train_data/kinder_148.jpg')"
            ]
          },
          "metadata": {
            "tags": []
          }
        },
        {
          "output_type": "display_data",
          "data": {
            "text/plain": [
              "(<PIL.JpegImagePlugin.JpegImageFile image mode=RGB size=3000x4000 at 0x7F6A931111D0>,\n",
              " 'annotation/kinder_149.xml',\n",
              " 'train_data/kinder_149.jpg')"
            ]
          },
          "metadata": {
            "tags": []
          }
        },
        {
          "output_type": "display_data",
          "data": {
            "text/plain": [
              "(<PIL.JpegImagePlugin.JpegImageFile image mode=RGB size=3000x4000 at 0x7F6A931113C8>,\n",
              " 'annotation/kinder_150.xml',\n",
              " 'train_data/kinder_150.jpg')"
            ]
          },
          "metadata": {
            "tags": []
          }
        },
        {
          "output_type": "display_data",
          "data": {
            "text/plain": [
              "(<PIL.JpegImagePlugin.JpegImageFile image mode=RGB size=3000x4000 at 0x7F6A931113C8>,\n",
              " 'annotation/kinder_151.xml',\n",
              " 'train_data/kinder_151.jpg')"
            ]
          },
          "metadata": {
            "tags": []
          }
        },
        {
          "output_type": "display_data",
          "data": {
            "text/plain": [
              "(<PIL.JpegImagePlugin.JpegImageFile image mode=RGB size=3000x4000 at 0x7F6A931111D0>,\n",
              " 'annotation/kinder_152.xml',\n",
              " 'train_data/kinder_152.jpg')"
            ]
          },
          "metadata": {
            "tags": []
          }
        },
        {
          "output_type": "display_data",
          "data": {
            "text/plain": [
              "(<PIL.JpegImagePlugin.JpegImageFile image mode=RGB size=4000x3000 at 0x7F6A92FCDF60>,\n",
              " 'annotation/kinder_153.xml',\n",
              " 'train_data/kinder_153.jpg')"
            ]
          },
          "metadata": {
            "tags": []
          }
        },
        {
          "output_type": "display_data",
          "data": {
            "text/plain": [
              "(<PIL.JpegImagePlugin.JpegImageFile image mode=RGB size=3000x4000 at 0x7F6A93111BA8>,\n",
              " 'annotation/kinder_154.xml',\n",
              " 'train_data/kinder_154.jpg')"
            ]
          },
          "metadata": {
            "tags": []
          }
        },
        {
          "output_type": "display_data",
          "data": {
            "text/plain": [
              "(<PIL.JpegImagePlugin.JpegImageFile image mode=RGB size=4000x3000 at 0x7F6A931111D0>,\n",
              " 'annotation/kinder_155.xml',\n",
              " 'train_data/kinder_155.jpg')"
            ]
          },
          "metadata": {
            "tags": []
          }
        },
        {
          "output_type": "display_data",
          "data": {
            "text/plain": [
              "(<PIL.JpegImagePlugin.JpegImageFile image mode=RGB size=3000x4000 at 0x7F6A931113C8>,\n",
              " 'annotation/kinder_156.xml',\n",
              " 'train_data/kinder_156.jpg')"
            ]
          },
          "metadata": {
            "tags": []
          }
        },
        {
          "output_type": "display_data",
          "data": {
            "text/plain": [
              "(<PIL.JpegImagePlugin.JpegImageFile image mode=RGB size=3000x4000 at 0x7F6A931111D0>,\n",
              " 'annotation/kinder_157.xml',\n",
              " 'train_data/kinder_157.jpg')"
            ]
          },
          "metadata": {
            "tags": []
          }
        },
        {
          "output_type": "display_data",
          "data": {
            "text/plain": [
              "(<PIL.JpegImagePlugin.JpegImageFile image mode=RGB size=3000x4000 at 0x7F6A931111D0>,\n",
              " 'annotation/kinder_158.xml',\n",
              " 'train_data/kinder_158.jpg')"
            ]
          },
          "metadata": {
            "tags": []
          }
        },
        {
          "output_type": "display_data",
          "data": {
            "text/plain": [
              "(<PIL.JpegImagePlugin.JpegImageFile image mode=RGB size=3000x4000 at 0x7F6A931113C8>,\n",
              " 'annotation/kinder_159.xml',\n",
              " 'train_data/kinder_159.jpg')"
            ]
          },
          "metadata": {
            "tags": []
          }
        },
        {
          "output_type": "display_data",
          "data": {
            "text/plain": [
              "(<PIL.JpegImagePlugin.JpegImageFile image mode=RGB size=3000x4000 at 0x7F6A92FCDEB8>,\n",
              " 'annotation/kinder_160.xml',\n",
              " 'train_data/kinder_160.jpg')"
            ]
          },
          "metadata": {
            "tags": []
          }
        },
        {
          "output_type": "display_data",
          "data": {
            "text/plain": [
              "(<PIL.JpegImagePlugin.JpegImageFile image mode=RGB size=4000x3000 at 0x7F6A931113C8>,\n",
              " 'annotation/kinder_161.xml',\n",
              " 'train_data/kinder_161.jpg')"
            ]
          },
          "metadata": {
            "tags": []
          }
        },
        {
          "output_type": "display_data",
          "data": {
            "text/plain": [
              "(<PIL.JpegImagePlugin.JpegImageFile image mode=RGB size=3000x4000 at 0x7F6A930A50B8>,\n",
              " 'annotation/kinder_162.xml',\n",
              " 'train_data/kinder_162.jpg')"
            ]
          },
          "metadata": {
            "tags": []
          }
        },
        {
          "output_type": "display_data",
          "data": {
            "text/plain": [
              "(<PIL.JpegImagePlugin.JpegImageFile image mode=RGB size=3000x4000 at 0x7F6A93111BA8>,\n",
              " 'annotation/kinder_163.xml',\n",
              " 'train_data/kinder_163.jpg')"
            ]
          },
          "metadata": {
            "tags": []
          }
        },
        {
          "output_type": "display_data",
          "data": {
            "text/plain": [
              "(<PIL.JpegImagePlugin.JpegImageFile image mode=RGB size=4000x3000 at 0x7F6A93111BA8>,\n",
              " 'annotation/kinder_164.xml',\n",
              " 'train_data/kinder_164.jpg')"
            ]
          },
          "metadata": {
            "tags": []
          }
        },
        {
          "output_type": "display_data",
          "data": {
            "text/plain": [
              "(<PIL.JpegImagePlugin.JpegImageFile image mode=RGB size=4000x3000 at 0x7F6A93111BA8>,\n",
              " 'annotation/kinder_165.xml',\n",
              " 'train_data/kinder_165.jpg')"
            ]
          },
          "metadata": {
            "tags": []
          }
        },
        {
          "output_type": "display_data",
          "data": {
            "text/plain": [
              "(<PIL.JpegImagePlugin.JpegImageFile image mode=RGB size=4000x3000 at 0x7F6A930A50B8>,\n",
              " 'annotation/kinder_166.xml',\n",
              " 'train_data/kinder_166.jpg')"
            ]
          },
          "metadata": {
            "tags": []
          }
        },
        {
          "output_type": "display_data",
          "data": {
            "text/plain": [
              "(<PIL.JpegImagePlugin.JpegImageFile image mode=RGB size=3000x4000 at 0x7F6A92FE4E48>,\n",
              " 'annotation/kinder_167.xml',\n",
              " 'train_data/kinder_167.jpg')"
            ]
          },
          "metadata": {
            "tags": []
          }
        },
        {
          "output_type": "display_data",
          "data": {
            "text/plain": [
              "(<PIL.JpegImagePlugin.JpegImageFile image mode=RGB size=3000x4000 at 0x7F6A931111D0>,\n",
              " 'annotation/kinder_168.xml',\n",
              " 'train_data/kinder_168.jpg')"
            ]
          },
          "metadata": {
            "tags": []
          }
        },
        {
          "output_type": "display_data",
          "data": {
            "text/plain": [
              "(<PIL.JpegImagePlugin.JpegImageFile image mode=RGB size=4000x3000 at 0x7F6A93111BA8>,\n",
              " 'annotation/kinder_169.xml',\n",
              " 'train_data/kinder_169.jpg')"
            ]
          },
          "metadata": {
            "tags": []
          }
        },
        {
          "output_type": "display_data",
          "data": {
            "text/plain": [
              "(<PIL.JpegImagePlugin.JpegImageFile image mode=RGB size=4000x3000 at 0x7F6A931113C8>,\n",
              " 'annotation/kinder_170.xml',\n",
              " 'train_data/kinder_170.jpg')"
            ]
          },
          "metadata": {
            "tags": []
          }
        },
        {
          "output_type": "display_data",
          "data": {
            "text/plain": [
              "(<PIL.JpegImagePlugin.JpegImageFile image mode=RGB size=3000x4000 at 0x7F6A931111D0>,\n",
              " 'annotation/kinder_171.xml',\n",
              " 'train_data/kinder_171.jpg')"
            ]
          },
          "metadata": {
            "tags": []
          }
        },
        {
          "output_type": "display_data",
          "data": {
            "text/plain": [
              "(<PIL.JpegImagePlugin.JpegImageFile image mode=RGB size=3000x4000 at 0x7F6A93111BA8>,\n",
              " 'annotation/kinder_172.xml',\n",
              " 'train_data/kinder_172.jpg')"
            ]
          },
          "metadata": {
            "tags": []
          }
        },
        {
          "output_type": "display_data",
          "data": {
            "text/plain": [
              "(<PIL.JpegImagePlugin.JpegImageFile image mode=RGB size=4000x3000 at 0x7F6A931113C8>,\n",
              " 'annotation/kinder_174.xml',\n",
              " 'train_data/kinder_174.jpg')"
            ]
          },
          "metadata": {
            "tags": []
          }
        },
        {
          "output_type": "display_data",
          "data": {
            "text/plain": [
              "(<PIL.JpegImagePlugin.JpegImageFile image mode=RGB size=4000x3000 at 0x7F6A931111D0>,\n",
              " 'annotation/kinder_175.xml',\n",
              " 'train_data/kinder_175.jpg')"
            ]
          },
          "metadata": {
            "tags": []
          }
        },
        {
          "output_type": "display_data",
          "data": {
            "text/plain": [
              "(<PIL.JpegImagePlugin.JpegImageFile image mode=RGB size=4000x3000 at 0x7F6A93111BA8>,\n",
              " 'annotation/kinder_176.xml',\n",
              " 'train_data/kinder_176.jpg')"
            ]
          },
          "metadata": {
            "tags": []
          }
        },
        {
          "output_type": "display_data",
          "data": {
            "text/plain": [
              "(<PIL.JpegImagePlugin.JpegImageFile image mode=RGB size=3000x4000 at 0x7F6A931113C8>,\n",
              " 'annotation/kinder_177.xml',\n",
              " 'train_data/kinder_177.jpg')"
            ]
          },
          "metadata": {
            "tags": []
          }
        },
        {
          "output_type": "display_data",
          "data": {
            "text/plain": [
              "(<PIL.JpegImagePlugin.JpegImageFile image mode=RGB size=3000x4000 at 0x7F6A931111D0>,\n",
              " 'annotation/kinder_178.xml',\n",
              " 'train_data/kinder_178.jpg')"
            ]
          },
          "metadata": {
            "tags": []
          }
        },
        {
          "output_type": "display_data",
          "data": {
            "text/plain": [
              "(<PIL.JpegImagePlugin.JpegImageFile image mode=RGB size=4000x3000 at 0x7F6A93111BA8>,\n",
              " 'annotation/kinder_179.xml',\n",
              " 'train_data/kinder_179.jpg')"
            ]
          },
          "metadata": {
            "tags": []
          }
        },
        {
          "output_type": "display_data",
          "data": {
            "text/plain": [
              "(<PIL.JpegImagePlugin.JpegImageFile image mode=RGB size=3000x4000 at 0x7F6A931113C8>,\n",
              " 'annotation/kinder_180.xml',\n",
              " 'train_data/kinder_180.jpg')"
            ]
          },
          "metadata": {
            "tags": []
          }
        },
        {
          "output_type": "display_data",
          "data": {
            "text/plain": [
              "(<PIL.JpegImagePlugin.JpegImageFile image mode=RGB size=3000x4000 at 0x7F6A931111D0>,\n",
              " 'annotation/kinder_181.xml',\n",
              " 'train_data/kinder_181.jpg')"
            ]
          },
          "metadata": {
            "tags": []
          }
        },
        {
          "output_type": "display_data",
          "data": {
            "text/plain": [
              "(<PIL.JpegImagePlugin.JpegImageFile image mode=RGB size=4000x3000 at 0x7F6A93111BA8>,\n",
              " 'annotation/kinder_182.xml',\n",
              " 'train_data/kinder_182.jpg')"
            ]
          },
          "metadata": {
            "tags": []
          }
        },
        {
          "output_type": "display_data",
          "data": {
            "text/plain": [
              "(<PIL.JpegImagePlugin.JpegImageFile image mode=RGB size=4000x3000 at 0x7F6A931113C8>,\n",
              " 'annotation/kinder_183.xml',\n",
              " 'train_data/kinder_183.jpg')"
            ]
          },
          "metadata": {
            "tags": []
          }
        },
        {
          "output_type": "display_data",
          "data": {
            "text/plain": [
              "(<PIL.JpegImagePlugin.JpegImageFile image mode=RGB size=4000x3000 at 0x7F6A931113C8>,\n",
              " 'annotation/kinder_184.xml',\n",
              " 'train_data/kinder_184.jpg')"
            ]
          },
          "metadata": {
            "tags": []
          }
        },
        {
          "output_type": "display_data",
          "data": {
            "text/plain": [
              "(<PIL.JpegImagePlugin.JpegImageFile image mode=RGB size=4000x3000 at 0x7F6A93111BA8>,\n",
              " 'annotation/kinder_185.xml',\n",
              " 'train_data/kinder_185.jpg')"
            ]
          },
          "metadata": {
            "tags": []
          }
        },
        {
          "output_type": "display_data",
          "data": {
            "text/plain": [
              "(<PIL.JpegImagePlugin.JpegImageFile image mode=RGB size=3000x4000 at 0x7F6A931111D0>,\n",
              " 'annotation/kinder_186.xml',\n",
              " 'train_data/kinder_186.jpg')"
            ]
          },
          "metadata": {
            "tags": []
          }
        },
        {
          "output_type": "display_data",
          "data": {
            "text/plain": [
              "(<PIL.JpegImagePlugin.JpegImageFile image mode=RGB size=4000x3000 at 0x7F6A931113C8>,\n",
              " 'annotation/kinder_187.xml',\n",
              " 'train_data/kinder_187.jpg')"
            ]
          },
          "metadata": {
            "tags": []
          }
        },
        {
          "output_type": "display_data",
          "data": {
            "text/plain": [
              "(<PIL.JpegImagePlugin.JpegImageFile image mode=RGB size=3000x4000 at 0x7F6A93111BA8>,\n",
              " 'annotation/kinder_188.xml',\n",
              " 'train_data/kinder_188.jpg')"
            ]
          },
          "metadata": {
            "tags": []
          }
        },
        {
          "output_type": "display_data",
          "data": {
            "text/plain": [
              "(<PIL.JpegImagePlugin.JpegImageFile image mode=RGB size=3000x4000 at 0x7F6A931111D0>,\n",
              " 'annotation/kinder_189.xml',\n",
              " 'train_data/kinder_189.jpg')"
            ]
          },
          "metadata": {
            "tags": []
          }
        },
        {
          "output_type": "display_data",
          "data": {
            "text/plain": [
              "(<PIL.JpegImagePlugin.JpegImageFile image mode=RGB size=4000x3000 at 0x7F6A931113C8>,\n",
              " 'annotation/kinder_190.xml',\n",
              " 'train_data/kinder_190.jpg')"
            ]
          },
          "metadata": {
            "tags": []
          }
        },
        {
          "output_type": "display_data",
          "data": {
            "text/plain": [
              "(<PIL.JpegImagePlugin.JpegImageFile image mode=RGB size=3000x4000 at 0x7F6A93111BA8>,\n",
              " 'annotation/kinder_191.xml',\n",
              " 'train_data/kinder_191.jpg')"
            ]
          },
          "metadata": {
            "tags": []
          }
        },
        {
          "output_type": "display_data",
          "data": {
            "text/plain": [
              "(<PIL.JpegImagePlugin.JpegImageFile image mode=RGB size=4000x3000 at 0x7F6A931111D0>,\n",
              " 'annotation/kinder_192.xml',\n",
              " 'train_data/kinder_192.jpg')"
            ]
          },
          "metadata": {
            "tags": []
          }
        },
        {
          "output_type": "display_data",
          "data": {
            "text/plain": [
              "(<PIL.JpegImagePlugin.JpegImageFile image mode=RGB size=3000x4000 at 0x7F6A931113C8>,\n",
              " 'annotation/kinder_193.xml',\n",
              " 'train_data/kinder_193.jpg')"
            ]
          },
          "metadata": {
            "tags": []
          }
        },
        {
          "output_type": "display_data",
          "data": {
            "text/plain": [
              "(<PIL.JpegImagePlugin.JpegImageFile image mode=RGB size=4000x3000 at 0x7F6A93111BA8>,\n",
              " 'annotation/kinder_194.xml',\n",
              " 'train_data/kinder_194.jpg')"
            ]
          },
          "metadata": {
            "tags": []
          }
        },
        {
          "output_type": "display_data",
          "data": {
            "text/plain": [
              "(<PIL.JpegImagePlugin.JpegImageFile image mode=RGB size=3000x4000 at 0x7F6A931111D0>,\n",
              " 'annotation/kinder_195.xml',\n",
              " 'train_data/kinder_195.jpg')"
            ]
          },
          "metadata": {
            "tags": []
          }
        },
        {
          "output_type": "display_data",
          "data": {
            "text/plain": [
              "(<PIL.JpegImagePlugin.JpegImageFile image mode=RGB size=3000x4000 at 0x7F6A931113C8>,\n",
              " 'annotation/kinder_196.xml',\n",
              " 'train_data/kinder_196.jpg')"
            ]
          },
          "metadata": {
            "tags": []
          }
        },
        {
          "output_type": "display_data",
          "data": {
            "text/plain": [
              "(<PIL.JpegImagePlugin.JpegImageFile image mode=RGB size=3000x4000 at 0x7F6A93111BA8>,\n",
              " 'annotation/kinder_197.xml',\n",
              " 'train_data/kinder_197.jpg')"
            ]
          },
          "metadata": {
            "tags": []
          }
        },
        {
          "output_type": "display_data",
          "data": {
            "text/plain": [
              "(<PIL.JpegImagePlugin.JpegImageFile image mode=RGB size=3000x4000 at 0x7F6A931111D0>,\n",
              " 'annotation/kinder_198.xml',\n",
              " 'train_data/kinder_198.jpg')"
            ]
          },
          "metadata": {
            "tags": []
          }
        },
        {
          "output_type": "display_data",
          "data": {
            "text/plain": [
              "(<PIL.JpegImagePlugin.JpegImageFile image mode=RGB size=4000x3000 at 0x7F6A931113C8>,\n",
              " 'annotation/kinder_199.xml',\n",
              " 'train_data/kinder_199.jpg')"
            ]
          },
          "metadata": {
            "tags": []
          }
        },
        {
          "output_type": "display_data",
          "data": {
            "text/plain": [
              "(<PIL.JpegImagePlugin.JpegImageFile image mode=RGB size=3000x4000 at 0x7F6A93111BA8>,\n",
              " 'annotation/kinder_200.xml',\n",
              " 'train_data/kinder_200.jpg')"
            ]
          },
          "metadata": {
            "tags": []
          }
        },
        {
          "output_type": "display_data",
          "data": {
            "text/plain": [
              "(<PIL.JpegImagePlugin.JpegImageFile image mode=RGB size=4000x3000 at 0x7F6A931111D0>,\n",
              " 'annotation/kinder_201.xml',\n",
              " 'train_data/kinder_201.jpg')"
            ]
          },
          "metadata": {
            "tags": []
          }
        },
        {
          "output_type": "display_data",
          "data": {
            "text/plain": [
              "(<PIL.JpegImagePlugin.JpegImageFile image mode=RGB size=3000x4000 at 0x7F6A931113C8>,\n",
              " 'annotation/kinder_202.xml',\n",
              " 'train_data/kinder_202.jpg')"
            ]
          },
          "metadata": {
            "tags": []
          }
        },
        {
          "output_type": "display_data",
          "data": {
            "text/plain": [
              "(<PIL.JpegImagePlugin.JpegImageFile image mode=RGB size=4000x3000 at 0x7F6A93111BA8>,\n",
              " 'annotation/kinder_203.xml',\n",
              " 'train_data/kinder_203.jpg')"
            ]
          },
          "metadata": {
            "tags": []
          }
        },
        {
          "output_type": "display_data",
          "data": {
            "text/plain": [
              "(<PIL.JpegImagePlugin.JpegImageFile image mode=RGB size=3000x4000 at 0x7F6A931111D0>,\n",
              " 'annotation/kinder_204.xml',\n",
              " 'train_data/kinder_204.jpg')"
            ]
          },
          "metadata": {
            "tags": []
          }
        },
        {
          "output_type": "display_data",
          "data": {
            "text/plain": [
              "(<PIL.JpegImagePlugin.JpegImageFile image mode=RGB size=4000x3000 at 0x7F6A931113C8>,\n",
              " 'annotation/kinder_205.xml',\n",
              " 'train_data/kinder_205.jpg')"
            ]
          },
          "metadata": {
            "tags": []
          }
        },
        {
          "output_type": "display_data",
          "data": {
            "text/plain": [
              "(<PIL.JpegImagePlugin.JpegImageFile image mode=RGB size=3000x4000 at 0x7F6A93111BA8>,\n",
              " 'annotation/kinder_206.xml',\n",
              " 'train_data/kinder_206.jpg')"
            ]
          },
          "metadata": {
            "tags": []
          }
        },
        {
          "output_type": "display_data",
          "data": {
            "text/plain": [
              "(<PIL.JpegImagePlugin.JpegImageFile image mode=RGB size=3000x4000 at 0x7F6A931111D0>,\n",
              " 'annotation/kinder_207.xml',\n",
              " 'train_data/kinder_207.jpg')"
            ]
          },
          "metadata": {
            "tags": []
          }
        },
        {
          "output_type": "display_data",
          "data": {
            "text/plain": [
              "(<PIL.JpegImagePlugin.JpegImageFile image mode=RGB size=3000x4000 at 0x7F6A931113C8>,\n",
              " 'annotation/kinder_208.xml',\n",
              " 'train_data/kinder_208.jpg')"
            ]
          },
          "metadata": {
            "tags": []
          }
        },
        {
          "output_type": "display_data",
          "data": {
            "text/plain": [
              "(<PIL.JpegImagePlugin.JpegImageFile image mode=RGB size=3000x4000 at 0x7F6A93111BA8>,\n",
              " 'annotation/kinder_209.xml',\n",
              " 'train_data/kinder_209.jpg')"
            ]
          },
          "metadata": {
            "tags": []
          }
        },
        {
          "output_type": "display_data",
          "data": {
            "text/plain": [
              "(<PIL.JpegImagePlugin.JpegImageFile image mode=RGB size=3000x4000 at 0x7F6A931111D0>,\n",
              " 'annotation/kinder_210.xml',\n",
              " 'train_data/kinder_210.jpg')"
            ]
          },
          "metadata": {
            "tags": []
          }
        },
        {
          "output_type": "display_data",
          "data": {
            "text/plain": [
              "(<PIL.JpegImagePlugin.JpegImageFile image mode=RGB size=3000x4000 at 0x7F6A931113C8>,\n",
              " 'annotation/kinder_211.xml',\n",
              " 'train_data/kinder_211.jpg')"
            ]
          },
          "metadata": {
            "tags": []
          }
        },
        {
          "output_type": "display_data",
          "data": {
            "text/plain": [
              "(<PIL.JpegImagePlugin.JpegImageFile image mode=RGB size=3000x4000 at 0x7F6A93111BA8>,\n",
              " 'annotation/kinder_212.xml',\n",
              " 'train_data/kinder_212.jpg')"
            ]
          },
          "metadata": {
            "tags": []
          }
        },
        {
          "output_type": "display_data",
          "data": {
            "text/plain": [
              "(<PIL.JpegImagePlugin.JpegImageFile image mode=RGB size=3000x4000 at 0x7F6A931111D0>,\n",
              " 'annotation/kinder_213.xml',\n",
              " 'train_data/kinder_213.jpg')"
            ]
          },
          "metadata": {
            "tags": []
          }
        },
        {
          "output_type": "display_data",
          "data": {
            "text/plain": [
              "(<PIL.JpegImagePlugin.JpegImageFile image mode=RGB size=3000x4000 at 0x7F6A931113C8>,\n",
              " 'annotation/kinder_214.xml',\n",
              " 'train_data/kinder_214.jpg')"
            ]
          },
          "metadata": {
            "tags": []
          }
        },
        {
          "output_type": "display_data",
          "data": {
            "text/plain": [
              "(<PIL.JpegImagePlugin.JpegImageFile image mode=RGB size=3000x4000 at 0x7F6A93111BA8>,\n",
              " 'annotation/kinder_215.xml',\n",
              " 'train_data/kinder_215.jpg')"
            ]
          },
          "metadata": {
            "tags": []
          }
        },
        {
          "output_type": "display_data",
          "data": {
            "text/plain": [
              "(<PIL.JpegImagePlugin.JpegImageFile image mode=RGB size=3000x4000 at 0x7F6A931111D0>,\n",
              " 'annotation/kinder_216.xml',\n",
              " 'train_data/kinder_216.jpg')"
            ]
          },
          "metadata": {
            "tags": []
          }
        },
        {
          "output_type": "display_data",
          "data": {
            "text/plain": [
              "(<PIL.JpegImagePlugin.JpegImageFile image mode=RGB size=3000x4000 at 0x7F6A931113C8>,\n",
              " 'annotation/kinder_217.xml',\n",
              " 'train_data/kinder_217.jpg')"
            ]
          },
          "metadata": {
            "tags": []
          }
        },
        {
          "output_type": "display_data",
          "data": {
            "text/plain": [
              "(<PIL.JpegImagePlugin.JpegImageFile image mode=RGB size=4000x3000 at 0x7F6A93111BA8>,\n",
              " 'annotation/kinder_218.xml',\n",
              " 'train_data/kinder_218.jpg')"
            ]
          },
          "metadata": {
            "tags": []
          }
        },
        {
          "output_type": "display_data",
          "data": {
            "text/plain": [
              "(<PIL.JpegImagePlugin.JpegImageFile image mode=RGB size=4000x3000 at 0x7F6A931111D0>,\n",
              " 'annotation/kinder_219.xml',\n",
              " 'train_data/kinder_219.jpg')"
            ]
          },
          "metadata": {
            "tags": []
          }
        },
        {
          "output_type": "display_data",
          "data": {
            "text/plain": [
              "(<PIL.JpegImagePlugin.JpegImageFile image mode=RGB size=4000x3000 at 0x7F6A931113C8>,\n",
              " 'annotation/kinder_220.xml',\n",
              " 'train_data/kinder_220.jpg')"
            ]
          },
          "metadata": {
            "tags": []
          }
        },
        {
          "output_type": "display_data",
          "data": {
            "text/plain": [
              "(<PIL.JpegImagePlugin.JpegImageFile image mode=RGB size=4000x3000 at 0x7F6A93111BA8>,\n",
              " 'annotation/kinder_221.xml',\n",
              " 'train_data/kinder_221.jpg')"
            ]
          },
          "metadata": {
            "tags": []
          }
        },
        {
          "output_type": "display_data",
          "data": {
            "text/plain": [
              "(<PIL.JpegImagePlugin.JpegImageFile image mode=RGB size=3000x4000 at 0x7F6A931111D0>,\n",
              " 'annotation/kinder_222.xml',\n",
              " 'train_data/kinder_222.jpg')"
            ]
          },
          "metadata": {
            "tags": []
          }
        },
        {
          "output_type": "display_data",
          "data": {
            "text/plain": [
              "(<PIL.JpegImagePlugin.JpegImageFile image mode=RGB size=3000x4000 at 0x7F6A931113C8>,\n",
              " 'annotation/kinder_223.xml',\n",
              " 'train_data/kinder_223.jpg')"
            ]
          },
          "metadata": {
            "tags": []
          }
        },
        {
          "output_type": "display_data",
          "data": {
            "text/plain": [
              "(<PIL.JpegImagePlugin.JpegImageFile image mode=RGB size=3000x4000 at 0x7F6A93111BA8>,\n",
              " 'annotation/kinder_224.xml',\n",
              " 'train_data/kinder_224.jpg')"
            ]
          },
          "metadata": {
            "tags": []
          }
        },
        {
          "output_type": "display_data",
          "data": {
            "text/plain": [
              "(<PIL.JpegImagePlugin.JpegImageFile image mode=RGB size=3000x4000 at 0x7F6A931111D0>,\n",
              " 'annotation/kinder_225.xml',\n",
              " 'train_data/kinder_225.jpg')"
            ]
          },
          "metadata": {
            "tags": []
          }
        },
        {
          "output_type": "display_data",
          "data": {
            "text/plain": [
              "(<PIL.JpegImagePlugin.JpegImageFile image mode=RGB size=4000x3000 at 0x7F6A931113C8>,\n",
              " 'annotation/kinder_226.xml',\n",
              " 'train_data/kinder_226.jpg')"
            ]
          },
          "metadata": {
            "tags": []
          }
        },
        {
          "output_type": "display_data",
          "data": {
            "text/plain": [
              "(<PIL.JpegImagePlugin.JpegImageFile image mode=RGB size=3000x4000 at 0x7F6A93111BA8>,\n",
              " 'annotation/kinder_227.xml',\n",
              " 'train_data/kinder_227.jpg')"
            ]
          },
          "metadata": {
            "tags": []
          }
        },
        {
          "output_type": "display_data",
          "data": {
            "text/plain": [
              "(<PIL.JpegImagePlugin.JpegImageFile image mode=RGB size=3000x4000 at 0x7F6A931111D0>,\n",
              " 'annotation/kinder_228.xml',\n",
              " 'train_data/kinder_228.jpg')"
            ]
          },
          "metadata": {
            "tags": []
          }
        },
        {
          "output_type": "display_data",
          "data": {
            "text/plain": [
              "(<PIL.JpegImagePlugin.JpegImageFile image mode=RGB size=3000x4000 at 0x7F6A931113C8>,\n",
              " 'annotation/kinder_229.xml',\n",
              " 'train_data/kinder_229.jpg')"
            ]
          },
          "metadata": {
            "tags": []
          }
        },
        {
          "output_type": "display_data",
          "data": {
            "text/plain": [
              "(<PIL.JpegImagePlugin.JpegImageFile image mode=RGB size=4000x3000 at 0x7F6A93111BA8>,\n",
              " 'annotation/kinder_230.xml',\n",
              " 'train_data/kinder_230.jpg')"
            ]
          },
          "metadata": {
            "tags": []
          }
        },
        {
          "output_type": "display_data",
          "data": {
            "text/plain": [
              "(<PIL.JpegImagePlugin.JpegImageFile image mode=RGB size=4000x3000 at 0x7F6A931111D0>,\n",
              " 'annotation/kinder_231.xml',\n",
              " 'train_data/kinder_231.jpg')"
            ]
          },
          "metadata": {
            "tags": []
          }
        },
        {
          "output_type": "display_data",
          "data": {
            "text/plain": [
              "(<PIL.JpegImagePlugin.JpegImageFile image mode=RGB size=4000x3000 at 0x7F6A931113C8>,\n",
              " 'annotation/kinder_232.xml',\n",
              " 'train_data/kinder_232.jpg')"
            ]
          },
          "metadata": {
            "tags": []
          }
        },
        {
          "output_type": "display_data",
          "data": {
            "text/plain": [
              "(<PIL.JpegImagePlugin.JpegImageFile image mode=RGB size=3000x4000 at 0x7F6A93111BA8>,\n",
              " 'annotation/kinder_233.xml',\n",
              " 'train_data/kinder_233.jpg')"
            ]
          },
          "metadata": {
            "tags": []
          }
        },
        {
          "output_type": "display_data",
          "data": {
            "text/plain": [
              "(<PIL.JpegImagePlugin.JpegImageFile image mode=RGB size=3000x4000 at 0x7F6A931111D0>,\n",
              " 'annotation/kinder_234.xml',\n",
              " 'train_data/kinder_234.jpg')"
            ]
          },
          "metadata": {
            "tags": []
          }
        },
        {
          "output_type": "display_data",
          "data": {
            "text/plain": [
              "(<PIL.JpegImagePlugin.JpegImageFile image mode=RGB size=3000x4000 at 0x7F6A931113C8>,\n",
              " 'annotation/kinder_235.xml',\n",
              " 'train_data/kinder_235.jpg')"
            ]
          },
          "metadata": {
            "tags": []
          }
        },
        {
          "output_type": "display_data",
          "data": {
            "text/plain": [
              "(<PIL.JpegImagePlugin.JpegImageFile image mode=RGB size=3000x4000 at 0x7F6A93111BA8>,\n",
              " 'annotation/kinder_236.xml',\n",
              " 'train_data/kinder_236.jpg')"
            ]
          },
          "metadata": {
            "tags": []
          }
        },
        {
          "output_type": "display_data",
          "data": {
            "text/plain": [
              "(<PIL.JpegImagePlugin.JpegImageFile image mode=RGB size=3000x4000 at 0x7F6A931111D0>,\n",
              " 'annotation/kinder_237.xml',\n",
              " 'train_data/kinder_237.jpg')"
            ]
          },
          "metadata": {
            "tags": []
          }
        },
        {
          "output_type": "display_data",
          "data": {
            "text/plain": [
              "(<PIL.JpegImagePlugin.JpegImageFile image mode=RGB size=4000x3000 at 0x7F6A931113C8>,\n",
              " 'annotation/kinder_238.xml',\n",
              " 'train_data/kinder_238.jpg')"
            ]
          },
          "metadata": {
            "tags": []
          }
        },
        {
          "output_type": "display_data",
          "data": {
            "text/plain": [
              "(<PIL.JpegImagePlugin.JpegImageFile image mode=RGB size=3000x4000 at 0x7F6A93111BA8>,\n",
              " 'annotation/kinder_239.xml',\n",
              " 'train_data/kinder_239.jpg')"
            ]
          },
          "metadata": {
            "tags": []
          }
        },
        {
          "output_type": "display_data",
          "data": {
            "text/plain": [
              "(<PIL.JpegImagePlugin.JpegImageFile image mode=RGB size=4000x3000 at 0x7F6A931111D0>,\n",
              " 'annotation/kinder_240.xml',\n",
              " 'train_data/kinder_240.jpg')"
            ]
          },
          "metadata": {
            "tags": []
          }
        },
        {
          "output_type": "display_data",
          "data": {
            "text/plain": [
              "(<PIL.JpegImagePlugin.JpegImageFile image mode=RGB size=3000x4000 at 0x7F6A931113C8>,\n",
              " 'annotation/kinder_241.xml',\n",
              " 'train_data/kinder_241.jpg')"
            ]
          },
          "metadata": {
            "tags": []
          }
        },
        {
          "output_type": "display_data",
          "data": {
            "text/plain": [
              "(<PIL.JpegImagePlugin.JpegImageFile image mode=RGB size=3000x4000 at 0x7F6A93111BA8>,\n",
              " 'annotation/kinder_242.xml',\n",
              " 'train_data/kinder_242.jpg')"
            ]
          },
          "metadata": {
            "tags": []
          }
        },
        {
          "output_type": "display_data",
          "data": {
            "text/plain": [
              "(<PIL.JpegImagePlugin.JpegImageFile image mode=RGB size=3000x4000 at 0x7F6A931111D0>,\n",
              " 'annotation/kinder_243.xml',\n",
              " 'train_data/kinder_243.jpg')"
            ]
          },
          "metadata": {
            "tags": []
          }
        },
        {
          "output_type": "display_data",
          "data": {
            "text/plain": [
              "(<PIL.JpegImagePlugin.JpegImageFile image mode=RGB size=3000x4000 at 0x7F6A931113C8>,\n",
              " 'annotation/kinder_244.xml',\n",
              " 'train_data/kinder_244.jpg')"
            ]
          },
          "metadata": {
            "tags": []
          }
        },
        {
          "output_type": "display_data",
          "data": {
            "text/plain": [
              "(<PIL.JpegImagePlugin.JpegImageFile image mode=RGB size=3000x4000 at 0x7F6A93111BA8>,\n",
              " 'annotation/kinder_245.xml',\n",
              " 'train_data/kinder_245.jpg')"
            ]
          },
          "metadata": {
            "tags": []
          }
        },
        {
          "output_type": "display_data",
          "data": {
            "text/plain": [
              "(<PIL.JpegImagePlugin.JpegImageFile image mode=RGB size=3000x4000 at 0x7F6A931111D0>,\n",
              " 'annotation/kinder_246.xml',\n",
              " 'train_data/kinder_246.jpg')"
            ]
          },
          "metadata": {
            "tags": []
          }
        },
        {
          "output_type": "display_data",
          "data": {
            "text/plain": [
              "(<PIL.JpegImagePlugin.JpegImageFile image mode=RGB size=4000x3000 at 0x7F6A931113C8>,\n",
              " 'annotation/kinder_247.xml',\n",
              " 'train_data/kinder_247.jpg')"
            ]
          },
          "metadata": {
            "tags": []
          }
        },
        {
          "output_type": "display_data",
          "data": {
            "text/plain": [
              "(<PIL.JpegImagePlugin.JpegImageFile image mode=RGB size=3000x4000 at 0x7F6A93111BA8>,\n",
              " 'annotation/kinder_248.xml',\n",
              " 'train_data/kinder_248.jpg')"
            ]
          },
          "metadata": {
            "tags": []
          }
        },
        {
          "output_type": "display_data",
          "data": {
            "text/plain": [
              "(<PIL.JpegImagePlugin.JpegImageFile image mode=RGB size=3000x4000 at 0x7F6A931111D0>,\n",
              " 'annotation/kinder_249.xml',\n",
              " 'train_data/kinder_249.jpg')"
            ]
          },
          "metadata": {
            "tags": []
          }
        },
        {
          "output_type": "display_data",
          "data": {
            "text/plain": [
              "(<PIL.JpegImagePlugin.JpegImageFile image mode=RGB size=3000x4000 at 0x7F6A931113C8>,\n",
              " 'annotation/kinder_250.xml',\n",
              " 'train_data/kinder_250.jpg')"
            ]
          },
          "metadata": {
            "tags": []
          }
        },
        {
          "output_type": "display_data",
          "data": {
            "text/plain": [
              "(<PIL.JpegImagePlugin.JpegImageFile image mode=RGB size=3000x4000 at 0x7F6A93111BA8>,\n",
              " 'annotation/kinder_251.xml',\n",
              " 'train_data/kinder_251.jpg')"
            ]
          },
          "metadata": {
            "tags": []
          }
        },
        {
          "output_type": "display_data",
          "data": {
            "text/plain": [
              "(<PIL.JpegImagePlugin.JpegImageFile image mode=RGB size=3000x4000 at 0x7F6A931111D0>,\n",
              " 'annotation/kinder_252.xml',\n",
              " 'train_data/kinder_252.jpg')"
            ]
          },
          "metadata": {
            "tags": []
          }
        },
        {
          "output_type": "display_data",
          "data": {
            "text/plain": [
              "(<PIL.JpegImagePlugin.JpegImageFile image mode=RGB size=4000x3000 at 0x7F6A931113C8>,\n",
              " 'annotation/kinder_253.xml',\n",
              " 'train_data/kinder_253.jpg')"
            ]
          },
          "metadata": {
            "tags": []
          }
        },
        {
          "output_type": "display_data",
          "data": {
            "text/plain": [
              "(<PIL.JpegImagePlugin.JpegImageFile image mode=RGB size=4000x3000 at 0x7F6A93111BA8>,\n",
              " 'annotation/kinder_254.xml',\n",
              " 'train_data/kinder_254.jpg')"
            ]
          },
          "metadata": {
            "tags": []
          }
        },
        {
          "output_type": "display_data",
          "data": {
            "text/plain": [
              "(<PIL.JpegImagePlugin.JpegImageFile image mode=RGB size=3000x4000 at 0x7F6A931111D0>,\n",
              " 'annotation/kinder_255.xml',\n",
              " 'train_data/kinder_255.jpg')"
            ]
          },
          "metadata": {
            "tags": []
          }
        },
        {
          "output_type": "display_data",
          "data": {
            "text/plain": [
              "(<PIL.JpegImagePlugin.JpegImageFile image mode=RGB size=4000x3000 at 0x7F6A931113C8>,\n",
              " 'annotation/kinder_256.xml',\n",
              " 'train_data/kinder_256.jpg')"
            ]
          },
          "metadata": {
            "tags": []
          }
        },
        {
          "output_type": "display_data",
          "data": {
            "text/plain": [
              "(<PIL.JpegImagePlugin.JpegImageFile image mode=RGB size=3000x4000 at 0x7F6A93111BA8>,\n",
              " 'annotation/kinder_257.xml',\n",
              " 'train_data/kinder_257.jpg')"
            ]
          },
          "metadata": {
            "tags": []
          }
        },
        {
          "output_type": "display_data",
          "data": {
            "text/plain": [
              "(<PIL.JpegImagePlugin.JpegImageFile image mode=RGB size=4000x3000 at 0x7F6A931111D0>,\n",
              " 'annotation/kinder_258.xml',\n",
              " 'train_data/kinder_258.jpg')"
            ]
          },
          "metadata": {
            "tags": []
          }
        },
        {
          "output_type": "display_data",
          "data": {
            "text/plain": [
              "(<PIL.JpegImagePlugin.JpegImageFile image mode=RGB size=3000x4000 at 0x7F6A931113C8>,\n",
              " 'annotation/kinder_259.xml',\n",
              " 'train_data/kinder_259.jpg')"
            ]
          },
          "metadata": {
            "tags": []
          }
        },
        {
          "output_type": "display_data",
          "data": {
            "text/plain": [
              "(<PIL.JpegImagePlugin.JpegImageFile image mode=RGB size=3000x4000 at 0x7F6A93111BA8>,\n",
              " 'annotation/kinder_260.xml',\n",
              " 'train_data/kinder_260.jpg')"
            ]
          },
          "metadata": {
            "tags": []
          }
        },
        {
          "output_type": "display_data",
          "data": {
            "text/plain": [
              "(<PIL.JpegImagePlugin.JpegImageFile image mode=RGB size=3000x4000 at 0x7F6A931111D0>,\n",
              " 'annotation/kinder_261.xml',\n",
              " 'train_data/kinder_261.jpg')"
            ]
          },
          "metadata": {
            "tags": []
          }
        },
        {
          "output_type": "display_data",
          "data": {
            "text/plain": [
              "(<PIL.JpegImagePlugin.JpegImageFile image mode=RGB size=3000x4000 at 0x7F6A931113C8>,\n",
              " 'annotation/kinder_262.xml',\n",
              " 'train_data/kinder_262.jpg')"
            ]
          },
          "metadata": {
            "tags": []
          }
        },
        {
          "output_type": "display_data",
          "data": {
            "text/plain": [
              "(<PIL.JpegImagePlugin.JpegImageFile image mode=RGB size=3000x4000 at 0x7F6A93111BA8>,\n",
              " 'annotation/kinder_263.xml',\n",
              " 'train_data/kinder_263.jpg')"
            ]
          },
          "metadata": {
            "tags": []
          }
        },
        {
          "output_type": "display_data",
          "data": {
            "text/plain": [
              "(<PIL.JpegImagePlugin.JpegImageFile image mode=RGB size=3000x4000 at 0x7F6A931111D0>,\n",
              " 'annotation/kinder_264.xml',\n",
              " 'train_data/kinder_264.jpg')"
            ]
          },
          "metadata": {
            "tags": []
          }
        },
        {
          "output_type": "display_data",
          "data": {
            "text/plain": [
              "(<PIL.JpegImagePlugin.JpegImageFile image mode=RGB size=4000x3000 at 0x7F6A931113C8>,\n",
              " 'annotation/kinder_265.xml',\n",
              " 'train_data/kinder_265.jpg')"
            ]
          },
          "metadata": {
            "tags": []
          }
        },
        {
          "output_type": "display_data",
          "data": {
            "text/plain": [
              "(<PIL.JpegImagePlugin.JpegImageFile image mode=RGB size=4000x3000 at 0x7F6A93111BA8>,\n",
              " 'annotation/kinder_266.xml',\n",
              " 'train_data/kinder_266.jpg')"
            ]
          },
          "metadata": {
            "tags": []
          }
        },
        {
          "output_type": "display_data",
          "data": {
            "text/plain": [
              "(<PIL.JpegImagePlugin.JpegImageFile image mode=RGB size=3000x4000 at 0x7F6A931111D0>,\n",
              " 'annotation/kinder_267.xml',\n",
              " 'train_data/kinder_267.jpg')"
            ]
          },
          "metadata": {
            "tags": []
          }
        },
        {
          "output_type": "display_data",
          "data": {
            "text/plain": [
              "(<PIL.JpegImagePlugin.JpegImageFile image mode=RGB size=4000x3000 at 0x7F6A931113C8>,\n",
              " 'annotation/kinder_268.xml',\n",
              " 'train_data/kinder_268.jpg')"
            ]
          },
          "metadata": {
            "tags": []
          }
        }
      ]
    }
  ]
}