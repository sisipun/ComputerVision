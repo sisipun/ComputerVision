{
  "nbformat": 4,
  "nbformat_minor": 0,
  "metadata": {
    "colab": {
      "name": "KinderDetection.ipynb",
      "provenance": [],
      "collapsed_sections": [],
      "toc_visible": true
    },
    "kernelspec": {
      "name": "python3",
      "display_name": "Python 3"
    }
  },
  "cells": [
    {
      "cell_type": "code",
      "metadata": {
        "id": "mkTv8uIC_75j",
        "colab_type": "code",
        "colab": {}
      },
      "source": [
        "import re\n",
        "\n",
        "import os\n",
        "from os import listdir\n",
        "from os.path import isfile, join\n",
        "\n",
        "import torch\n",
        "from torch.utils.data import Dataset\n",
        "\n",
        "from PIL import Image\n",
        "\n",
        "import xml.etree.ElementTree as ET"
      ],
      "execution_count": 0,
      "outputs": []
    },
    {
      "cell_type": "code",
      "metadata": {
        "id": "_2ULlgEX_7tY",
        "colab_type": "code",
        "outputId": "66b0f2ef-fc8a-4659-93ab-9ae81d9a7e61",
        "colab": {
          "base_uri": "https://localhost:8080/",
          "height": 52
        }
      },
      "source": [
        "!unzip -q \"drive/My Drive/data/train_data.zip\"\n",
        "train_folder = 'train_data/'\n",
        "print('Number of files in the train folder', len(listdir(train_folder)))\n",
        "\n",
        "!unzip -q \"drive/My Drive/data/annotation.zip\"\n",
        "annotation_folder = 'annotation/'\n",
        "print('Number of files in the annotation folder', len(listdir(annotation_folder)))"
      ],
      "execution_count": 4,
      "outputs": [
        {
          "output_type": "stream",
          "text": [
            "Number of files in the train folder 267\n",
            "Number of files in the annotation folder 268\n"
          ],
          "name": "stdout"
        }
      ]
    },
    {
      "cell_type": "code",
      "metadata": {
        "id": "Jn3arP8i_5Em",
        "colab_type": "code",
        "colab": {}
      },
      "source": [
        "device = torch.device(\"cuda:0\")"
      ],
      "execution_count": 0,
      "outputs": []
    },
    {
      "cell_type": "code",
      "metadata": {
        "id": "9hsYfMD9BCnQ",
        "colab_type": "code",
        "colab": {}
      },
      "source": [
        "image_pattern = re.compile(r'^kinder_(?P<num>\\d*)\\.jpg$')\n",
        "annotation_pattern = re.compile(r'^kinder_(?P<num>\\d*)\\.xml$')\n",
        "\n",
        "class KinderDetectionDataset(Dataset):\n",
        "  \n",
        "  def __init__(self, image_folder, annotation_folder, transform=None):\n",
        "    self.image_folder = image_folder\n",
        "    self.annotation_folder = annotation_folder\n",
        "    self.transform = transform\n",
        "    self.image_names = self.__get_file_names__(image_folder, image_pattern)\n",
        "    self.annotation_names = self.__get_file_names__(annotation_folder, annotation_pattern)\n",
        "\n",
        "    assert len(self.image_names) == len(self.annotation_names)\n",
        "    assert self.image_names.keys() == self.annotation_names.keys()\n",
        "\n",
        "    self.keys = sorted(list(self.image_names.keys()))\n",
        "  \n",
        "  def __len__(self):\n",
        "    return len(self.keys)\n",
        "\n",
        "  def __getitem__(self, index): \n",
        "    key = self.keys[index]\n",
        "\n",
        "    image_name = self.image_names[key]\n",
        "    annotation_name = self.annotation_names[key]\n",
        "\n",
        "    image_path = os.path.join(self.image_folder, image_name)\n",
        "    annotation_path = os.path.join(self.annotation_folder, annotation_name)\n",
        "\n",
        "    img = Image.open(image_path)\n",
        "    annotation = self.__get_annotation__(annotation_path)\n",
        "\n",
        "    if self.transform:\n",
        "      img = self.transform(img)\n",
        "\n",
        "    return img, annotation\n",
        "\n",
        "  def __get_annotation__(self, annotation_path):\n",
        "    annotation = {}\n",
        "    boxes = []\n",
        "    root = ET.parse(annotation_path).getroot()\n",
        "    for bndbox in root.findall('object/bndbox'):\n",
        "      xmin = int(bndbox[0].text)\n",
        "      ymin = int(bndbox[1].text)\n",
        "      xmax = int(bndbox[2].text)\n",
        "      ymax = int(bndbox[3].text)\n",
        "      boxes.append((xmin, ymin, xmax, ymax))\n",
        "\n",
        "    boxes = torch.as_tensor(boxes, dtype=torch.float32)\n",
        "    num_objs = len(boxes)\n",
        "\n",
        "    labels = torch.ones((num_objs), dtype=torch.int64)\n",
        "\n",
        "    annotation[\"boxes\"] = boxes\n",
        "    annotation[\"labels\"] = labels\n",
        "    return annotation\n",
        "\n",
        "  def __get_file_names__(self, folder, file_name_pattern):\n",
        "    file_names = {}\n",
        "    for f in listdir(folder):\n",
        "      match = file_name_pattern.match(f)\n",
        "      if not match:\n",
        "        continue\n",
        "      \n",
        "      num = match.group('num')\n",
        "      if num == '':\n",
        "        continue\n",
        "      \n",
        "      file_names[int(num)] = f\n",
        "\n",
        "    return file_names"
      ],
      "execution_count": 0,
      "outputs": []
    },
    {
      "cell_type": "code",
      "metadata": {
        "id": "aafYeDjaDidA",
        "colab_type": "code",
        "outputId": "ee9b1720-f8f8-4b6e-fd0a-24365173232c",
        "colab": {
          "base_uri": "https://localhost:8080/",
          "height": 1000
        }
      },
      "source": [
        "data_train = KinderDetectionDataset(train_folder, annotation_folder)\n",
        "\n",
        "for i in range(266):\n",
        "  display(data_train[i])"
      ],
      "execution_count": 12,
      "outputs": [
        {
          "output_type": "display_data",
          "data": {
            "text/plain": [
              "(<PIL.JpegImagePlugin.JpegImageFile image mode=RGB size=3000x4000 at 0x7EFDDFE1A0F0>,\n",
              " {'boxes': tensor([[1044., 1035., 2416., 2283.]]), 'labels': tensor([1])})"
            ]
          },
          "metadata": {
            "tags": []
          }
        },
        {
          "output_type": "display_data",
          "data": {
            "text/plain": [
              "(<PIL.JpegImagePlugin.JpegImageFile image mode=RGB size=3000x4000 at 0x7EFDE0407550>,\n",
              " {'boxes': tensor([[1197., 2240., 1621., 2854.]]), 'labels': tensor([1])})"
            ]
          },
          "metadata": {
            "tags": []
          }
        },
        {
          "output_type": "display_data",
          "data": {
            "text/plain": [
              "(<PIL.JpegImagePlugin.JpegImageFile image mode=RGB size=3000x4000 at 0x7EFDDFE1A0F0>,\n",
              " {'boxes': tensor([[1.0000e+00, 1.8110e+03, 8.7800e+02, 3.1500e+03]]),\n",
              "  'labels': tensor([1])})"
            ]
          },
          "metadata": {
            "tags": []
          }
        },
        {
          "output_type": "display_data",
          "data": {
            "text/plain": [
              "(<PIL.JpegImagePlugin.JpegImageFile image mode=RGB size=4000x3000 at 0x7EFDDFE1A2E8>,\n",
              " {'boxes': tensor([[2698., 2075., 3094., 2656.]]), 'labels': tensor([1])})"
            ]
          },
          "metadata": {
            "tags": []
          }
        },
        {
          "output_type": "display_data",
          "data": {
            "text/plain": [
              "(<PIL.JpegImagePlugin.JpegImageFile image mode=RGB size=3000x4000 at 0x7EFDDFE1AEB8>,\n",
              " {'boxes': tensor([[1040., 2445., 1549., 3169.]]), 'labels': tensor([1])})"
            ]
          },
          "metadata": {
            "tags": []
          }
        },
        {
          "output_type": "display_data",
          "data": {
            "text/plain": [
              "(<PIL.JpegImagePlugin.JpegImageFile image mode=RGB size=3000x4000 at 0x7EFDDFE1AC18>,\n",
              " {'boxes': tensor([[ 387., 2002., 1040., 2878.]]), 'labels': tensor([1])})"
            ]
          },
          "metadata": {
            "tags": []
          }
        },
        {
          "output_type": "display_data",
          "data": {
            "text/plain": [
              "(<PIL.JpegImagePlugin.JpegImageFile image mode=RGB size=3000x4000 at 0x7EFDDFE1A518>,\n",
              " {'boxes': tensor([[ 478., 2102., 1201., 2926.]]), 'labels': tensor([1])})"
            ]
          },
          "metadata": {
            "tags": []
          }
        },
        {
          "output_type": "display_data",
          "data": {
            "text/plain": [
              "(<PIL.JpegImagePlugin.JpegImageFile image mode=RGB size=3000x4000 at 0x7EFDDFE1A278>,\n",
              " {'boxes': tensor([[1516., 1002., 2535., 2264.]]), 'labels': tensor([1])})"
            ]
          },
          "metadata": {
            "tags": []
          }
        },
        {
          "output_type": "display_data",
          "data": {
            "text/plain": [
              "(<PIL.JpegImagePlugin.JpegImageFile image mode=RGB size=4000x3000 at 0x7EFDDFE1A198>,\n",
              " {'boxes': tensor([[2548.,  867., 3786., 2694.]]), 'labels': tensor([1])})"
            ]
          },
          "metadata": {
            "tags": []
          }
        },
        {
          "output_type": "display_data",
          "data": {
            "text/plain": [
              "(<PIL.JpegImagePlugin.JpegImageFile image mode=RGB size=3000x4000 at 0x7EFDDFE1AF60>,\n",
              " {'boxes': tensor([[1359., 1888., 2030., 2311.]]), 'labels': tensor([1])})"
            ]
          },
          "metadata": {
            "tags": []
          }
        },
        {
          "output_type": "display_data",
          "data": {
            "text/plain": [
              "(<PIL.JpegImagePlugin.JpegImageFile image mode=RGB size=4000x3000 at 0x7EFDDFE1A5F8>,\n",
              " {'boxes': tensor([[1394., 1371., 2021., 1844.]]), 'labels': tensor([1])})"
            ]
          },
          "metadata": {
            "tags": []
          }
        },
        {
          "output_type": "display_data",
          "data": {
            "text/plain": [
              "(<PIL.JpegImagePlugin.JpegImageFile image mode=RGB size=3000x4000 at 0x7EFDDFE1A160>,\n",
              " {'boxes': tensor([[2263., 2740., 3000., 3993.]]), 'labels': tensor([1])})"
            ]
          },
          "metadata": {
            "tags": []
          }
        },
        {
          "output_type": "display_data",
          "data": {
            "text/plain": [
              "(<PIL.JpegImagePlugin.JpegImageFile image mode=RGB size=3000x4000 at 0x7EFDDFE1AF28>,\n",
              " {'boxes': tensor([[ 911., 1640., 1601., 2631.]]), 'labels': tensor([1])})"
            ]
          },
          "metadata": {
            "tags": []
          }
        },
        {
          "output_type": "display_data",
          "data": {
            "text/plain": [
              "(<PIL.JpegImagePlugin.JpegImageFile image mode=RGB size=3000x4000 at 0x7EFDDFE1A2E8>,\n",
              " {'boxes': tensor([[ 235., 1850., 1316., 2945.]]), 'labels': tensor([1])})"
            ]
          },
          "metadata": {
            "tags": []
          }
        },
        {
          "output_type": "display_data",
          "data": {
            "text/plain": [
              "(<PIL.JpegImagePlugin.JpegImageFile image mode=RGB size=3000x4000 at 0x7EFDDFE1A7B8>,\n",
              " {'boxes': tensor([[1440., 1921., 2049., 2678.]]), 'labels': tensor([1])})"
            ]
          },
          "metadata": {
            "tags": []
          }
        },
        {
          "output_type": "display_data",
          "data": {
            "text/plain": [
              "(<PIL.JpegImagePlugin.JpegImageFile image mode=RGB size=3000x4000 at 0x7EFDDFE1AA20>,\n",
              " {'boxes': tensor([[ 173., 2411.,  978., 3316.]]), 'labels': tensor([1])})"
            ]
          },
          "metadata": {
            "tags": []
          }
        },
        {
          "output_type": "display_data",
          "data": {
            "text/plain": [
              "(<PIL.JpegImagePlugin.JpegImageFile image mode=RGB size=3000x4000 at 0x7EFDDFE1AD68>,\n",
              " {'boxes': tensor([[ 516., 2202., 1421., 2764.]]), 'labels': tensor([1])})"
            ]
          },
          "metadata": {
            "tags": []
          }
        },
        {
          "output_type": "display_data",
          "data": {
            "text/plain": [
              "(<PIL.JpegImagePlugin.JpegImageFile image mode=RGB size=3000x4000 at 0x7EFDDFE1AC50>,\n",
              " {'boxes': tensor([[ 887., 1697., 1601., 2588.]]), 'labels': tensor([1])})"
            ]
          },
          "metadata": {
            "tags": []
          }
        },
        {
          "output_type": "display_data",
          "data": {
            "text/plain": [
              "(<PIL.JpegImagePlugin.JpegImageFile image mode=RGB size=3000x4000 at 0x7EFDDFE1AEB8>,\n",
              " {'boxes': tensor([[ 621., 2740., 1240., 3526.]]), 'labels': tensor([1])})"
            ]
          },
          "metadata": {
            "tags": []
          }
        },
        {
          "output_type": "display_data",
          "data": {
            "text/plain": [
              "(<PIL.JpegImagePlugin.JpegImageFile image mode=RGB size=4000x3000 at 0x7EFDDFE1ABA8>,\n",
              " {'boxes': tensor([[1548., 1179., 2490., 1963.]]), 'labels': tensor([1])})"
            ]
          },
          "metadata": {
            "tags": []
          }
        },
        {
          "output_type": "display_data",
          "data": {
            "text/plain": [
              "(<PIL.JpegImagePlugin.JpegImageFile image mode=RGB size=3000x4000 at 0x7EFDDFE1A6D8>,\n",
              " {'boxes': tensor([[1001., 1964., 1844., 2711.]]), 'labels': tensor([1])})"
            ]
          },
          "metadata": {
            "tags": []
          }
        },
        {
          "output_type": "display_data",
          "data": {
            "text/plain": [
              "(<PIL.JpegImagePlugin.JpegImageFile image mode=RGB size=3000x4000 at 0x7EFDDFE1A668>,\n",
              " {'boxes': tensor([[1306., 2697., 2035., 3278.]]), 'labels': tensor([1])})"
            ]
          },
          "metadata": {
            "tags": []
          }
        },
        {
          "output_type": "display_data",
          "data": {
            "text/plain": [
              "(<PIL.JpegImagePlugin.JpegImageFile image mode=RGB size=3000x4000 at 0x7EFDDFE1A438>,\n",
              " {'boxes': tensor([[1230., 2192., 1711., 2845.]]), 'labels': tensor([1])})"
            ]
          },
          "metadata": {
            "tags": []
          }
        },
        {
          "output_type": "display_data",
          "data": {
            "text/plain": [
              "(<PIL.JpegImagePlugin.JpegImageFile image mode=RGB size=3000x4000 at 0x7EFDDFE1A588>,\n",
              " {'boxes': tensor([[ 997., 1969., 1578., 2635.]]), 'labels': tensor([1])})"
            ]
          },
          "metadata": {
            "tags": []
          }
        },
        {
          "output_type": "display_data",
          "data": {
            "text/plain": [
              "(<PIL.JpegImagePlugin.JpegImageFile image mode=RGB size=3000x4000 at 0x7EFDDFE1AC18>,\n",
              " {'boxes': tensor([[ 840., 2116., 1573., 2802.]]), 'labels': tensor([1])})"
            ]
          },
          "metadata": {
            "tags": []
          }
        },
        {
          "output_type": "display_data",
          "data": {
            "text/plain": [
              "(<PIL.JpegImagePlugin.JpegImageFile image mode=RGB size=3000x4000 at 0x7EFDDFE1A4A8>,\n",
              " {'boxes': tensor([[ 754., 2369., 1697., 3273.]]), 'labels': tensor([1])})"
            ]
          },
          "metadata": {
            "tags": []
          }
        },
        {
          "output_type": "display_data",
          "data": {
            "text/plain": [
              "(<PIL.JpegImagePlugin.JpegImageFile image mode=RGB size=4000x3000 at 0x7EFDDFE1AD30>,\n",
              " {'boxes': tensor([[1590.,  886., 2617., 1736.]]), 'labels': tensor([1])})"
            ]
          },
          "metadata": {
            "tags": []
          }
        },
        {
          "output_type": "display_data",
          "data": {
            "text/plain": [
              "(<PIL.JpegImagePlugin.JpegImageFile image mode=RGB size=3000x4000 at 0x7EFDDFE1AB00>,\n",
              " {'boxes': tensor([[ 116., 1621.,  601., 2121.]]), 'labels': tensor([1])})"
            ]
          },
          "metadata": {
            "tags": []
          }
        },
        {
          "output_type": "display_data",
          "data": {
            "text/plain": [
              "(<PIL.JpegImagePlugin.JpegImageFile image mode=RGB size=4000x3000 at 0x7EFDDFE1AE10>,\n",
              " {'boxes': tensor([[ 821.,  729., 1548., 1744.]]), 'labels': tensor([1])})"
            ]
          },
          "metadata": {
            "tags": []
          }
        },
        {
          "output_type": "display_data",
          "data": {
            "text/plain": [
              "(<PIL.JpegImagePlugin.JpegImageFile image mode=RGB size=4000x3000 at 0x7EFDDFE1A748>,\n",
              " {'boxes': tensor([[1894.,  290., 2936., 1063.]]), 'labels': tensor([1])})"
            ]
          },
          "metadata": {
            "tags": []
          }
        },
        {
          "output_type": "display_data",
          "data": {
            "text/plain": [
              "(<PIL.JpegImagePlugin.JpegImageFile image mode=RGB size=3000x4000 at 0x7EFDDFE1A748>,\n",
              " {'boxes': tensor([[ 806., 1840., 1530., 2816.]]), 'labels': tensor([1])})"
            ]
          },
          "metadata": {
            "tags": []
          }
        },
        {
          "output_type": "display_data",
          "data": {
            "text/plain": [
              "(<PIL.JpegImagePlugin.JpegImageFile image mode=RGB size=4000x3000 at 0x7EFDDFE1A7B8>,\n",
              " {'boxes': tensor([[2171., 1383., 2817., 2106.]]), 'labels': tensor([1])})"
            ]
          },
          "metadata": {
            "tags": []
          }
        },
        {
          "output_type": "display_data",
          "data": {
            "text/plain": [
              "(<PIL.JpegImagePlugin.JpegImageFile image mode=RGB size=3000x4000 at 0x7EFDDFE5A438>,\n",
              " {'boxes': tensor([[1311., 2778., 1954., 3373.]]), 'labels': tensor([1])})"
            ]
          },
          "metadata": {
            "tags": []
          }
        },
        {
          "output_type": "display_data",
          "data": {
            "text/plain": [
              "(<PIL.JpegImagePlugin.JpegImageFile image mode=RGB size=4000x3000 at 0x7EFDDFE1A7B8>,\n",
              " {'boxes': tensor([[1871., 1321., 2875., 2040.]]), 'labels': tensor([1])})"
            ]
          },
          "metadata": {
            "tags": []
          }
        },
        {
          "output_type": "display_data",
          "data": {
            "text/plain": [
              "(<PIL.JpegImagePlugin.JpegImageFile image mode=RGB size=3000x4000 at 0x7EFDDFE1ACF8>,\n",
              " {'boxes': tensor([[ 997., 2269., 1511., 2907.]]), 'labels': tensor([1])})"
            ]
          },
          "metadata": {
            "tags": []
          }
        },
        {
          "output_type": "display_data",
          "data": {
            "text/plain": [
              "(<PIL.JpegImagePlugin.JpegImageFile image mode=RGB size=3000x4000 at 0x7EFDDFE1ADA0>,\n",
              " {'boxes': tensor([[ 940., 2250., 1559., 3097.]]), 'labels': tensor([1])})"
            ]
          },
          "metadata": {
            "tags": []
          }
        },
        {
          "output_type": "display_data",
          "data": {
            "text/plain": [
              "(<PIL.JpegImagePlugin.JpegImageFile image mode=RGB size=4000x3000 at 0x7EFDDFE1AA58>,\n",
              " {'boxes': tensor([[2305., 1859., 3244., 2509.]]), 'labels': tensor([1])})"
            ]
          },
          "metadata": {
            "tags": []
          }
        },
        {
          "output_type": "display_data",
          "data": {
            "text/plain": [
              "(<PIL.JpegImagePlugin.JpegImageFile image mode=RGB size=3000x4000 at 0x7EFDDFE1AF98>,\n",
              " {'boxes': tensor([[1154., 1983., 1673., 2711.]]), 'labels': tensor([1])})"
            ]
          },
          "metadata": {
            "tags": []
          }
        },
        {
          "output_type": "display_data",
          "data": {
            "text/plain": [
              "(<PIL.JpegImagePlugin.JpegImageFile image mode=RGB size=3000x4000 at 0x7EFDDFE1AE48>,\n",
              " {'boxes': tensor([[1301., 2159., 2135., 2678.]]), 'labels': tensor([1])})"
            ]
          },
          "metadata": {
            "tags": []
          }
        },
        {
          "output_type": "display_data",
          "data": {
            "text/plain": [
              "(<PIL.JpegImagePlugin.JpegImageFile image mode=RGB size=3000x4000 at 0x7EFDDFE1ACF8>,\n",
              " {'boxes': tensor([[ 616., 2145., 1373., 3240.]]), 'labels': tensor([1])})"
            ]
          },
          "metadata": {
            "tags": []
          }
        },
        {
          "output_type": "display_data",
          "data": {
            "text/plain": [
              "(<PIL.JpegImagePlugin.JpegImageFile image mode=RGB size=3000x4000 at 0x7EFDDFE1ADA0>,\n",
              " {'boxes': tensor([[1178., 1954., 1501., 2421.]]), 'labels': tensor([1])})"
            ]
          },
          "metadata": {
            "tags": []
          }
        },
        {
          "output_type": "display_data",
          "data": {
            "text/plain": [
              "(<PIL.JpegImagePlugin.JpegImageFile image mode=RGB size=3000x4000 at 0x7EFDDFE1AA58>,\n",
              " {'boxes': tensor([[1016., 2321., 1830., 3226.]]), 'labels': tensor([1])})"
            ]
          },
          "metadata": {
            "tags": []
          }
        },
        {
          "output_type": "display_data",
          "data": {
            "text/plain": [
              "(<PIL.JpegImagePlugin.JpegImageFile image mode=RGB size=3000x4000 at 0x7EFDDFE1AF98>,\n",
              " {'boxes': tensor([[ 221., 2245., 1087., 2864.]]), 'labels': tensor([1])})"
            ]
          },
          "metadata": {
            "tags": []
          }
        },
        {
          "output_type": "display_data",
          "data": {
            "text/plain": [
              "(<PIL.JpegImagePlugin.JpegImageFile image mode=RGB size=4000x3000 at 0x7EFDDFE1AE48>,\n",
              " {'boxes': tensor([[1786., 2236., 2770., 3000.]]), 'labels': tensor([1])})"
            ]
          },
          "metadata": {
            "tags": []
          }
        },
        {
          "output_type": "display_data",
          "data": {
            "text/plain": [
              "(<PIL.JpegImagePlugin.JpegImageFile image mode=RGB size=3000x4000 at 0x7EFDE0407550>,\n",
              " {'boxes': tensor([[1111., 2659., 1616., 3231.]]), 'labels': tensor([1])})"
            ]
          },
          "metadata": {
            "tags": []
          }
        },
        {
          "output_type": "display_data",
          "data": {
            "text/plain": [
              "(<PIL.JpegImagePlugin.JpegImageFile image mode=RGB size=4000x3000 at 0x7EFDDFEA8A90>,\n",
              " {'boxes': tensor([[2640., 1267., 3690., 2375.]]), 'labels': tensor([1])})"
            ]
          },
          "metadata": {
            "tags": []
          }
        },
        {
          "output_type": "display_data",
          "data": {
            "text/plain": [
              "(<PIL.JpegImagePlugin.JpegImageFile image mode=RGB size=3000x4000 at 0x7EFDDFE74F28>,\n",
              " {'boxes': tensor([[ 563., 2021., 1440., 3264.]]), 'labels': tensor([1])})"
            ]
          },
          "metadata": {
            "tags": []
          }
        },
        {
          "output_type": "display_data",
          "data": {
            "text/plain": [
              "(<PIL.JpegImagePlugin.JpegImageFile image mode=RGB size=3000x4000 at 0x7EFDDFE5A438>,\n",
              " {'boxes': tensor([[ 949., 2678., 1635., 3235.]]), 'labels': tensor([1])})"
            ]
          },
          "metadata": {
            "tags": []
          }
        },
        {
          "output_type": "display_data",
          "data": {
            "text/plain": [
              "(<PIL.JpegImagePlugin.JpegImageFile image mode=RGB size=3000x4000 at 0x7EFDDFE1A828>,\n",
              " {'boxes': tensor([[1449., 1145., 2392., 2364.]]), 'labels': tensor([1])})"
            ]
          },
          "metadata": {
            "tags": []
          }
        },
        {
          "output_type": "display_data",
          "data": {
            "text/plain": [
              "(<PIL.JpegImagePlugin.JpegImageFile image mode=RGB size=3000x4000 at 0x7EFDDFE1AF98>,\n",
              " {'boxes': tensor([[ 992., 2011., 1687., 3031.]]), 'labels': tensor([1])})"
            ]
          },
          "metadata": {
            "tags": []
          }
        },
        {
          "output_type": "display_data",
          "data": {
            "text/plain": [
              "(<PIL.JpegImagePlugin.JpegImageFile image mode=RGB size=3000x4000 at 0x7EFDDFE1A320>,\n",
              " {'boxes': tensor([[1036., 2297., 2255., 3340.]]), 'labels': tensor([1])})"
            ]
          },
          "metadata": {
            "tags": []
          }
        },
        {
          "output_type": "display_data",
          "data": {
            "text/plain": [
              "(<PIL.JpegImagePlugin.JpegImageFile image mode=RGB size=3000x4000 at 0x7EFDDFE1ACF8>,\n",
              " {'boxes': tensor([[1250., 2550., 2145., 3240.]]), 'labels': tensor([1])})"
            ]
          },
          "metadata": {
            "tags": []
          }
        },
        {
          "output_type": "display_data",
          "data": {
            "text/plain": [
              "(<PIL.JpegImagePlugin.JpegImageFile image mode=RGB size=4000x3000 at 0x7EFDDFE1ACF8>,\n",
              " {'boxes': tensor([[2410., 1306., 3122., 2131.]]), 'labels': tensor([1])})"
            ]
          },
          "metadata": {
            "tags": []
          }
        },
        {
          "output_type": "display_data",
          "data": {
            "text/plain": [
              "(<PIL.JpegImagePlugin.JpegImageFile image mode=RGB size=3000x4000 at 0x7EFDDFE1AEB8>,\n",
              " {'boxes': tensor([[1018., 2567., 1469., 2941.]]), 'labels': tensor([1])})"
            ]
          },
          "metadata": {
            "tags": []
          }
        },
        {
          "output_type": "display_data",
          "data": {
            "text/plain": [
              "(<PIL.JpegImagePlugin.JpegImageFile image mode=RGB size=3000x4000 at 0x7EFDDFE1AEB8>,\n",
              " {'boxes': tensor([[2460., 2083., 3000., 2529.]]), 'labels': tensor([1])})"
            ]
          },
          "metadata": {
            "tags": []
          }
        },
        {
          "output_type": "display_data",
          "data": {
            "text/plain": [
              "(<PIL.JpegImagePlugin.JpegImageFile image mode=RGB size=3000x4000 at 0x7EFDDFE1AE10>,\n",
              " {'boxes': tensor([[ 488., 2688., 1621., 3507.]]), 'labels': tensor([1])})"
            ]
          },
          "metadata": {
            "tags": []
          }
        },
        {
          "output_type": "display_data",
          "data": {
            "text/plain": [
              "(<PIL.JpegImagePlugin.JpegImageFile image mode=RGB size=4000x3000 at 0x7EFDDFE1A828>,\n",
              " {'boxes': tensor([[1810., 1452., 2493., 1948.]]), 'labels': tensor([1])})"
            ]
          },
          "metadata": {
            "tags": []
          }
        },
        {
          "output_type": "display_data",
          "data": {
            "text/plain": [
              "(<PIL.JpegImagePlugin.JpegImageFile image mode=RGB size=4000x3000 at 0x7EFDDFE1ACF8>,\n",
              " {'boxes': tensor([[2201., 1118., 3006., 1943.]]), 'labels': tensor([1])})"
            ]
          },
          "metadata": {
            "tags": []
          }
        },
        {
          "output_type": "display_data",
          "data": {
            "text/plain": [
              "(<PIL.JpegImagePlugin.JpegImageFile image mode=RGB size=3000x4000 at 0x7EFDDFE1A9E8>,\n",
              " {'boxes': tensor([[1183., 2350., 2326., 3302.]]), 'labels': tensor([1])})"
            ]
          },
          "metadata": {
            "tags": []
          }
        },
        {
          "output_type": "display_data",
          "data": {
            "text/plain": [
              "(<PIL.JpegImagePlugin.JpegImageFile image mode=RGB size=4000x3000 at 0x7EFDDFE1A7B8>,\n",
              " {'boxes': tensor([[1172., 1377., 2314., 2177.]]), 'labels': tensor([1])})"
            ]
          },
          "metadata": {
            "tags": []
          }
        },
        {
          "output_type": "display_data",
          "data": {
            "text/plain": [
              "(<PIL.JpegImagePlugin.JpegImageFile image mode=RGB size=3000x4000 at 0x7EFDDFE1AEF0>,\n",
              " {'boxes': tensor([[ 650., 1835., 1879., 2926.]]), 'labels': tensor([1])})"
            ]
          },
          "metadata": {
            "tags": []
          }
        },
        {
          "output_type": "display_data",
          "data": {
            "text/plain": [
              "(<PIL.JpegImagePlugin.JpegImageFile image mode=RGB size=4000x3000 at 0x7EFDDFE1A3C8>,\n",
              " {'boxes': tensor([[ 997., 1639., 1826., 2189.]]), 'labels': tensor([1])})"
            ]
          },
          "metadata": {
            "tags": []
          }
        },
        {
          "output_type": "display_data",
          "data": {
            "text/plain": [
              "(<PIL.JpegImagePlugin.JpegImageFile image mode=RGB size=4000x3000 at 0x7EFDE0407550>,\n",
              " {'boxes': tensor([[1376., 1248., 2297., 1894.]]), 'labels': tensor([1])})"
            ]
          },
          "metadata": {
            "tags": []
          }
        },
        {
          "output_type": "display_data",
          "data": {
            "text/plain": [
              "(<PIL.JpegImagePlugin.JpegImageFile image mode=RGB size=3000x4000 at 0x7EFDDFE1A3C8>,\n",
              " {'boxes': tensor([[ 850., 2611., 1564., 3126.]]), 'labels': tensor([1])})"
            ]
          },
          "metadata": {
            "tags": []
          }
        },
        {
          "output_type": "display_data",
          "data": {
            "text/plain": [
              "(<PIL.JpegImagePlugin.JpegImageFile image mode=RGB size=3000x4000 at 0x7EFDDFE1A6D8>,\n",
              " {'boxes': tensor([[ 688., 2111., 1264., 2792.]]), 'labels': tensor([1])})"
            ]
          },
          "metadata": {
            "tags": []
          }
        },
        {
          "output_type": "display_data",
          "data": {
            "text/plain": [
              "(<PIL.JpegImagePlugin.JpegImageFile image mode=RGB size=3000x4000 at 0x7EFDDFE1AA90>,\n",
              " {'boxes': tensor([[ 312., 1407., 1731., 2454.]]), 'labels': tensor([1])})"
            ]
          },
          "metadata": {
            "tags": []
          }
        },
        {
          "output_type": "display_data",
          "data": {
            "text/plain": [
              "(<PIL.JpegImagePlugin.JpegImageFile image mode=RGB size=3000x4000 at 0x7EFDDFE1A438>,\n",
              " {'boxes': tensor([[ 664., 1959., 1107., 2445.]]), 'labels': tensor([1])})"
            ]
          },
          "metadata": {
            "tags": []
          }
        },
        {
          "output_type": "display_data",
          "data": {
            "text/plain": [
              "(<PIL.JpegImagePlugin.JpegImageFile image mode=RGB size=3000x4000 at 0x7EFDDFE1AF98>,\n",
              " {'boxes': tensor([[ 450., 2231., 1521., 3473.]]), 'labels': tensor([1])})"
            ]
          },
          "metadata": {
            "tags": []
          }
        },
        {
          "output_type": "display_data",
          "data": {
            "text/plain": [
              "(<PIL.JpegImagePlugin.JpegImageFile image mode=RGB size=4000x3000 at 0x7EFDDFE1A3C8>,\n",
              " {'boxes': tensor([[ 651., 1835., 1389., 2794.]]), 'labels': tensor([1])})"
            ]
          },
          "metadata": {
            "tags": []
          }
        },
        {
          "output_type": "display_data",
          "data": {
            "text/plain": [
              "(<PIL.JpegImagePlugin.JpegImageFile image mode=RGB size=3000x4000 at 0x7EFDDFE1A6D8>,\n",
              " {'boxes': tensor([[ 598., 1445., 1221., 2135.]]), 'labels': tensor([1])})"
            ]
          },
          "metadata": {
            "tags": []
          }
        },
        {
          "output_type": "display_data",
          "data": {
            "text/plain": [
              "(<PIL.JpegImagePlugin.JpegImageFile image mode=RGB size=3000x4000 at 0x7EFDDFE1AA90>,\n",
              " {'boxes': tensor([[1483., 1683., 2107., 2421.]]), 'labels': tensor([1])})"
            ]
          },
          "metadata": {
            "tags": []
          }
        },
        {
          "output_type": "display_data",
          "data": {
            "text/plain": [
              "(<PIL.JpegImagePlugin.JpegImageFile image mode=RGB size=4000x3000 at 0x7EFDDFE1A438>,\n",
              " {'boxes': tensor([[1406., 1177., 1972., 1706.]]), 'labels': tensor([1])})"
            ]
          },
          "metadata": {
            "tags": []
          }
        },
        {
          "output_type": "display_data",
          "data": {
            "text/plain": [
              "(<PIL.JpegImagePlugin.JpegImageFile image mode=RGB size=3000x4000 at 0x7EFDDFE1AF98>,\n",
              " {'boxes': tensor([[ 345., 2621., 1507., 3592.]]), 'labels': tensor([1])})"
            ]
          },
          "metadata": {
            "tags": []
          }
        },
        {
          "output_type": "display_data",
          "data": {
            "text/plain": [
              "(<PIL.JpegImagePlugin.JpegImageFile image mode=RGB size=3000x4000 at 0x7EFDDFE1A3C8>,\n",
              " {'boxes': tensor([[ 574., 2388., 1583., 3411.]]), 'labels': tensor([1])})"
            ]
          },
          "metadata": {
            "tags": []
          }
        },
        {
          "output_type": "display_data",
          "data": {
            "text/plain": [
              "(<PIL.JpegImagePlugin.JpegImageFile image mode=RGB size=3000x4000 at 0x7EFDDFE1A6D8>,\n",
              " {'boxes': tensor([[1064., 1750., 1560., 2197.]]), 'labels': tensor([1])})"
            ]
          },
          "metadata": {
            "tags": []
          }
        },
        {
          "output_type": "display_data",
          "data": {
            "text/plain": [
              "(<PIL.JpegImagePlugin.JpegImageFile image mode=RGB size=3000x4000 at 0x7EFDDFE1AA90>,\n",
              " {'boxes': tensor([[ 617., 1602., 1779., 2373.]]), 'labels': tensor([1])})"
            ]
          },
          "metadata": {
            "tags": []
          }
        },
        {
          "output_type": "display_data",
          "data": {
            "text/plain": [
              "(<PIL.JpegImagePlugin.JpegImageFile image mode=RGB size=4000x3000 at 0x7EFDDFE1A438>,\n",
              " {'boxes': tensor([[1.1560e+03, 1.0000e+00, 2.0260e+03, 9.1000e+02]]),\n",
              "  'labels': tensor([1])})"
            ]
          },
          "metadata": {
            "tags": []
          }
        },
        {
          "output_type": "display_data",
          "data": {
            "text/plain": [
              "(<PIL.JpegImagePlugin.JpegImageFile image mode=RGB size=4000x3000 at 0x7EFDDFE1AF98>,\n",
              " {'boxes': tensor([[1781., 1256., 2318., 2035.]]), 'labels': tensor([1])})"
            ]
          },
          "metadata": {
            "tags": []
          }
        },
        {
          "output_type": "display_data",
          "data": {
            "text/plain": [
              "(<PIL.JpegImagePlugin.JpegImageFile image mode=RGB size=3000x4000 at 0x7EFDDFE1A3C8>,\n",
              " {'boxes': tensor([[ 817., 2859., 1602., 3816.]]), 'labels': tensor([1])})"
            ]
          },
          "metadata": {
            "tags": []
          }
        },
        {
          "output_type": "display_data",
          "data": {
            "text/plain": [
              "(<PIL.JpegImagePlugin.JpegImageFile image mode=RGB size=3000x4000 at 0x7EFDDFE1A6D8>,\n",
              " {'boxes': tensor([[1074.,  769., 1774., 1488.]]), 'labels': tensor([1])})"
            ]
          },
          "metadata": {
            "tags": []
          }
        },
        {
          "output_type": "display_data",
          "data": {
            "text/plain": [
              "(<PIL.JpegImagePlugin.JpegImageFile image mode=RGB size=4000x3000 at 0x7EFDDFE1AA90>,\n",
              " {'boxes': tensor([[ 947., 1894., 1693., 2902.]]), 'labels': tensor([1])})"
            ]
          },
          "metadata": {
            "tags": []
          }
        },
        {
          "output_type": "display_data",
          "data": {
            "text/plain": [
              "(<PIL.JpegImagePlugin.JpegImageFile image mode=RGB size=3000x4000 at 0x7EFDDFE1A438>,\n",
              " {'boxes': tensor([[1017., 2126., 1788., 2940.]]), 'labels': tensor([1])})"
            ]
          },
          "metadata": {
            "tags": []
          }
        },
        {
          "output_type": "display_data",
          "data": {
            "text/plain": [
              "(<PIL.JpegImagePlugin.JpegImageFile image mode=RGB size=4000x3000 at 0x7EFDDFE1AF98>,\n",
              " {'boxes': tensor([[1001.,  477., 1389.,  948.]]), 'labels': tensor([1])})"
            ]
          },
          "metadata": {
            "tags": []
          }
        },
        {
          "output_type": "display_data",
          "data": {
            "text/plain": [
              "(<PIL.JpegImagePlugin.JpegImageFile image mode=RGB size=3000x4000 at 0x7EFDDFE1A198>,\n",
              " {'boxes': tensor([[1212., 2035., 2240., 2869.]]), 'labels': tensor([1])})"
            ]
          },
          "metadata": {
            "tags": []
          }
        },
        {
          "output_type": "display_data",
          "data": {
            "text/plain": [
              "(<PIL.JpegImagePlugin.JpegImageFile image mode=RGB size=3000x4000 at 0x7EFDDFE1A3C8>,\n",
              " {'boxes': tensor([[ 702., 1754., 1288., 2559.]]), 'labels': tensor([1])})"
            ]
          },
          "metadata": {
            "tags": []
          }
        },
        {
          "output_type": "display_data",
          "data": {
            "text/plain": [
              "(<PIL.JpegImagePlugin.JpegImageFile image mode=RGB size=3000x4000 at 0x7EFDDFE1ADD8>,\n",
              " {'boxes': tensor([[ 520., 3154., 1382., 3831.]]), 'labels': tensor([1])})"
            ]
          },
          "metadata": {
            "tags": []
          }
        },
        {
          "output_type": "display_data",
          "data": {
            "text/plain": [
              "(<PIL.JpegImagePlugin.JpegImageFile image mode=RGB size=3000x4000 at 0x7EFDDFE1AF60>,\n",
              " {'boxes': tensor([[1126., 1797., 1764., 2483.]]), 'labels': tensor([1])})"
            ]
          },
          "metadata": {
            "tags": []
          }
        },
        {
          "output_type": "display_data",
          "data": {
            "text/plain": [
              "(<PIL.JpegImagePlugin.JpegImageFile image mode=RGB size=4000x3000 at 0x7EFDDFE1A6D8>,\n",
              " {'boxes': tensor([[3.1600e+03, 1.0000e+00, 3.9940e+03, 2.6300e+02]]),\n",
              "  'labels': tensor([1])})"
            ]
          },
          "metadata": {
            "tags": []
          }
        },
        {
          "output_type": "display_data",
          "data": {
            "text/plain": [
              "(<PIL.JpegImagePlugin.JpegImageFile image mode=RGB size=4000x3000 at 0x7EFDDFE1A6D8>,\n",
              " {'boxes': tensor([[2297., 1455., 3039., 2319.]]), 'labels': tensor([1])})"
            ]
          },
          "metadata": {
            "tags": []
          }
        },
        {
          "output_type": "display_data",
          "data": {
            "text/plain": [
              "(<PIL.JpegImagePlugin.JpegImageFile image mode=RGB size=3000x4000 at 0x7EFDDFE1A320>,\n",
              " {'boxes': tensor([[ 854., 2178., 1212., 2678.]]), 'labels': tensor([1])})"
            ]
          },
          "metadata": {
            "tags": []
          }
        },
        {
          "output_type": "display_data",
          "data": {
            "text/plain": [
              "(<PIL.JpegImagePlugin.JpegImageFile image mode=RGB size=4000x3000 at 0x7EFDDFE1ADA0>,\n",
              " {'boxes': tensor([[1685.,  988., 2451., 2002.]]), 'labels': tensor([1])})"
            ]
          },
          "metadata": {
            "tags": []
          }
        },
        {
          "output_type": "display_data",
          "data": {
            "text/plain": [
              "(<PIL.JpegImagePlugin.JpegImageFile image mode=RGB size=3000x4000 at 0x7EFDDFE5A8D0>,\n",
              " {'boxes': tensor([[1273., 2487., 2026., 3016.]]), 'labels': tensor([1])})"
            ]
          },
          "metadata": {
            "tags": []
          }
        },
        {
          "output_type": "display_data",
          "data": {
            "text/plain": [
              "(<PIL.JpegImagePlugin.JpegImageFile image mode=RGB size=3000x4000 at 0x7EFDDFE59F28>,\n",
              " {'boxes': tensor([[ 349., 1388., 1555., 2507.]]), 'labels': tensor([1])})"
            ]
          },
          "metadata": {
            "tags": []
          }
        },
        {
          "output_type": "display_data",
          "data": {
            "text/plain": [
              "(<PIL.JpegImagePlugin.JpegImageFile image mode=RGB size=4000x3000 at 0x7EFDDFE1A7B8>,\n",
              " {'boxes': tensor([[2300., 1255., 2701., 1627.]]), 'labels': tensor([1])})"
            ]
          },
          "metadata": {
            "tags": []
          }
        },
        {
          "output_type": "display_data",
          "data": {
            "text/plain": [
              "(<PIL.JpegImagePlugin.JpegImageFile image mode=RGB size=3000x4000 at 0x7EFDDFE1AB70>,\n",
              " {'boxes': tensor([[ 898., 2139., 1750., 2835.]]), 'labels': tensor([1])})"
            ]
          },
          "metadata": {
            "tags": []
          }
        },
        {
          "output_type": "display_data",
          "data": {
            "text/plain": [
              "(<PIL.JpegImagePlugin.JpegImageFile image mode=RGB size=3000x4000 at 0x7EFDDFE1ADA0>,\n",
              " {'boxes': tensor([[1126., 2340., 2217., 3588.]]), 'labels': tensor([1])})"
            ]
          },
          "metadata": {
            "tags": []
          }
        },
        {
          "output_type": "display_data",
          "data": {
            "text/plain": [
              "(<PIL.JpegImagePlugin.JpegImageFile image mode=RGB size=4000x3000 at 0x7EFDDFE59F28>,\n",
              " {'boxes': tensor([[ 626.,   97., 2189., 1477.]]), 'labels': tensor([1])})"
            ]
          },
          "metadata": {
            "tags": []
          }
        },
        {
          "output_type": "display_data",
          "data": {
            "text/plain": [
              "(<PIL.JpegImagePlugin.JpegImageFile image mode=RGB size=3000x4000 at 0x7EFDDFE1AA20>,\n",
              " {'boxes': tensor([[1021., 2221., 1630., 3221.]]), 'labels': tensor([1])})"
            ]
          },
          "metadata": {
            "tags": []
          }
        },
        {
          "output_type": "display_data",
          "data": {
            "text/plain": [
              "(<PIL.JpegImagePlugin.JpegImageFile image mode=RGB size=3000x4000 at 0x7EFDDFE1AA20>,\n",
              " {'boxes': tensor([[1655., 1426., 2174., 2054.]]), 'labels': tensor([1])})"
            ]
          },
          "metadata": {
            "tags": []
          }
        },
        {
          "output_type": "display_data",
          "data": {
            "text/plain": [
              "(<PIL.JpegImagePlugin.JpegImageFile image mode=RGB size=4000x3000 at 0x7EFDDFE1ABA8>,\n",
              " {'boxes': tensor([[ 560.,   43., 1456., 1069.]]), 'labels': tensor([1])})"
            ]
          },
          "metadata": {
            "tags": []
          }
        },
        {
          "output_type": "display_data",
          "data": {
            "text/plain": [
              "(<PIL.JpegImagePlugin.JpegImageFile image mode=RGB size=3000x4000 at 0x7EFDDFE59EF0>,\n",
              " {'boxes': tensor([[1973., 2535., 2840., 3163.]]), 'labels': tensor([1])})"
            ]
          },
          "metadata": {
            "tags": []
          }
        },
        {
          "output_type": "display_data",
          "data": {
            "text/plain": [
              "(<PIL.JpegImagePlugin.JpegImageFile image mode=RGB size=3000x4000 at 0x7EFDDFE59EF0>,\n",
              " {'boxes': tensor([[1060., 2696., 1860., 3655.]]), 'labels': tensor([1])})"
            ]
          },
          "metadata": {
            "tags": []
          }
        },
        {
          "output_type": "display_data",
          "data": {
            "text/plain": [
              "(<PIL.JpegImagePlugin.JpegImageFile image mode=RGB size=3000x4000 at 0x7EFDDFE1AA90>,\n",
              " {'boxes': tensor([[1065., 2178., 1745., 2978.]]), 'labels': tensor([1])})"
            ]
          },
          "metadata": {
            "tags": []
          }
        },
        {
          "output_type": "display_data",
          "data": {
            "text/plain": [
              "(<PIL.JpegImagePlugin.JpegImageFile image mode=RGB size=4000x3000 at 0x7EFDDFE1A400>,\n",
              " {'boxes': tensor([[1676., 1198., 2501., 2281.]]), 'labels': tensor([1])})"
            ]
          },
          "metadata": {
            "tags": []
          }
        },
        {
          "output_type": "display_data",
          "data": {
            "text/plain": [
              "(<PIL.JpegImagePlugin.JpegImageFile image mode=RGB size=3000x4000 at 0x7EFDDFE59F28>,\n",
              " {'boxes': tensor([[ 388., 2083., 1431., 3088.]]), 'labels': tensor([1])})"
            ]
          },
          "metadata": {
            "tags": []
          }
        },
        {
          "output_type": "display_data",
          "data": {
            "text/plain": [
              "(<PIL.JpegImagePlugin.JpegImageFile image mode=RGB size=3000x4000 at 0x7EFDDFE5A8D0>,\n",
              " {'boxes': tensor([[ 902., 2269., 2050., 3173.]]), 'labels': tensor([1])})"
            ]
          },
          "metadata": {
            "tags": []
          }
        },
        {
          "output_type": "display_data",
          "data": {
            "text/plain": [
              "(<PIL.JpegImagePlugin.JpegImageFile image mode=RGB size=3000x4000 at 0x7EFDDFE1A198>,\n",
              " {'boxes': tensor([[1060., 1569., 1640., 2011.]]), 'labels': tensor([1])})"
            ]
          },
          "metadata": {
            "tags": []
          }
        },
        {
          "output_type": "display_data",
          "data": {
            "text/plain": [
              "(<PIL.JpegImagePlugin.JpegImageFile image mode=RGB size=3000x4000 at 0x7EFDDFE1A198>,\n",
              " {'boxes': tensor([[1245., 2083., 1926., 2554.]]), 'labels': tensor([1])})"
            ]
          },
          "metadata": {
            "tags": []
          }
        },
        {
          "output_type": "display_data",
          "data": {
            "text/plain": [
              "(<PIL.JpegImagePlugin.JpegImageFile image mode=RGB size=4000x3000 at 0x7EFDDFE1A198>,\n",
              " {'boxes': tensor([[1522., 1119., 2493., 2356.]]), 'labels': tensor([1])})"
            ]
          },
          "metadata": {
            "tags": []
          }
        },
        {
          "output_type": "display_data",
          "data": {
            "text/plain": [
              "(<PIL.JpegImagePlugin.JpegImageFile image mode=RGB size=3000x4000 at 0x7EFDDFE1AA90>,\n",
              " {'boxes': tensor([[ 836., 1211., 1531., 1750.]]), 'labels': tensor([1])})"
            ]
          },
          "metadata": {
            "tags": []
          }
        },
        {
          "output_type": "display_data",
          "data": {
            "text/plain": [
              "(<PIL.JpegImagePlugin.JpegImageFile image mode=RGB size=4000x3000 at 0x7EFDDFE1A9B0>,\n",
              " {'boxes': tensor([[1485.,  802., 2331., 1981.]]), 'labels': tensor([1])})"
            ]
          },
          "metadata": {
            "tags": []
          }
        },
        {
          "output_type": "display_data",
          "data": {
            "text/plain": [
              "(<PIL.JpegImagePlugin.JpegImageFile image mode=RGB size=3000x4000 at 0x7EFDDFE1A320>,\n",
              " {'boxes': tensor([[1150., 1097., 1855., 2135.]]), 'labels': tensor([1])})"
            ]
          },
          "metadata": {
            "tags": []
          }
        },
        {
          "output_type": "display_data",
          "data": {
            "text/plain": [
              "(<PIL.JpegImagePlugin.JpegImageFile image mode=RGB size=4000x3000 at 0x7EFDDFE1AE10>,\n",
              " {'boxes': tensor([[1581., 1360., 2031., 1881.]]), 'labels': tensor([1])})"
            ]
          },
          "metadata": {
            "tags": []
          }
        },
        {
          "output_type": "display_data",
          "data": {
            "text/plain": [
              "(<PIL.JpegImagePlugin.JpegImageFile image mode=RGB size=3000x4000 at 0x7EFDDFE1AA58>,\n",
              " {'boxes': tensor([[ 560., 1492., 1874., 2383.]]), 'labels': tensor([1])})"
            ]
          },
          "metadata": {
            "tags": []
          }
        },
        {
          "output_type": "display_data",
          "data": {
            "text/plain": [
              "(<PIL.JpegImagePlugin.JpegImageFile image mode=RGB size=4000x3000 at 0x7EFDDFE1AC88>,\n",
              " {'boxes': tensor([[1535., 1569., 2397., 2544.]]), 'labels': tensor([1])})"
            ]
          },
          "metadata": {
            "tags": []
          }
        },
        {
          "output_type": "display_data",
          "data": {
            "text/plain": [
              "(<PIL.JpegImagePlugin.JpegImageFile image mode=RGB size=3000x4000 at 0x7EFDDFE1AB38>,\n",
              " {'boxes': tensor([[ 836., 2111., 1560., 2859.]]), 'labels': tensor([1])})"
            ]
          },
          "metadata": {
            "tags": []
          }
        },
        {
          "output_type": "display_data",
          "data": {
            "text/plain": [
              "(<PIL.JpegImagePlugin.JpegImageFile image mode=RGB size=3000x4000 at 0x7EFDDFE1AB70>,\n",
              " {'boxes': tensor([[1550., 1645., 1983., 2202.]]), 'labels': tensor([1])})"
            ]
          },
          "metadata": {
            "tags": []
          }
        },
        {
          "output_type": "display_data",
          "data": {
            "text/plain": [
              "(<PIL.JpegImagePlugin.JpegImageFile image mode=RGB size=3000x4000 at 0x7EFDDFE1AD30>,\n",
              " {'boxes': tensor([[1398., 1721., 1888., 2302.]]), 'labels': tensor([1])})"
            ]
          },
          "metadata": {
            "tags": []
          }
        },
        {
          "output_type": "display_data",
          "data": {
            "text/plain": [
              "(<PIL.JpegImagePlugin.JpegImageFile image mode=RGB size=3000x4000 at 0x7EFDDFE1A9E8>,\n",
              " {'boxes': tensor([[1.0000e+00, 1.5160e+03, 9.1200e+02, 2.3500e+03]]),\n",
              "  'labels': tensor([1])})"
            ]
          },
          "metadata": {
            "tags": []
          }
        },
        {
          "output_type": "display_data",
          "data": {
            "text/plain": [
              "(<PIL.JpegImagePlugin.JpegImageFile image mode=RGB size=3000x4000 at 0x7EFDDFE1A3C8>,\n",
              " {'boxes': tensor([[ 874., 1245., 1864., 2297.]]), 'labels': tensor([1])})"
            ]
          },
          "metadata": {
            "tags": []
          }
        },
        {
          "output_type": "display_data",
          "data": {
            "text/plain": [
              "(<PIL.JpegImagePlugin.JpegImageFile image mode=RGB size=3000x4000 at 0x7EFDDFE1ADD8>,\n",
              " {'boxes': tensor([[ 793., 2021., 1702., 2778.]]), 'labels': tensor([1])})"
            ]
          },
          "metadata": {
            "tags": []
          }
        },
        {
          "output_type": "display_data",
          "data": {
            "text/plain": [
              "(<PIL.JpegImagePlugin.JpegImageFile image mode=RGB size=3000x4000 at 0x7EFDDFE1A748>,\n",
              " {'boxes': tensor([[ 702., 2321., 1912., 3392.]]), 'labels': tensor([1])})"
            ]
          },
          "metadata": {
            "tags": []
          }
        },
        {
          "output_type": "display_data",
          "data": {
            "text/plain": [
              "(<PIL.JpegImagePlugin.JpegImageFile image mode=RGB size=3000x4000 at 0x7EFDDFE1ACF8>,\n",
              " {'boxes': tensor([[ 645., 2826., 1440., 3716.]]), 'labels': tensor([1])})"
            ]
          },
          "metadata": {
            "tags": []
          }
        },
        {
          "output_type": "display_data",
          "data": {
            "text/plain": [
              "(<PIL.JpegImagePlugin.JpegImageFile image mode=RGB size=4000x3000 at 0x7EFDDFE1A898>,\n",
              " {'boxes': tensor([[ 297.,  631., 1176., 1594.]]), 'labels': tensor([1])})"
            ]
          },
          "metadata": {
            "tags": []
          }
        },
        {
          "output_type": "display_data",
          "data": {
            "text/plain": [
              "(<PIL.JpegImagePlugin.JpegImageFile image mode=RGB size=3000x4000 at 0x7EFDDFE1A400>,\n",
              " {'boxes': tensor([[ 974., 1931., 1617., 2864.]]), 'labels': tensor([1])})"
            ]
          },
          "metadata": {
            "tags": []
          }
        },
        {
          "output_type": "display_data",
          "data": {
            "text/plain": [
              "(<PIL.JpegImagePlugin.JpegImageFile image mode=RGB size=3000x4000 at 0x7EFDDFE1A668>,\n",
              " {'boxes': tensor([[ 955., 1645., 1788., 2550.]]), 'labels': tensor([1])})"
            ]
          },
          "metadata": {
            "tags": []
          }
        },
        {
          "output_type": "display_data",
          "data": {
            "text/plain": [
              "(<PIL.JpegImagePlugin.JpegImageFile image mode=RGB size=3000x4000 at 0x7EFDDFE1A2E8>,\n",
              " {'boxes': tensor([[ 874., 1950., 1802., 2573.]]), 'labels': tensor([1])})"
            ]
          },
          "metadata": {
            "tags": []
          }
        },
        {
          "output_type": "display_data",
          "data": {
            "text/plain": [
              "(<PIL.JpegImagePlugin.JpegImageFile image mode=RGB size=3000x4000 at 0x7EFDDFE1AC50>,\n",
              " {'boxes': tensor([[ 412., 1740.,  836., 2226.]]), 'labels': tensor([1])})"
            ]
          },
          "metadata": {
            "tags": []
          }
        },
        {
          "output_type": "display_data",
          "data": {
            "text/plain": [
              "(<PIL.JpegImagePlugin.JpegImageFile image mode=RGB size=3000x4000 at 0x7EFDDFE1ABA8>,\n",
              " {'boxes': tensor([[2255., 1440., 3000., 2515.]]), 'labels': tensor([1])})"
            ]
          },
          "metadata": {
            "tags": []
          }
        },
        {
          "output_type": "display_data",
          "data": {
            "text/plain": [
              "(<PIL.JpegImagePlugin.JpegImageFile image mode=RGB size=3000x4000 at 0x7EFDDFE1A198>,\n",
              " {'boxes': tensor([[ 574., 1811., 1664., 3145.]]), 'labels': tensor([1])})"
            ]
          },
          "metadata": {
            "tags": []
          }
        },
        {
          "output_type": "display_data",
          "data": {
            "text/plain": [
              "(<PIL.JpegImagePlugin.JpegImageFile image mode=RGB size=3000x4000 at 0x7EFDDFE1A5F8>,\n",
              " {'boxes': tensor([[1121., 2388., 2031., 3026.]]), 'labels': tensor([1])})"
            ]
          },
          "metadata": {
            "tags": []
          }
        },
        {
          "output_type": "display_data",
          "data": {
            "text/plain": [
              "(<PIL.JpegImagePlugin.JpegImageFile image mode=RGB size=3000x4000 at 0x7EFDDFE1A518>,\n",
              " {'boxes': tensor([[ 736., 2292., 1260., 3045.]]), 'labels': tensor([1])})"
            ]
          },
          "metadata": {
            "tags": []
          }
        },
        {
          "output_type": "display_data",
          "data": {
            "text/plain": [
              "(<PIL.JpegImagePlugin.JpegImageFile image mode=RGB size=3000x4000 at 0x7EFDDFE1ACC0>,\n",
              " {'boxes': tensor([[ 555., 1902., 1698., 3464.]]), 'labels': tensor([1])})"
            ]
          },
          "metadata": {
            "tags": []
          }
        },
        {
          "output_type": "display_data",
          "data": {
            "text/plain": [
              "(<PIL.JpegImagePlugin.JpegImageFile image mode=RGB size=3000x4000 at 0x7EFDDFE1AA20>,\n",
              " {'boxes': tensor([[1021., 1650., 1793., 2707.]]), 'labels': tensor([1])})"
            ]
          },
          "metadata": {
            "tags": []
          }
        },
        {
          "output_type": "display_data",
          "data": {
            "text/plain": [
              "(<PIL.JpegImagePlugin.JpegImageFile image mode=RGB size=3000x4000 at 0x7EFDDFE1A9B0>,\n",
              " {'boxes': tensor([[1269., 1540., 2098., 2502.]]), 'labels': tensor([1])})"
            ]
          },
          "metadata": {
            "tags": []
          }
        },
        {
          "output_type": "display_data",
          "data": {
            "text/plain": [
              "(<PIL.JpegImagePlugin.JpegImageFile image mode=RGB size=3000x4000 at 0x7EFDDFE1A940>,\n",
              " {'boxes': tensor([[1136., 1735., 1950., 2302.]]), 'labels': tensor([1])})"
            ]
          },
          "metadata": {
            "tags": []
          }
        },
        {
          "output_type": "display_data",
          "data": {
            "text/plain": [
              "(<PIL.JpegImagePlugin.JpegImageFile image mode=RGB size=4000x3000 at 0x7EFDDFE1A160>,\n",
              " {'boxes': tensor([[1618.,  839., 2435., 1969.]]), 'labels': tensor([1])})"
            ]
          },
          "metadata": {
            "tags": []
          }
        },
        {
          "output_type": "display_data",
          "data": {
            "text/plain": [
              "(<PIL.JpegImagePlugin.JpegImageFile image mode=RGB size=3000x4000 at 0x7EFDDFE1A6D8>,\n",
              " {'boxes': tensor([[ 912.,  807., 2498., 2026.]]), 'labels': tensor([1])})"
            ]
          },
          "metadata": {
            "tags": []
          }
        },
        {
          "output_type": "display_data",
          "data": {
            "text/plain": [
              "(<PIL.JpegImagePlugin.JpegImageFile image mode=RGB size=4000x3000 at 0x7EFDDFE1AC18>,\n",
              " {'boxes': tensor([[2114., 1627., 2672., 2044.]]), 'labels': tensor([1])})"
            ]
          },
          "metadata": {
            "tags": []
          }
        },
        {
          "output_type": "display_data",
          "data": {
            "text/plain": [
              "(<PIL.JpegImagePlugin.JpegImageFile image mode=RGB size=3000x4000 at 0x7EFDDFE1A588>,\n",
              " {'boxes': tensor([[ 888., 1631., 1455., 2431.]]), 'labels': tensor([1])})"
            ]
          },
          "metadata": {
            "tags": []
          }
        },
        {
          "output_type": "display_data",
          "data": {
            "text/plain": [
              "(<PIL.JpegImagePlugin.JpegImageFile image mode=RGB size=4000x3000 at 0x7EFDDFE1A438>,\n",
              " {'boxes': tensor([[1881., 1364., 2501., 1769.]]), 'labels': tensor([1])})"
            ]
          },
          "metadata": {
            "tags": []
          }
        },
        {
          "output_type": "display_data",
          "data": {
            "text/plain": [
              "(<PIL.JpegImagePlugin.JpegImageFile image mode=RGB size=3000x4000 at 0x7EFDDFE1A7B8>,\n",
              " {'boxes': tensor([[1236., 1826., 2131., 2469.]]), 'labels': tensor([1])})"
            ]
          },
          "metadata": {
            "tags": []
          }
        },
        {
          "output_type": "display_data",
          "data": {
            "text/plain": [
              "(<PIL.JpegImagePlugin.JpegImageFile image mode=RGB size=3000x4000 at 0x7EFDDFE1AF98>,\n",
              " {'boxes': tensor([[1402., 1192., 1974., 1797.]]), 'labels': tensor([1])})"
            ]
          },
          "metadata": {
            "tags": []
          }
        },
        {
          "output_type": "display_data",
          "data": {
            "text/plain": [
              "(<PIL.JpegImagePlugin.JpegImageFile image mode=RGB size=4000x3000 at 0x7EFDDFE1A320>,\n",
              " {'boxes': tensor([[2089., 1135., 2781., 2023.]]), 'labels': tensor([1])})"
            ]
          },
          "metadata": {
            "tags": []
          }
        },
        {
          "output_type": "display_data",
          "data": {
            "text/plain": [
              "(<PIL.JpegImagePlugin.JpegImageFile image mode=RGB size=3000x4000 at 0x7EFDDFE1A4A8>,\n",
              " {'boxes': tensor([[1174., 2169., 1888., 2726.]]), 'labels': tensor([1])})"
            ]
          },
          "metadata": {
            "tags": []
          }
        },
        {
          "output_type": "display_data",
          "data": {
            "text/plain": [
              "(<PIL.JpegImagePlugin.JpegImageFile image mode=RGB size=4000x3000 at 0x7EFDDFE1A2B0>,\n",
              " {'boxes': tensor([[1485., 1131., 2189., 2048.]]), 'labels': tensor([1])})"
            ]
          },
          "metadata": {
            "tags": []
          }
        },
        {
          "output_type": "display_data",
          "data": {
            "text/plain": [
              "(<PIL.JpegImagePlugin.JpegImageFile image mode=RGB size=3000x4000 at 0x7EFDDFE1A2B0>,\n",
              " {'boxes': tensor([[ 455., 2450., 1393., 3240.]]), 'labels': tensor([1])})"
            ]
          },
          "metadata": {
            "tags": []
          }
        },
        {
          "output_type": "display_data",
          "data": {
            "text/plain": [
              "(<PIL.JpegImagePlugin.JpegImageFile image mode=RGB size=3000x4000 at 0x7EFDDFEA8A90>,\n",
              " {'boxes': tensor([[ 645., 1840., 1379., 2859.]]), 'labels': tensor([1])})"
            ]
          },
          "metadata": {
            "tags": []
          }
        },
        {
          "output_type": "display_data",
          "data": {
            "text/plain": [
              "(<PIL.JpegImagePlugin.JpegImageFile image mode=RGB size=3000x4000 at 0x7EFDDFE1AE10>,\n",
              " {'boxes': tensor([[ 450., 1783., 1626., 2802.]]), 'labels': tensor([1])})"
            ]
          },
          "metadata": {
            "tags": []
          }
        },
        {
          "output_type": "display_data",
          "data": {
            "text/plain": [
              "(<PIL.JpegImagePlugin.JpegImageFile image mode=RGB size=3000x4000 at 0x7EFDDFE1A7B8>,\n",
              " {'boxes': tensor([[1117., 2926., 1440., 3188.]]), 'labels': tensor([1])})"
            ]
          },
          "metadata": {
            "tags": []
          }
        },
        {
          "output_type": "display_data",
          "data": {
            "text/plain": [
              "(<PIL.JpegImagePlugin.JpegImageFile image mode=RGB size=3000x4000 at 0x7EFDDFE1ACF8>,\n",
              " {'boxes': tensor([[1255., 1602., 1821., 1997.]]), 'labels': tensor([1])})"
            ]
          },
          "metadata": {
            "tags": []
          }
        },
        {
          "output_type": "display_data",
          "data": {
            "text/plain": [
              "(<PIL.JpegImagePlugin.JpegImageFile image mode=RGB size=4000x3000 at 0x7EFDDFE1A7B8>,\n",
              " {'boxes': tensor([[ 893., 1373., 2147., 2694.]]), 'labels': tensor([1])})"
            ]
          },
          "metadata": {
            "tags": []
          }
        },
        {
          "output_type": "display_data",
          "data": {
            "text/plain": [
              "(<PIL.JpegImagePlugin.JpegImageFile image mode=RGB size=3000x4000 at 0x7EFDDFE1AA20>,\n",
              " {'boxes': tensor([[ 917., 2040., 1536., 2607.]]), 'labels': tensor([1])})"
            ]
          },
          "metadata": {
            "tags": []
          }
        },
        {
          "output_type": "display_data",
          "data": {
            "text/plain": [
              "(<PIL.JpegImagePlugin.JpegImageFile image mode=RGB size=4000x3000 at 0x7EFDDFE5A438>,\n",
              " {'boxes': tensor([[1872., 1256., 2835., 1960.]]), 'labels': tensor([1])})"
            ]
          },
          "metadata": {
            "tags": []
          }
        },
        {
          "output_type": "display_data",
          "data": {
            "text/plain": [
              "(<PIL.JpegImagePlugin.JpegImageFile image mode=RGB size=3000x4000 at 0x7EFDDFE74F28>,\n",
              " {'boxes': tensor([[ 431., 2688., 1188., 3402.]]), 'labels': tensor([1])})"
            ]
          },
          "metadata": {
            "tags": []
          }
        },
        {
          "output_type": "display_data",
          "data": {
            "text/plain": [
              "(<PIL.JpegImagePlugin.JpegImageFile image mode=RGB size=3000x4000 at 0x7EFDDFE1A748>,\n",
              " {'boxes': tensor([[ 988., 2659., 1445., 3083.]]), 'labels': tensor([1])})"
            ]
          },
          "metadata": {
            "tags": []
          }
        },
        {
          "output_type": "display_data",
          "data": {
            "text/plain": [
              "(<PIL.JpegImagePlugin.JpegImageFile image mode=RGB size=3000x4000 at 0x7EFDDFE1AA20>,\n",
              " {'boxes': tensor([[  60., 2273.,  836., 2988.]]), 'labels': tensor([1])})"
            ]
          },
          "metadata": {
            "tags": []
          }
        },
        {
          "output_type": "display_data",
          "data": {
            "text/plain": [
              "(<PIL.JpegImagePlugin.JpegImageFile image mode=RGB size=3000x4000 at 0x7EFDDFE59F28>,\n",
              " {'boxes': tensor([[1007., 1792., 1502., 2564.]]), 'labels': tensor([1])})"
            ]
          },
          "metadata": {
            "tags": []
          }
        },
        {
          "output_type": "display_data",
          "data": {
            "text/plain": [
              "(<PIL.JpegImagePlugin.JpegImageFile image mode=RGB size=3000x4000 at 0x7EFDDFEA8E10>,\n",
              " {'boxes': tensor([[1107., 2483., 1664., 2897.]]), 'labels': tensor([1])})"
            ]
          },
          "metadata": {
            "tags": []
          }
        },
        {
          "output_type": "display_data",
          "data": {
            "text/plain": [
              "(<PIL.JpegImagePlugin.JpegImageFile image mode=RGB size=4000x3000 at 0x7EFDDFE5A8D0>,\n",
              " {'boxes': tensor([[1710., 1319., 2335., 1952.]]), 'labels': tensor([1])})"
            ]
          },
          "metadata": {
            "tags": []
          }
        },
        {
          "output_type": "display_data",
          "data": {
            "text/plain": [
              "(<PIL.JpegImagePlugin.JpegImageFile image mode=RGB size=3000x4000 at 0x7EFDDFE1ADA0>,\n",
              " {'boxes': tensor([[1198., 1645., 1693., 2226.]]), 'labels': tensor([1])})"
            ]
          },
          "metadata": {
            "tags": []
          }
        },
        {
          "output_type": "display_data",
          "data": {
            "text/plain": [
              "(<PIL.JpegImagePlugin.JpegImageFile image mode=RGB size=3000x4000 at 0x7EFDDFE1A940>,\n",
              " {'boxes': tensor([[1245., 3083., 2069., 3750.]]), 'labels': tensor([1])})"
            ]
          },
          "metadata": {
            "tags": []
          }
        },
        {
          "output_type": "display_data",
          "data": {
            "text/plain": [
              "(<PIL.JpegImagePlugin.JpegImageFile image mode=RGB size=4000x3000 at 0x7EFDDFE1ACC0>,\n",
              " {'boxes': tensor([[2151., 1398., 2856., 2398.]]), 'labels': tensor([1])})"
            ]
          },
          "metadata": {
            "tags": []
          }
        },
        {
          "output_type": "display_data",
          "data": {
            "text/plain": [
              "(<PIL.JpegImagePlugin.JpegImageFile image mode=RGB size=4000x3000 at 0x7EFDDFE1A828>,\n",
              " {'boxes': tensor([[1297., 1714., 1918., 2206.]]), 'labels': tensor([1])})"
            ]
          },
          "metadata": {
            "tags": []
          }
        },
        {
          "output_type": "display_data",
          "data": {
            "text/plain": [
              "(<PIL.JpegImagePlugin.JpegImageFile image mode=RGB size=4000x3000 at 0x7EFDDFE1A5F8>,\n",
              " {'boxes': tensor([[1522., 1481., 2247., 2144.]]), 'labels': tensor([1])})"
            ]
          },
          "metadata": {
            "tags": []
          }
        },
        {
          "output_type": "display_data",
          "data": {
            "text/plain": [
              "(<PIL.JpegImagePlugin.JpegImageFile image mode=RGB size=3000x4000 at 0x7EFDDFE1AA20>,\n",
              " {'boxes': tensor([[1155., 2202., 2631., 3326.]]), 'labels': tensor([1])})"
            ]
          },
          "metadata": {
            "tags": []
          }
        },
        {
          "output_type": "display_data",
          "data": {
            "text/plain": [
              "(<PIL.JpegImagePlugin.JpegImageFile image mode=RGB size=3000x4000 at 0x7EFDDFE1AE48>,\n",
              " {'boxes': tensor([[ 269., 2631., 1450., 3550.]]), 'labels': tensor([1])})"
            ]
          },
          "metadata": {
            "tags": []
          }
        },
        {
          "output_type": "display_data",
          "data": {
            "text/plain": [
              "(<PIL.JpegImagePlugin.JpegImageFile image mode=RGB size=4000x3000 at 0x7EFDDFE1A400>,\n",
              " {'boxes': tensor([[2510., 1639., 3181., 2239.]]), 'labels': tensor([1])})"
            ]
          },
          "metadata": {
            "tags": []
          }
        },
        {
          "output_type": "display_data",
          "data": {
            "text/plain": [
              "(<PIL.JpegImagePlugin.JpegImageFile image mode=RGB size=4000x3000 at 0x7EFDDFE1AC88>,\n",
              " {'boxes': tensor([[1126.,  931., 2901., 2198.]]), 'labels': tensor([1])})"
            ]
          },
          "metadata": {
            "tags": []
          }
        },
        {
          "output_type": "display_data",
          "data": {
            "text/plain": [
              "(<PIL.JpegImagePlugin.JpegImageFile image mode=RGB size=3000x4000 at 0x7EFDDFE1AE10>,\n",
              " {'boxes': tensor([[1188., 2097., 1817., 2592.]]), 'labels': tensor([1])})"
            ]
          },
          "metadata": {
            "tags": []
          }
        },
        {
          "output_type": "display_data",
          "data": {
            "text/plain": [
              "(<PIL.JpegImagePlugin.JpegImageFile image mode=RGB size=3000x4000 at 0x7EFDDFE1AFD0>,\n",
              " {'boxes': tensor([[1231., 2359., 2131., 3059.]]), 'labels': tensor([1])})"
            ]
          },
          "metadata": {
            "tags": []
          }
        },
        {
          "output_type": "display_data",
          "data": {
            "text/plain": [
              "(<PIL.JpegImagePlugin.JpegImageFile image mode=RGB size=4000x3000 at 0x7EFDDFE1AA90>,\n",
              " {'boxes': tensor([[1443., 1239., 2093., 1969.]]), 'labels': tensor([1])})"
            ]
          },
          "metadata": {
            "tags": []
          }
        },
        {
          "output_type": "display_data",
          "data": {
            "text/plain": [
              "(<PIL.JpegImagePlugin.JpegImageFile image mode=RGB size=4000x3000 at 0x7EFDDFE1AB38>,\n",
              " {'boxes': tensor([[ 964., 1181., 1501., 1860.]]), 'labels': tensor([1])})"
            ]
          },
          "metadata": {
            "tags": []
          }
        },
        {
          "output_type": "display_data",
          "data": {
            "text/plain": [
              "(<PIL.JpegImagePlugin.JpegImageFile image mode=RGB size=4000x3000 at 0x7EFDDFE1A438>,\n",
              " {'boxes': tensor([[1264., 1310., 1976., 2223.]]), 'labels': tensor([1])})"
            ]
          },
          "metadata": {
            "tags": []
          }
        },
        {
          "output_type": "display_data",
          "data": {
            "text/plain": [
              "(<PIL.JpegImagePlugin.JpegImageFile image mode=RGB size=3000x4000 at 0x7EFDDFE1ADD8>,\n",
              " {'boxes': tensor([[1.0450e+03, 1.0000e+00, 1.7860e+03, 4.0200e+02]]),\n",
              "  'labels': tensor([1])})"
            ]
          },
          "metadata": {
            "tags": []
          }
        },
        {
          "output_type": "display_data",
          "data": {
            "text/plain": [
              "(<PIL.JpegImagePlugin.JpegImageFile image mode=RGB size=3000x4000 at 0x7EFDDFE1AF98>,\n",
              " {'boxes': tensor([[ 631., 1278., 1464., 2435.]]), 'labels': tensor([1])})"
            ]
          },
          "metadata": {
            "tags": []
          }
        },
        {
          "output_type": "display_data",
          "data": {
            "text/plain": [
              "(<PIL.JpegImagePlugin.JpegImageFile image mode=RGB size=4000x3000 at 0x7EFDDFE1A940>,\n",
              " {'boxes': tensor([[1481.,  819., 2056., 1360.]]), 'labels': tensor([1])})"
            ]
          },
          "metadata": {
            "tags": []
          }
        },
        {
          "output_type": "display_data",
          "data": {
            "text/plain": [
              "(<PIL.JpegImagePlugin.JpegImageFile image mode=RGB size=3000x4000 at 0x7EFDDFE1A6D8>,\n",
              " {'boxes': tensor([[1012.,  611., 2221., 2116.]]), 'labels': tensor([1])})"
            ]
          },
          "metadata": {
            "tags": []
          }
        },
        {
          "output_type": "display_data",
          "data": {
            "text/plain": [
              "(<PIL.JpegImagePlugin.JpegImageFile image mode=RGB size=3000x4000 at 0x7EFDDFE1A4A8>,\n",
              " {'boxes': tensor([[ 507., 1583., 1502., 2373.]]), 'labels': tensor([1])})"
            ]
          },
          "metadata": {
            "tags": []
          }
        },
        {
          "output_type": "display_data",
          "data": {
            "text/plain": [
              "(<PIL.JpegImagePlugin.JpegImageFile image mode=RGB size=4000x3000 at 0x7EFDDFE1ADA0>,\n",
              " {'boxes': tensor([[1822., 1331., 2872., 2806.]]), 'labels': tensor([1])})"
            ]
          },
          "metadata": {
            "tags": []
          }
        },
        {
          "output_type": "display_data",
          "data": {
            "text/plain": [
              "(<PIL.JpegImagePlugin.JpegImageFile image mode=RGB size=4000x3000 at 0x7EFDDFE1ADA0>,\n",
              " {'boxes': tensor([[1764., 1331., 2339., 2148.]]), 'labels': tensor([1])})"
            ]
          },
          "metadata": {
            "tags": []
          }
        },
        {
          "output_type": "display_data",
          "data": {
            "text/plain": [
              "(<PIL.JpegImagePlugin.JpegImageFile image mode=RGB size=4000x3000 at 0x7EFDDFEA8A90>,\n",
              " {'boxes': tensor([[1639.,  389., 2418., 1039.]]), 'labels': tensor([1])})"
            ]
          },
          "metadata": {
            "tags": []
          }
        },
        {
          "output_type": "display_data",
          "data": {
            "text/plain": [
              "(<PIL.JpegImagePlugin.JpegImageFile image mode=RGB size=4000x3000 at 0x7EFDDFE1A7B8>,\n",
              " {'boxes': tensor([[1747., 1214., 2826., 2089.]]), 'labels': tensor([1])})"
            ]
          },
          "metadata": {
            "tags": []
          }
        },
        {
          "output_type": "display_data",
          "data": {
            "text/plain": [
              "(<PIL.JpegImagePlugin.JpegImageFile image mode=RGB size=3000x4000 at 0x7EFDDFE1ABA8>,\n",
              " {'boxes': tensor([[ 812., 2735., 1464., 3345.]]), 'labels': tensor([1])})"
            ]
          },
          "metadata": {
            "tags": []
          }
        },
        {
          "output_type": "display_data",
          "data": {
            "text/plain": [
              "(<PIL.JpegImagePlugin.JpegImageFile image mode=RGB size=4000x3000 at 0x7EFDDFE1A438>,\n",
              " {'boxes': tensor([[1639.,  523., 2693., 1956.]]), 'labels': tensor([1])})"
            ]
          },
          "metadata": {
            "tags": []
          }
        },
        {
          "output_type": "display_data",
          "data": {
            "text/plain": [
              "(<PIL.JpegImagePlugin.JpegImageFile image mode=RGB size=3000x4000 at 0x7EFDDFE74F28>,\n",
              " {'boxes': tensor([[ 912., 2397., 1869., 3102.]]), 'labels': tensor([1])})"
            ]
          },
          "metadata": {
            "tags": []
          }
        },
        {
          "output_type": "display_data",
          "data": {
            "text/plain": [
              "(<PIL.JpegImagePlugin.JpegImageFile image mode=RGB size=3000x4000 at 0x7EFDDFEA8E10>,\n",
              " {'boxes': tensor([[1036., 2021., 2245., 3111.]]), 'labels': tensor([1])})"
            ]
          },
          "metadata": {
            "tags": []
          }
        },
        {
          "output_type": "display_data",
          "data": {
            "text/plain": [
              "(<PIL.JpegImagePlugin.JpegImageFile image mode=RGB size=4000x3000 at 0x7EFDDFE1A668>,\n",
              " {'boxes': tensor([[1.4850e+03, 1.0000e+00, 2.5860e+03, 1.0940e+03]]),\n",
              "  'labels': tensor([1])})"
            ]
          },
          "metadata": {
            "tags": []
          }
        },
        {
          "output_type": "display_data",
          "data": {
            "text/plain": [
              "(<PIL.JpegImagePlugin.JpegImageFile image mode=RGB size=3000x4000 at 0x7EFDDFE1A668>,\n",
              " {'boxes': tensor([[ 698., 1459., 1807., 2611.]]), 'labels': tensor([1])})"
            ]
          },
          "metadata": {
            "tags": []
          }
        },
        {
          "output_type": "display_data",
          "data": {
            "text/plain": [
              "(<PIL.JpegImagePlugin.JpegImageFile image mode=RGB size=4000x3000 at 0x7EFDDFE1A438>,\n",
              " {'boxes': tensor([[2281., 1552., 3068., 2206.]]), 'labels': tensor([1])})"
            ]
          },
          "metadata": {
            "tags": []
          }
        },
        {
          "output_type": "display_data",
          "data": {
            "text/plain": [
              "(<PIL.JpegImagePlugin.JpegImageFile image mode=RGB size=3000x4000 at 0x7EFDDFE1A3C8>,\n",
              " {'boxes': tensor([[ 836., 3031., 1455., 3726.]]), 'labels': tensor([1])})"
            ]
          },
          "metadata": {
            "tags": []
          }
        },
        {
          "output_type": "display_data",
          "data": {
            "text/plain": [
              "(<PIL.JpegImagePlugin.JpegImageFile image mode=RGB size=4000x3000 at 0x7EFDDFE1AB70>,\n",
              " {'boxes': tensor([[1085.,  869., 2226., 2394.]]), 'labels': tensor([1])})"
            ]
          },
          "metadata": {
            "tags": []
          }
        },
        {
          "output_type": "display_data",
          "data": {
            "text/plain": [
              "(<PIL.JpegImagePlugin.JpegImageFile image mode=RGB size=3000x4000 at 0x7EFDDFE1A518>,\n",
              " {'boxes': tensor([[1493., 1650., 2250., 2435.]]), 'labels': tensor([1])})"
            ]
          },
          "metadata": {
            "tags": []
          }
        },
        {
          "output_type": "display_data",
          "data": {
            "text/plain": [
              "(<PIL.JpegImagePlugin.JpegImageFile image mode=RGB size=3000x4000 at 0x7EFDDFE1AB38>,\n",
              " {'boxes': tensor([[1231., 1554., 2498., 2516.]]), 'labels': tensor([1])})"
            ]
          },
          "metadata": {
            "tags": []
          }
        },
        {
          "output_type": "display_data",
          "data": {
            "text/plain": [
              "(<PIL.JpegImagePlugin.JpegImageFile image mode=RGB size=3000x4000 at 0x7EFDDFE1A438>,\n",
              " {'boxes': tensor([[1269., 2940., 1807., 3650.]]), 'labels': tensor([1])})"
            ]
          },
          "metadata": {
            "tags": []
          }
        },
        {
          "output_type": "display_data",
          "data": {
            "text/plain": [
              "(<PIL.JpegImagePlugin.JpegImageFile image mode=RGB size=3000x4000 at 0x7EFDDFE1A400>,\n",
              " {'boxes': tensor([[ 798., 1835., 1740., 2764.]]), 'labels': tensor([1])})"
            ]
          },
          "metadata": {
            "tags": []
          }
        },
        {
          "output_type": "display_data",
          "data": {
            "text/plain": [
              "(<PIL.JpegImagePlugin.JpegImageFile image mode=RGB size=4000x3000 at 0x7EFDDFE1A7B8>,\n",
              " {'boxes': tensor([[2.9680e+03, 1.0000e+00, 3.9390e+03, 4.4400e+02]]),\n",
              "  'labels': tensor([1])})"
            ]
          },
          "metadata": {
            "tags": []
          }
        },
        {
          "output_type": "display_data",
          "data": {
            "text/plain": [
              "(<PIL.JpegImagePlugin.JpegImageFile image mode=RGB size=3000x4000 at 0x7EFDDFE1A6D8>,\n",
              " {'boxes': tensor([[ 940., 1778., 1807., 2426.]]), 'labels': tensor([1])})"
            ]
          },
          "metadata": {
            "tags": []
          }
        },
        {
          "output_type": "display_data",
          "data": {
            "text/plain": [
              "(<PIL.JpegImagePlugin.JpegImageFile image mode=RGB size=4000x3000 at 0x7EFDDFE1A0F0>,\n",
              " {'boxes': tensor([[1597., 1606., 2206., 2335.]]), 'labels': tensor([1])})"
            ]
          },
          "metadata": {
            "tags": []
          }
        },
        {
          "output_type": "display_data",
          "data": {
            "text/plain": [
              "(<PIL.JpegImagePlugin.JpegImageFile image mode=RGB size=3000x4000 at 0x7EFDDFE1A2E8>,\n",
              " {'boxes': tensor([[ 398., 1683., 1536., 2997.]]), 'labels': tensor([1])})"
            ]
          },
          "metadata": {
            "tags": []
          }
        },
        {
          "output_type": "display_data",
          "data": {
            "text/plain": [
              "(<PIL.JpegImagePlugin.JpegImageFile image mode=RGB size=4000x3000 at 0x7EFDDFE1ADD8>,\n",
              " {'boxes': tensor([[2468., 1460., 3393., 2414.]]), 'labels': tensor([1])})"
            ]
          },
          "metadata": {
            "tags": []
          }
        },
        {
          "output_type": "display_data",
          "data": {
            "text/plain": [
              "(<PIL.JpegImagePlugin.JpegImageFile image mode=RGB size=3000x4000 at 0x7EFDDFE1A7B8>,\n",
              " {'boxes': tensor([[ 374., 2140., 1088., 2654.]]), 'labels': tensor([1])})"
            ]
          },
          "metadata": {
            "tags": []
          }
        },
        {
          "output_type": "display_data",
          "data": {
            "text/plain": [
              "(<PIL.JpegImagePlugin.JpegImageFile image mode=RGB size=4000x3000 at 0x7EFDDFE1AC18>,\n",
              " {'boxes': tensor([[1310., 2319., 2689., 3000.]]), 'labels': tensor([1])})"
            ]
          },
          "metadata": {
            "tags": []
          }
        },
        {
          "output_type": "display_data",
          "data": {
            "text/plain": [
              "(<PIL.JpegImagePlugin.JpegImageFile image mode=RGB size=3000x4000 at 0x7EFDDFE1A0F0>,\n",
              " {'boxes': tensor([[ 483., 1964., 1431., 3326.]]), 'labels': tensor([1])})"
            ]
          },
          "metadata": {
            "tags": []
          }
        },
        {
          "output_type": "display_data",
          "data": {
            "text/plain": [
              "(<PIL.JpegImagePlugin.JpegImageFile image mode=RGB size=3000x4000 at 0x7EFDDFE1A3C8>,\n",
              " {'boxes': tensor([[ 874., 2150., 1507., 2873.]]), 'labels': tensor([1])})"
            ]
          },
          "metadata": {
            "tags": []
          }
        },
        {
          "output_type": "display_data",
          "data": {
            "text/plain": [
              "(<PIL.JpegImagePlugin.JpegImageFile image mode=RGB size=3000x4000 at 0x7EFDDFE1A3C8>,\n",
              " {'boxes': tensor([[ 821., 1811., 1269., 2240.]]), 'labels': tensor([1])})"
            ]
          },
          "metadata": {
            "tags": []
          }
        },
        {
          "output_type": "display_data",
          "data": {
            "text/plain": [
              "(<PIL.JpegImagePlugin.JpegImageFile image mode=RGB size=3000x4000 at 0x7EFDDFE1AF28>,\n",
              " {'boxes': tensor([[1402., 1683., 2045., 2559.]]), 'labels': tensor([1])})"
            ]
          },
          "metadata": {
            "tags": []
          }
        },
        {
          "output_type": "display_data",
          "data": {
            "text/plain": [
              "(<PIL.JpegImagePlugin.JpegImageFile image mode=RGB size=3000x4000 at 0x7EFDDFE1A400>,\n",
              " {'boxes': tensor([[1760., 2240., 2136., 2745.]]), 'labels': tensor([1])})"
            ]
          },
          "metadata": {
            "tags": []
          }
        },
        {
          "output_type": "display_data",
          "data": {
            "text/plain": [
              "(<PIL.JpegImagePlugin.JpegImageFile image mode=RGB size=3000x4000 at 0x7EFDDFE1A438>,\n",
              " {'boxes': tensor([[1112., 2192., 1788., 2750.]]), 'labels': tensor([1])})"
            ]
          },
          "metadata": {
            "tags": []
          }
        },
        {
          "output_type": "display_data",
          "data": {
            "text/plain": [
              "(<PIL.JpegImagePlugin.JpegImageFile image mode=RGB size=3000x4000 at 0x7EFDDFE1A898>,\n",
              " {'boxes': tensor([[1231., 3064., 1764., 3878.]]), 'labels': tensor([1])})"
            ]
          },
          "metadata": {
            "tags": []
          }
        },
        {
          "output_type": "display_data",
          "data": {
            "text/plain": [
              "(<PIL.JpegImagePlugin.JpegImageFile image mode=RGB size=3000x4000 at 0x7EFDDFE1A0F0>,\n",
              " {'boxes': tensor([[ 860., 1821., 1802., 3092.]]), 'labels': tensor([1])})"
            ]
          },
          "metadata": {
            "tags": []
          }
        },
        {
          "output_type": "display_data",
          "data": {
            "text/plain": [
              "(<PIL.JpegImagePlugin.JpegImageFile image mode=RGB size=3000x4000 at 0x7EFDDFE1AFD0>,\n",
              " {'boxes': tensor([[ 750., 1511., 1717., 2597.]]), 'labels': tensor([1])})"
            ]
          },
          "metadata": {
            "tags": []
          }
        },
        {
          "output_type": "display_data",
          "data": {
            "text/plain": [
              "(<PIL.JpegImagePlugin.JpegImageFile image mode=RGB size=3000x4000 at 0x7EFDDFE1A2E8>,\n",
              " {'boxes': tensor([[ 655., 1792., 1660., 3126.]]), 'labels': tensor([1])})"
            ]
          },
          "metadata": {
            "tags": []
          }
        },
        {
          "output_type": "display_data",
          "data": {
            "text/plain": [
              "(<PIL.JpegImagePlugin.JpegImageFile image mode=RGB size=3000x4000 at 0x7EFDDFE1A9B0>,\n",
              " {'boxes': tensor([[ 931., 2450., 1883., 3173.]]), 'labels': tensor([1])})"
            ]
          },
          "metadata": {
            "tags": []
          }
        },
        {
          "output_type": "display_data",
          "data": {
            "text/plain": [
              "(<PIL.JpegImagePlugin.JpegImageFile image mode=RGB size=3000x4000 at 0x7EFDDFE1AB38>,\n",
              " {'boxes': tensor([[ 650.,  135., 1902., 1154.]]), 'labels': tensor([1])})"
            ]
          },
          "metadata": {
            "tags": []
          }
        },
        {
          "output_type": "display_data",
          "data": {
            "text/plain": [
              "(<PIL.JpegImagePlugin.JpegImageFile image mode=RGB size=4000x3000 at 0x7EFDDFE1AC88>,\n",
              " {'boxes': tensor([[2856.,  860., 3389., 1531.]]), 'labels': tensor([1])})"
            ]
          },
          "metadata": {
            "tags": []
          }
        },
        {
          "output_type": "display_data",
          "data": {
            "text/plain": [
              "(<PIL.JpegImagePlugin.JpegImageFile image mode=RGB size=4000x3000 at 0x7EFDDFE1AB70>,\n",
              " {'boxes': tensor([[2372., 1314., 3097., 2123.]]), 'labels': tensor([1])})"
            ]
          },
          "metadata": {
            "tags": []
          }
        },
        {
          "output_type": "display_data",
          "data": {
            "text/plain": [
              "(<PIL.JpegImagePlugin.JpegImageFile image mode=RGB size=4000x3000 at 0x7EFDDFE1A898>,\n",
              " {'boxes': tensor([[1326., 2452., 2336., 3000.]]), 'labels': tensor([1])})"
            ]
          },
          "metadata": {
            "tags": []
          }
        },
        {
          "output_type": "display_data",
          "data": {
            "text/plain": [
              "(<PIL.JpegImagePlugin.JpegImageFile image mode=RGB size=4000x3000 at 0x7EFDDFE1AA90>,\n",
              " {'boxes': tensor([[1206., 1306., 2289., 2873.]]), 'labels': tensor([1])})"
            ]
          },
          "metadata": {
            "tags": []
          }
        },
        {
          "output_type": "display_data",
          "data": {
            "text/plain": [
              "(<PIL.JpegImagePlugin.JpegImageFile image mode=RGB size=3000x4000 at 0x7EFDDFE1AEB8>,\n",
              " {'boxes': tensor([[ 512., 2426., 1279., 3183.]]), 'labels': tensor([1])})"
            ]
          },
          "metadata": {
            "tags": []
          }
        },
        {
          "output_type": "display_data",
          "data": {
            "text/plain": [
              "(<PIL.JpegImagePlugin.JpegImageFile image mode=RGB size=3000x4000 at 0x7EFDDFE1A278>,\n",
              " {'boxes': tensor([[ 979., 1388., 2340., 2435.]]), 'labels': tensor([1])})"
            ]
          },
          "metadata": {
            "tags": []
          }
        },
        {
          "output_type": "display_data",
          "data": {
            "text/plain": [
              "(<PIL.JpegImagePlugin.JpegImageFile image mode=RGB size=3000x4000 at 0x7EFDDFE1A198>,\n",
              " {'boxes': tensor([[ 674., 2659., 1498., 3902.]]), 'labels': tensor([1])})"
            ]
          },
          "metadata": {
            "tags": []
          }
        },
        {
          "output_type": "display_data",
          "data": {
            "text/plain": [
              "(<PIL.JpegImagePlugin.JpegImageFile image mode=RGB size=3000x4000 at 0x7EFDDFE1AE48>,\n",
              " {'boxes': tensor([[ 898., 2907., 1831., 3597.]]), 'labels': tensor([1])})"
            ]
          },
          "metadata": {
            "tags": []
          }
        },
        {
          "output_type": "display_data",
          "data": {
            "text/plain": [
              "(<PIL.JpegImagePlugin.JpegImageFile image mode=RGB size=4000x3000 at 0x7EFDDFE1AA90>,\n",
              " {'boxes': tensor([[1818., 1302., 2360., 1677.]]), 'labels': tensor([1])})"
            ]
          },
          "metadata": {
            "tags": []
          }
        },
        {
          "output_type": "display_data",
          "data": {
            "text/plain": [
              "(<PIL.JpegImagePlugin.JpegImageFile image mode=RGB size=3000x4000 at 0x7EFDDFE1AE80>,\n",
              " {'boxes': tensor([[ 764., 2250., 1431., 2721.]]), 'labels': tensor([1])})"
            ]
          },
          "metadata": {
            "tags": []
          }
        },
        {
          "output_type": "display_data",
          "data": {
            "text/plain": [
              "(<PIL.JpegImagePlugin.JpegImageFile image mode=RGB size=3000x4000 at 0x7EFDDFE1A278>,\n",
              " {'boxes': tensor([[ 793., 2283., 1545., 3050.]]), 'labels': tensor([1])})"
            ]
          },
          "metadata": {
            "tags": []
          }
        },
        {
          "output_type": "display_data",
          "data": {
            "text/plain": [
              "(<PIL.JpegImagePlugin.JpegImageFile image mode=RGB size=3000x4000 at 0x7EFDDFE1A198>,\n",
              " {'boxes': tensor([[1045., 2469., 1450., 2973.]]), 'labels': tensor([1])})"
            ]
          },
          "metadata": {
            "tags": []
          }
        },
        {
          "output_type": "display_data",
          "data": {
            "text/plain": [
              "(<PIL.JpegImagePlugin.JpegImageFile image mode=RGB size=4000x3000 at 0x7EFDDFE1AE48>,\n",
              " {'boxes': tensor([[1785., 1198., 2556., 2039.]]), 'labels': tensor([1])})"
            ]
          },
          "metadata": {
            "tags": []
          }
        },
        {
          "output_type": "display_data",
          "data": {
            "text/plain": [
              "(<PIL.JpegImagePlugin.JpegImageFile image mode=RGB size=4000x3000 at 0x7EFDDFE1AE80>,\n",
              " {'boxes': tensor([[1756., 1198., 2964., 2006.]]), 'labels': tensor([1])})"
            ]
          },
          "metadata": {
            "tags": []
          }
        },
        {
          "output_type": "display_data",
          "data": {
            "text/plain": [
              "(<PIL.JpegImagePlugin.JpegImageFile image mode=RGB size=4000x3000 at 0x7EFDDFE1AE80>,\n",
              " {'boxes': tensor([[1756., 1598., 2910., 2298.]]), 'labels': tensor([1])})"
            ]
          },
          "metadata": {
            "tags": []
          }
        },
        {
          "output_type": "display_data",
          "data": {
            "text/plain": [
              "(<PIL.JpegImagePlugin.JpegImageFile image mode=RGB size=3000x4000 at 0x7EFDDFE1AD30>,\n",
              " {'boxes': tensor([[1598., 2883., 2364., 3469.]]), 'labels': tensor([1])})"
            ]
          },
          "metadata": {
            "tags": []
          }
        },
        {
          "output_type": "display_data",
          "data": {
            "text/plain": [
              "(<PIL.JpegImagePlugin.JpegImageFile image mode=RGB size=3000x4000 at 0x7EFDDFE1A940>,\n",
              " {'boxes': tensor([[1221., 2526., 1798., 3331.]]), 'labels': tensor([1])})"
            ]
          },
          "metadata": {
            "tags": []
          }
        },
        {
          "output_type": "display_data",
          "data": {
            "text/plain": [
              "(<PIL.JpegImagePlugin.JpegImageFile image mode=RGB size=3000x4000 at 0x7EFDDFE1A278>,\n",
              " {'boxes': tensor([[ 602., 2254., 1240., 3064.]]), 'labels': tensor([1])})"
            ]
          },
          "metadata": {
            "tags": []
          }
        },
        {
          "output_type": "display_data",
          "data": {
            "text/plain": [
              "(<PIL.JpegImagePlugin.JpegImageFile image mode=RGB size=3000x4000 at 0x7EFDDFE1A320>,\n",
              " {'boxes': tensor([[ 802., 2411., 1569., 3092.]]), 'labels': tensor([1])})"
            ]
          },
          "metadata": {
            "tags": []
          }
        },
        {
          "output_type": "display_data",
          "data": {
            "text/plain": [
              "(<PIL.JpegImagePlugin.JpegImageFile image mode=RGB size=3000x4000 at 0x7EFDDFE1A518>,\n",
              " {'boxes': tensor([[1888., 2583., 2464., 3035.]]), 'labels': tensor([1])})"
            ]
          },
          "metadata": {
            "tags": []
          }
        },
        {
          "output_type": "display_data",
          "data": {
            "text/plain": [
              "(<PIL.JpegImagePlugin.JpegImageFile image mode=RGB size=4000x3000 at 0x7EFDDFE1A160>,\n",
              " {'boxes': tensor([[1.0000e+00, 1.0100e+03, 8.6000e+02, 2.0770e+03]]),\n",
              "  'labels': tensor([1])})"
            ]
          },
          "metadata": {
            "tags": []
          }
        },
        {
          "output_type": "display_data",
          "data": {
            "text/plain": [
              "(<PIL.JpegImagePlugin.JpegImageFile image mode=RGB size=3000x4000 at 0x7EFDDFE1AA20>,\n",
              " {'boxes': tensor([[ 455., 1173., 1088., 1964.]]), 'labels': tensor([1])})"
            ]
          },
          "metadata": {
            "tags": []
          }
        },
        {
          "output_type": "display_data",
          "data": {
            "text/plain": [
              "(<PIL.JpegImagePlugin.JpegImageFile image mode=RGB size=4000x3000 at 0x7EFDDFE1A4A8>,\n",
              " {'boxes': tensor([[1822., 1627., 2381., 2169.]]), 'labels': tensor([1])})"
            ]
          },
          "metadata": {
            "tags": []
          }
        },
        {
          "output_type": "display_data",
          "data": {
            "text/plain": [
              "(<PIL.JpegImagePlugin.JpegImageFile image mode=RGB size=3000x4000 at 0x7EFDDFE1AC18>,\n",
              " {'boxes': tensor([[1117., 2421., 1712., 3235.]]), 'labels': tensor([1])})"
            ]
          },
          "metadata": {
            "tags": []
          }
        },
        {
          "output_type": "display_data",
          "data": {
            "text/plain": [
              "(<PIL.JpegImagePlugin.JpegImageFile image mode=RGB size=3000x4000 at 0x7EFDDFE1A438>,\n",
              " {'boxes': tensor([[ 260., 2750., 1512., 3683.]]), 'labels': tensor([1])})"
            ]
          },
          "metadata": {
            "tags": []
          }
        },
        {
          "output_type": "display_data",
          "data": {
            "text/plain": [
              "(<PIL.JpegImagePlugin.JpegImageFile image mode=RGB size=3000x4000 at 0x7EFDDFE1ACF8>,\n",
              " {'boxes': tensor([[1345., 2207., 1817., 2621.]]), 'labels': tensor([1])})"
            ]
          },
          "metadata": {
            "tags": []
          }
        },
        {
          "output_type": "display_data",
          "data": {
            "text/plain": [
              "(<PIL.JpegImagePlugin.JpegImageFile image mode=RGB size=3000x4000 at 0x7EFDDFE1ACF8>,\n",
              " {'boxes': tensor([[1512., 2178., 1907., 2511.]]), 'labels': tensor([1])})"
            ]
          },
          "metadata": {
            "tags": []
          }
        },
        {
          "output_type": "display_data",
          "data": {
            "text/plain": [
              "(<PIL.JpegImagePlugin.JpegImageFile image mode=RGB size=3000x4000 at 0x7EFDDFE1AA58>,\n",
              " {'boxes': tensor([[1036., 2697., 1602., 3369.]]), 'labels': tensor([1])})"
            ]
          },
          "metadata": {
            "tags": []
          }
        },
        {
          "output_type": "display_data",
          "data": {
            "text/plain": [
              "(<PIL.JpegImagePlugin.JpegImageFile image mode=RGB size=3000x4000 at 0x7EFDDFE5A8D0>,\n",
              " {'boxes': tensor([[ 726., 1378., 1779., 2650.]]), 'labels': tensor([1])})"
            ]
          },
          "metadata": {
            "tags": []
          }
        },
        {
          "output_type": "display_data",
          "data": {
            "text/plain": [
              "(<PIL.JpegImagePlugin.JpegImageFile image mode=RGB size=4000x3000 at 0x7EFDDFE1AFD0>,\n",
              " {'boxes': tensor([[2143., 1056., 2810., 1748.]]), 'labels': tensor([1])})"
            ]
          },
          "metadata": {
            "tags": []
          }
        },
        {
          "output_type": "display_data",
          "data": {
            "text/plain": [
              "(<PIL.JpegImagePlugin.JpegImageFile image mode=RGB size=3000x4000 at 0x7EFDDFE1AB00>,\n",
              " {'boxes': tensor([[1169., 1602., 1764., 2335.]]), 'labels': tensor([1])})"
            ]
          },
          "metadata": {
            "tags": []
          }
        },
        {
          "output_type": "display_data",
          "data": {
            "text/plain": [
              "(<PIL.JpegImagePlugin.JpegImageFile image mode=RGB size=3000x4000 at 0x7EFDDFE1A160>,\n",
              " {'boxes': tensor([[1569.,  640., 2436., 1292.]]), 'labels': tensor([1])})"
            ]
          },
          "metadata": {
            "tags": []
          }
        },
        {
          "output_type": "display_data",
          "data": {
            "text/plain": [
              "(<PIL.JpegImagePlugin.JpegImageFile image mode=RGB size=3000x4000 at 0x7EFDDFE1A198>,\n",
              " {'boxes': tensor([[1198., 1426., 2255., 2226.]]), 'labels': tensor([1])})"
            ]
          },
          "metadata": {
            "tags": []
          }
        },
        {
          "output_type": "display_data",
          "data": {
            "text/plain": [
              "(<PIL.JpegImagePlugin.JpegImageFile image mode=RGB size=3000x4000 at 0x7EFDDFE1AC18>,\n",
              " {'boxes': tensor([[ 379., 1240., 1207., 2331.]]), 'labels': tensor([1])})"
            ]
          },
          "metadata": {
            "tags": []
          }
        },
        {
          "output_type": "display_data",
          "data": {
            "text/plain": [
              "(<PIL.JpegImagePlugin.JpegImageFile image mode=RGB size=3000x4000 at 0x7EFDDFE1AB00>,\n",
              " {'boxes': tensor([[ 569., 3007., 1621., 3811.]]), 'labels': tensor([1])})"
            ]
          },
          "metadata": {
            "tags": []
          }
        },
        {
          "output_type": "display_data",
          "data": {
            "text/plain": [
              "(<PIL.JpegImagePlugin.JpegImageFile image mode=RGB size=4000x3000 at 0x7EFDDFE1AC18>,\n",
              " {'boxes': tensor([[1968., 1235., 2664., 2114.]]), 'labels': tensor([1])})"
            ]
          },
          "metadata": {
            "tags": []
          }
        },
        {
          "output_type": "display_data",
          "data": {
            "text/plain": [
              "(<PIL.JpegImagePlugin.JpegImageFile image mode=RGB size=4000x3000 at 0x7EFDDFE1AB70>,\n",
              " {'boxes': tensor([[1064., 1094., 1822., 2135.]]), 'labels': tensor([1])})"
            ]
          },
          "metadata": {
            "tags": []
          }
        },
        {
          "output_type": "display_data",
          "data": {
            "text/plain": [
              "(<PIL.JpegImagePlugin.JpegImageFile image mode=RGB size=3000x4000 at 0x7EFDDFE1A198>,\n",
              " {'boxes': tensor([[ 302., 1788., 1712., 3440.]]), 'labels': tensor([1])})"
            ]
          },
          "metadata": {
            "tags": []
          }
        },
        {
          "output_type": "display_data",
          "data": {
            "text/plain": [
              "(<PIL.JpegImagePlugin.JpegImageFile image mode=RGB size=4000x3000 at 0x7EFDDFE5A438>,\n",
              " {'boxes': tensor([[1.0000e+00, 9.6900e+02, 7.8100e+02, 2.0710e+03]]),\n",
              "  'labels': tensor([1])})"
            ]
          },
          "metadata": {
            "tags": []
          }
        },
        {
          "output_type": "display_data",
          "data": {
            "text/plain": [
              "(<PIL.JpegImagePlugin.JpegImageFile image mode=RGB size=3000x4000 at 0x7EFDDFEA8E10>,\n",
              " {'boxes': tensor([[ 869.,  988., 2179., 2154.]]), 'labels': tensor([1])})"
            ]
          },
          "metadata": {
            "tags": []
          }
        },
        {
          "output_type": "display_data",
          "data": {
            "text/plain": [
              "(<PIL.JpegImagePlugin.JpegImageFile image mode=RGB size=4000x3000 at 0x7EFDDFE1A0F0>,\n",
              " {'boxes': tensor([[1260., 1094., 1981., 1960.]]), 'labels': tensor([1])})"
            ]
          },
          "metadata": {
            "tags": []
          }
        },
        {
          "output_type": "display_data",
          "data": {
            "text/plain": [
              "(<PIL.JpegImagePlugin.JpegImageFile image mode=RGB size=3000x4000 at 0x7EFDDFE1A0F0>,\n",
              " {'boxes': tensor([[1607., 1392., 2212., 2107.]]), 'labels': tensor([1])})"
            ]
          },
          "metadata": {
            "tags": []
          }
        },
        {
          "output_type": "display_data",
          "data": {
            "text/plain": [
              "(<PIL.JpegImagePlugin.JpegImageFile image mode=RGB size=3000x4000 at 0x7EFDDFE5A8D0>,\n",
              " {'boxes': tensor([[1417.,  645., 2231., 1459.]]), 'labels': tensor([1])})"
            ]
          },
          "metadata": {
            "tags": []
          }
        },
        {
          "output_type": "display_data",
          "data": {
            "text/plain": [
              "(<PIL.JpegImagePlugin.JpegImageFile image mode=RGB size=3000x4000 at 0x7EFDDFE1AB38>,\n",
              " {'boxes': tensor([[ 721., 2250., 1412., 3026.]]), 'labels': tensor([1])})"
            ]
          },
          "metadata": {
            "tags": []
          }
        },
        {
          "output_type": "display_data",
          "data": {
            "text/plain": [
              "(<PIL.JpegImagePlugin.JpegImageFile image mode=RGB size=3000x4000 at 0x7EFDDFE1A940>,\n",
              " {'boxes': tensor([[ 693., 1302., 1769., 2478.]]), 'labels': tensor([1])})"
            ]
          },
          "metadata": {
            "tags": []
          }
        },
        {
          "output_type": "display_data",
          "data": {
            "text/plain": [
              "(<PIL.JpegImagePlugin.JpegImageFile image mode=RGB size=3000x4000 at 0x7EFDDFE1A400>,\n",
              " {'boxes': tensor([[1031., 1788., 1845., 2592.]]), 'labels': tensor([1])})"
            ]
          },
          "metadata": {
            "tags": []
          }
        },
        {
          "output_type": "display_data",
          "data": {
            "text/plain": [
              "(<PIL.JpegImagePlugin.JpegImageFile image mode=RGB size=3000x4000 at 0x7EFDDFE5A438>,\n",
              " {'boxes': tensor([[1760., 3302., 2169., 3926.]]), 'labels': tensor([1])})"
            ]
          },
          "metadata": {
            "tags": []
          }
        },
        {
          "output_type": "display_data",
          "data": {
            "text/plain": [
              "(<PIL.JpegImagePlugin.JpegImageFile image mode=RGB size=4000x3000 at 0x7EFDDFE1AC88>,\n",
              " {'boxes': tensor([[1531., 1156., 2431., 1831.]]), 'labels': tensor([1])})"
            ]
          },
          "metadata": {
            "tags": []
          }
        },
        {
          "output_type": "display_data",
          "data": {
            "text/plain": [
              "(<PIL.JpegImagePlugin.JpegImageFile image mode=RGB size=4000x3000 at 0x7EFDDFE1A7B8>,\n",
              " {'boxes': tensor([[1114.,  910., 1747., 1635.]]), 'labels': tensor([1])})"
            ]
          },
          "metadata": {
            "tags": []
          }
        },
        {
          "output_type": "display_data",
          "data": {
            "text/plain": [
              "(<PIL.JpegImagePlugin.JpegImageFile image mode=RGB size=3000x4000 at 0x7EFDDFE1AF28>,\n",
              " {'boxes': tensor([[ 598., 2464., 1340., 3126.]]), 'labels': tensor([1])})"
            ]
          },
          "metadata": {
            "tags": []
          }
        },
        {
          "output_type": "display_data",
          "data": {
            "text/plain": [
              "(<PIL.JpegImagePlugin.JpegImageFile image mode=RGB size=4000x3000 at 0x7EFDDFE1AF28>,\n",
              " {'boxes': tensor([[1789., 1239., 2643., 2481.]]), 'labels': tensor([1])})"
            ]
          },
          "metadata": {
            "tags": []
          }
        }
      ]
    }
  ]
}