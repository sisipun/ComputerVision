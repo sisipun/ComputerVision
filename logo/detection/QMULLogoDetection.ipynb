{
  "nbformat": 4,
  "nbformat_minor": 0,
  "metadata": {
    "colab": {
      "name": "QMULLogoDetection.ipynb",
      "provenance": [],
      "collapsed_sections": []
    },
    "kernelspec": {
      "name": "python3",
      "display_name": "Python 3"
    },
    "accelerator": "GPU",
    "widgets": {
      "application/vnd.jupyter.widget-state+json": {
        "2cf0c7e239a344ec9102c58d3b806a03": {
          "model_module": "@jupyter-widgets/controls",
          "model_name": "HBoxModel",
          "state": {
            "_view_name": "HBoxView",
            "_dom_classes": [],
            "_model_name": "HBoxModel",
            "_view_module": "@jupyter-widgets/controls",
            "_model_module_version": "1.5.0",
            "_view_count": null,
            "_view_module_version": "1.5.0",
            "box_style": "",
            "layout": "IPY_MODEL_02095ef107b74b92b7fe1da9e5f4f9f5",
            "_model_module": "@jupyter-widgets/controls",
            "children": [
              "IPY_MODEL_83ce126e46a34bc8acc19198a9b08f9b",
              "IPY_MODEL_d5c387d4df244d4181b7db39f1b4b8cd"
            ]
          }
        },
        "02095ef107b74b92b7fe1da9e5f4f9f5": {
          "model_module": "@jupyter-widgets/base",
          "model_name": "LayoutModel",
          "state": {
            "_view_name": "LayoutView",
            "grid_template_rows": null,
            "right": null,
            "justify_content": null,
            "_view_module": "@jupyter-widgets/base",
            "overflow": null,
            "_model_module_version": "1.2.0",
            "_view_count": null,
            "flex_flow": null,
            "width": null,
            "min_width": null,
            "border": null,
            "align_items": null,
            "bottom": null,
            "_model_module": "@jupyter-widgets/base",
            "top": null,
            "grid_column": null,
            "overflow_y": null,
            "overflow_x": null,
            "grid_auto_flow": null,
            "grid_area": null,
            "grid_template_columns": null,
            "flex": null,
            "_model_name": "LayoutModel",
            "justify_items": null,
            "grid_row": null,
            "max_height": null,
            "align_content": null,
            "visibility": null,
            "align_self": null,
            "height": null,
            "min_height": null,
            "padding": null,
            "grid_auto_rows": null,
            "grid_gap": null,
            "max_width": null,
            "order": null,
            "_view_module_version": "1.2.0",
            "grid_template_areas": null,
            "object_position": null,
            "object_fit": null,
            "grid_auto_columns": null,
            "margin": null,
            "display": null,
            "left": null
          }
        },
        "83ce126e46a34bc8acc19198a9b08f9b": {
          "model_module": "@jupyter-widgets/controls",
          "model_name": "IntProgressModel",
          "state": {
            "_view_name": "ProgressView",
            "style": "IPY_MODEL_3004baaf96cf47adacee77c8954d8a8c",
            "_dom_classes": [],
            "description": "100%",
            "_model_name": "IntProgressModel",
            "bar_style": "success",
            "max": 167502836,
            "_view_module": "@jupyter-widgets/controls",
            "_model_module_version": "1.5.0",
            "value": 167502836,
            "_view_count": null,
            "_view_module_version": "1.5.0",
            "orientation": "horizontal",
            "min": 0,
            "description_tooltip": null,
            "_model_module": "@jupyter-widgets/controls",
            "layout": "IPY_MODEL_514a77c594d54df586f397abffef0947"
          }
        },
        "d5c387d4df244d4181b7db39f1b4b8cd": {
          "model_module": "@jupyter-widgets/controls",
          "model_name": "HTMLModel",
          "state": {
            "_view_name": "HTMLView",
            "style": "IPY_MODEL_251309f69d8d4a89a098f38dc63d464c",
            "_dom_classes": [],
            "description": "",
            "_model_name": "HTMLModel",
            "placeholder": "​",
            "_view_module": "@jupyter-widgets/controls",
            "_model_module_version": "1.5.0",
            "value": " 160M/160M [00:14&lt;00:00, 11.4MB/s]",
            "_view_count": null,
            "_view_module_version": "1.5.0",
            "description_tooltip": null,
            "_model_module": "@jupyter-widgets/controls",
            "layout": "IPY_MODEL_77575963009647108105d5165e543b2f"
          }
        },
        "3004baaf96cf47adacee77c8954d8a8c": {
          "model_module": "@jupyter-widgets/controls",
          "model_name": "ProgressStyleModel",
          "state": {
            "_view_name": "StyleView",
            "_model_name": "ProgressStyleModel",
            "description_width": "initial",
            "_view_module": "@jupyter-widgets/base",
            "_model_module_version": "1.5.0",
            "_view_count": null,
            "_view_module_version": "1.2.0",
            "bar_color": null,
            "_model_module": "@jupyter-widgets/controls"
          }
        },
        "514a77c594d54df586f397abffef0947": {
          "model_module": "@jupyter-widgets/base",
          "model_name": "LayoutModel",
          "state": {
            "_view_name": "LayoutView",
            "grid_template_rows": null,
            "right": null,
            "justify_content": null,
            "_view_module": "@jupyter-widgets/base",
            "overflow": null,
            "_model_module_version": "1.2.0",
            "_view_count": null,
            "flex_flow": null,
            "width": null,
            "min_width": null,
            "border": null,
            "align_items": null,
            "bottom": null,
            "_model_module": "@jupyter-widgets/base",
            "top": null,
            "grid_column": null,
            "overflow_y": null,
            "overflow_x": null,
            "grid_auto_flow": null,
            "grid_area": null,
            "grid_template_columns": null,
            "flex": null,
            "_model_name": "LayoutModel",
            "justify_items": null,
            "grid_row": null,
            "max_height": null,
            "align_content": null,
            "visibility": null,
            "align_self": null,
            "height": null,
            "min_height": null,
            "padding": null,
            "grid_auto_rows": null,
            "grid_gap": null,
            "max_width": null,
            "order": null,
            "_view_module_version": "1.2.0",
            "grid_template_areas": null,
            "object_position": null,
            "object_fit": null,
            "grid_auto_columns": null,
            "margin": null,
            "display": null,
            "left": null
          }
        },
        "251309f69d8d4a89a098f38dc63d464c": {
          "model_module": "@jupyter-widgets/controls",
          "model_name": "DescriptionStyleModel",
          "state": {
            "_view_name": "StyleView",
            "_model_name": "DescriptionStyleModel",
            "description_width": "",
            "_view_module": "@jupyter-widgets/base",
            "_model_module_version": "1.5.0",
            "_view_count": null,
            "_view_module_version": "1.2.0",
            "_model_module": "@jupyter-widgets/controls"
          }
        },
        "77575963009647108105d5165e543b2f": {
          "model_module": "@jupyter-widgets/base",
          "model_name": "LayoutModel",
          "state": {
            "_view_name": "LayoutView",
            "grid_template_rows": null,
            "right": null,
            "justify_content": null,
            "_view_module": "@jupyter-widgets/base",
            "overflow": null,
            "_model_module_version": "1.2.0",
            "_view_count": null,
            "flex_flow": null,
            "width": null,
            "min_width": null,
            "border": null,
            "align_items": null,
            "bottom": null,
            "_model_module": "@jupyter-widgets/base",
            "top": null,
            "grid_column": null,
            "overflow_y": null,
            "overflow_x": null,
            "grid_auto_flow": null,
            "grid_area": null,
            "grid_template_columns": null,
            "flex": null,
            "_model_name": "LayoutModel",
            "justify_items": null,
            "grid_row": null,
            "max_height": null,
            "align_content": null,
            "visibility": null,
            "align_self": null,
            "height": null,
            "min_height": null,
            "padding": null,
            "grid_auto_rows": null,
            "grid_gap": null,
            "max_width": null,
            "order": null,
            "_view_module_version": "1.2.0",
            "grid_template_areas": null,
            "object_position": null,
            "object_fit": null,
            "grid_auto_columns": null,
            "margin": null,
            "display": null,
            "left": null
          }
        }
      }
    }
  },
  "cells": [
    {
      "cell_type": "code",
      "metadata": {
        "id": "RUvZRzIIV8XJ",
        "colab_type": "code",
        "outputId": "c68803c2-b53c-4390-9164-46ccc1b9dbe7",
        "colab": {
          "base_uri": "https://localhost:8080/",
          "height": 52
        }
      },
      "source": [
        "!pip install q numpy==1.17"
      ],
      "execution_count": 2,
      "outputs": [
        {
          "output_type": "stream",
          "text": [
            "Requirement already satisfied: q in /usr/local/lib/python3.6/dist-packages (2.6)\n",
            "Requirement already satisfied: numpy==1.17 in /usr/local/lib/python3.6/dist-packages (1.17.0)\n"
          ],
          "name": "stdout"
        }
      ]
    },
    {
      "cell_type": "code",
      "metadata": {
        "id": "duKFp0_xWB9Y",
        "colab_type": "code",
        "colab": {}
      },
      "source": [
        "import re\n",
        "\n",
        "import os\n",
        "from os import listdir\n",
        "from os.path import isfile, join\n",
        "\n",
        "import torch\n",
        "from torch.utils.data import Dataset\n",
        "\n",
        "import torchvision\n",
        "from torchvision import transforms\n",
        "from torchvision import models\n",
        "from torchvision.models.detection.faster_rcnn import FastRCNNPredictor\n",
        "\n",
        "import numpy as np\n",
        "\n",
        "from PIL import Image\n",
        "\n",
        "import xml.etree.ElementTree as ET\n",
        "\n",
        "import matplotlib.pyplot as plt"
      ],
      "execution_count": 0,
      "outputs": []
    },
    {
      "cell_type": "code",
      "metadata": {
        "id": "ohweatISXQ7q",
        "colab_type": "code",
        "colab": {}
      },
      "source": [
        "!wget --load-cookies /tmp/cookies.txt \"https://docs.google.com/uc?export=download&confirm=$(wget --quiet --save-cookies /tmp/cookies.txt --keep-session-cookies --no-check-certificate 'https://docs.google.com/uc?export=download&id=1p1BWofDJOKXqCtO0JPT5VyuIPOsuxOuj' -O- | sed -rn 's/.*confirm=([0-9A-Za-z_]+).*/\\1\\n/p')&id=1p1BWofDJOKXqCtO0JPT5VyuIPOsuxOuj\" -O openlogo.tar && rm -rf /tmp/cookies.txt\n",
        "!tar -xvf openlogo.tar\n",
        "\n",
        "images_folder = \"openlogo/JPEGImages\"\n",
        "annotations_folder = \"openlogo/Annotations\""
      ],
      "execution_count": 0,
      "outputs": []
    },
    {
      "cell_type": "code",
      "metadata": {
        "id": "3mOms3QMWHUg",
        "colab_type": "code",
        "outputId": "846b9919-feb2-4c88-892b-f76153662843",
        "colab": {
          "base_uri": "https://localhost:8080/",
          "height": 352
        }
      },
      "source": [
        "%%shell\n",
        "\n",
        "git clone https://github.com/pytorch/vision.git\n",
        "cd vision\n",
        "git checkout v0.3.0\n",
        "\n",
        "cp references/detection/utils.py ../\n",
        "cp references/detection/transforms.py ../\n",
        "cp references/detection/coco_eval.py ../\n",
        "cp references/detection/engine.py ../\n",
        "cp references/detection/coco_utils.py ../"
      ],
      "execution_count": 0,
      "outputs": [
        {
          "output_type": "stream",
          "text": [
            "Cloning into 'vision'...\n",
            "remote: Enumerating objects: 20, done.\u001b[K\n",
            "remote: Counting objects: 100% (20/20), done.\u001b[K\n",
            "remote: Compressing objects: 100% (19/19), done.\u001b[K\n",
            "remote: Total 7231 (delta 6), reused 9 (delta 1), pack-reused 7211\u001b[K\n",
            "Receiving objects: 100% (7231/7231), 9.91 MiB | 9.75 MiB/s, done.\n",
            "Resolving deltas: 100% (4884/4884), done.\n",
            "Note: checking out 'v0.3.0'.\n",
            "\n",
            "You are in 'detached HEAD' state. You can look around, make experimental\n",
            "changes and commit them, and you can discard any commits you make in this\n",
            "state without impacting any branches by performing another checkout.\n",
            "\n",
            "If you want to create a new branch to retain commits you create, you may\n",
            "do so (now or later) by using -b with the checkout command again. Example:\n",
            "\n",
            "  git checkout -b <new-branch-name>\n",
            "\n",
            "HEAD is now at be37608 version check against PyTorch's CUDA version\n"
          ],
          "name": "stdout"
        },
        {
          "output_type": "execute_result",
          "data": {
            "text/plain": [
              ""
            ]
          },
          "metadata": {
            "tags": []
          },
          "execution_count": 4
        }
      ]
    },
    {
      "cell_type": "code",
      "metadata": {
        "id": "f2rVDD-wWIr-",
        "colab_type": "code",
        "colab": {}
      },
      "source": [
        "device = torch.device('cuda:0')"
      ],
      "execution_count": 0,
      "outputs": []
    },
    {
      "cell_type": "code",
      "metadata": {
        "id": "V3Ejf17kWLkV",
        "colab_type": "code",
        "colab": {}
      },
      "source": [
        "image_pattern = re.compile(r'^(?P<key>\\w+)\\.jpg$')\n",
        "annotation_pattern = re.compile(r'^(?P<key>\\w+)\\.xml$')\n",
        "\n",
        "class LogoDetectionDataset(Dataset):\n",
        "  \n",
        "  def __init__(self, image_folder, annotation_folder, transform=None):\n",
        "    self.image_folder = image_folder\n",
        "    self.annotation_folder = annotation_folder\n",
        "    self.transform = transform\n",
        "    self.image_names = self.__get_file_names__(image_folder, image_pattern)\n",
        "    self.annotation_names = self.__get_file_names__(annotation_folder, annotation_pattern)\n",
        "\n",
        "    self.keys = sorted(list(set(self.image_names.keys()) & set(self.annotation_names.keys())))\n",
        "  \n",
        "  def __len__(self):\n",
        "    return len(self.keys)\n",
        "\n",
        "  def __getitem__(self, index): \n",
        "    key = self.keys[index]\n",
        "\n",
        "    image_name = self.image_names[key]\n",
        "    annotation_name = self.annotation_names[key]\n",
        "\n",
        "    image_path = os.path.join(self.image_folder, image_name)\n",
        "    annotation_path = os.path.join(self.annotation_folder, annotation_name)\n",
        "\n",
        "    img = Image.open(image_path).convert('RGB')\n",
        "    target = self.__get_target__(annotation_path, index)\n",
        "\n",
        "    if self.transform:\n",
        "      img, target = self.transform(img, target)\n",
        "\n",
        "    return img, target\n",
        "\n",
        "  def __get_target__(self, annotation_path, index):\n",
        "    target = {}\n",
        "    boxes = []\n",
        "    root = ET.parse(annotation_path).getroot()\n",
        "    for bndbox in root.findall('object/bndbox'):\n",
        "      xmin = int(bndbox[0].text)\n",
        "      ymin = int(bndbox[1].text)\n",
        "      xmax = int(bndbox[2].text)\n",
        "      ymax = int(bndbox[3].text)\n",
        "      boxes.append((xmin, ymin, xmax, ymax))\n",
        "\n",
        "    boxes = torch.as_tensor(boxes, dtype=torch.float32)\n",
        "    num_objs = len(boxes)\n",
        "    labels = torch.ones((num_objs), dtype=torch.int64)\n",
        "    img_id = torch.tensor([index])\n",
        "    area = (boxes[:, 3] - boxes[:, 1]) * (boxes[:, 2] - boxes[:, 0])\n",
        "    iscrowd = torch.zeros((num_objs,), dtype=torch.int64)\n",
        "\n",
        "    target['boxes'] = boxes\n",
        "    target['labels'] = labels\n",
        "    target['image_id'] = img_id\n",
        "    target['area'] = area\n",
        "    target['iscrowd'] = iscrowd\n",
        "    return target\n",
        "\n",
        "  def __get_file_names__(self, folder, file_name_pattern):\n",
        "    file_names = {}\n",
        "    for f in listdir(folder):\n",
        "      match = file_name_pattern.match(f)\n",
        "      if not match:\n",
        "        continue\n",
        "      \n",
        "      num = match.group('key')\n",
        "      if num == '':\n",
        "        continue\n",
        "      \n",
        "      file_names[num] = f\n",
        "\n",
        "    return file_names"
      ],
      "execution_count": 0,
      "outputs": []
    },
    {
      "cell_type": "code",
      "metadata": {
        "id": "QlPUt2hSW-LF",
        "colab_type": "code",
        "colab": {}
      },
      "source": [
        "from engine import train_one_epoch, evaluate\n",
        "import utils\n",
        "import transforms\n",
        "\n",
        "tfs = transforms.Compose([\n",
        "                          transforms.ToTensor(),                       \n",
        "                       ])\n",
        "\n",
        "num_classes = 2\n",
        "batch_size = 4\n",
        "\n",
        "dataset = LogoDetectionDataset(images_folder, annotations_folder, transform=tfs)\n",
        "orig_dataset = LogoDetectionDataset(images_folder, annotations_folder)\n",
        "\n",
        "validation_size = .3\n",
        "\n",
        "data_size = len(dataset)\n",
        "split = int(np.floor(validation_size * data_size))\n",
        "indices = list(range(data_size))\n",
        "np.random.shuffle(indices)\n",
        "\n",
        "val_indices, train_indices = indices[:split], indices[split:]\n",
        "\n",
        "train_sampler = torch.utils.data.sampler.SubsetRandomSampler(train_indices)\n",
        "val_sampler = torch.utils.data.sampler.SubsetRandomSampler(val_indices)\n",
        "\n",
        "train_loader = torch.utils.data.DataLoader(dataset, batch_size=batch_size, \n",
        "                                           sampler=train_sampler, collate_fn=utils.collate_fn)\n",
        "val_loader = torch.utils.data.DataLoader(dataset, batch_size=1, \n",
        "                                         sampler=val_sampler, collate_fn=utils.collate_fn)"
      ],
      "execution_count": 0,
      "outputs": []
    },
    {
      "cell_type": "code",
      "metadata": {
        "id": "R4Bg9n8XXHNP",
        "colab_type": "code",
        "outputId": "dd1ccf3c-7f63-48c6-a045-d997af589d85",
        "colab": {
          "base_uri": "https://localhost:8080/",
          "height": 104,
          "referenced_widgets": [
            "2cf0c7e239a344ec9102c58d3b806a03",
            "02095ef107b74b92b7fe1da9e5f4f9f5",
            "83ce126e46a34bc8acc19198a9b08f9b",
            "d5c387d4df244d4181b7db39f1b4b8cd",
            "3004baaf96cf47adacee77c8954d8a8c",
            "514a77c594d54df586f397abffef0947",
            "251309f69d8d4a89a098f38dc63d464c",
            "77575963009647108105d5165e543b2f"
          ]
        }
      },
      "source": [
        "model = models.detection.fasterrcnn_resnet50_fpn(pretrained=True)\n",
        "\n",
        "in_features = model.roi_heads.box_predictor.cls_score.in_features\n",
        "model.roi_heads.box_predictor = FastRCNNPredictor(in_features, num_classes)\n",
        "model.to(device)\n",
        "\n",
        "params = [p for p in model.parameters() if p.requires_grad]\n",
        "optimizer = torch.optim.SGD(params, lr=0.005,\n",
        "                            momentum=0.9, weight_decay=0.0005)\n",
        "\n",
        "lr_scheduler = torch.optim.lr_scheduler.StepLR(optimizer,\n",
        "                                               step_size=3,\n",
        "                                               gamma=0.1)"
      ],
      "execution_count": 0,
      "outputs": [
        {
          "output_type": "stream",
          "text": [
            "Downloading: \"https://download.pytorch.org/models/fasterrcnn_resnet50_fpn_coco-258fb6c6.pth\" to /root/.cache/torch/checkpoints/fasterrcnn_resnet50_fpn_coco-258fb6c6.pth\n"
          ],
          "name": "stderr"
        },
        {
          "output_type": "display_data",
          "data": {
            "application/vnd.jupyter.widget-view+json": {
              "model_id": "2cf0c7e239a344ec9102c58d3b806a03",
              "version_minor": 0,
              "version_major": 2
            },
            "text/plain": [
              "HBox(children=(IntProgress(value=0, max=167502836), HTML(value='')))"
            ]
          },
          "metadata": {
            "tags": []
          }
        },
        {
          "output_type": "stream",
          "text": [
            "\n"
          ],
          "name": "stdout"
        }
      ]
    },
    {
      "cell_type": "code",
      "metadata": {
        "id": "EZ7wvuN4XIrZ",
        "colab_type": "code",
        "colab": {}
      },
      "source": [
        "num_epochs = 5\n",
        "\n",
        "for epoch in range(num_epochs):\n",
        "  train_one_epoch(model, optimizer, train_loader, device, epoch, print_freq=10)\n",
        "  lr_scheduler.step()\n",
        "  torch.save(model, \".\")\n",
        "  #evaluate(model, val_loader, device=device)"
      ],
      "execution_count": 0,
      "outputs": []
    },
    {
      "cell_type": "code",
      "metadata": {
        "id": "N41GmFgUXOoE",
        "colab_type": "code",
        "colab": {}
      },
      "source": [
        "model.eval()\n",
        "count = 5\n",
        "plt.figure(figsize=(count * 5,5))\n",
        "for i_step, (images, targets) in enumerate(val_loader):\n",
        "  if i_step == count:\n",
        "    break\n",
        "    \n",
        "  val_image = list(image.to(device) for image in images)\n",
        "  prediction = model(val_image)[0]\n",
        "\n",
        "  image_id = int(targets[0]['image_id'])\n",
        "  image, target = orig_dataset[image_id]\n",
        "\n",
        "  boxes = target['boxes']\n",
        "  predict_boxes = prediction['boxes']\n",
        "  predict_labels = prediction['labels']\n",
        "\n",
        "  plt.subplot(1, count, i_step + 1)\n",
        "  plt.imshow(image)\n",
        "\n",
        "  for box in boxes:\n",
        "    x = [box[0], box[2]]\n",
        "    y = [box[1], box[3]]\n",
        "    plt.plot(x, y, marker = 'o', label='Correct')\n",
        "  for i, box in enumerate(predict_boxes):\n",
        "    x = [box[0], box[2]]\n",
        "    y = [box[1], box[3]]\n",
        "    predict_label = int(predict_labels[i])\n",
        "    view_label = 'Box - %d Label - %d' % (i, predict_label)\n",
        "    plt.plot(x, y, marker = 'o', label=view_label)\n",
        "\n",
        "  plt.grid(False)\n",
        "  plt.axis('off')\n",
        "  plt.legend()  "
      ],
      "execution_count": 0,
      "outputs": []
    }
  ]
}